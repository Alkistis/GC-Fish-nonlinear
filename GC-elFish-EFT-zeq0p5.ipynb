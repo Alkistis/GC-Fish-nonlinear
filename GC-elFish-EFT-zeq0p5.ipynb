{
 "cells": [
  {
   "cell_type": "markdown",
   "metadata": {},
   "source": [
    "# EFTofLSS Fisher forecasts on GC multipoles at z=0.5"
   ]
  },
  {
   "cell_type": "code",
   "execution_count": 1,
   "metadata": {},
   "outputs": [],
   "source": [
    "# Name this run - this will determine the name for the file into which the covariance matrix will be saved\n",
    "runname = 'el024_mcmcfids_EFT'"
   ]
  },
  {
   "cell_type": "markdown",
   "metadata": {},
   "source": [
    "## Set up the notebook"
   ]
  },
  {
   "cell_type": "code",
   "execution_count": 2,
   "metadata": {},
   "outputs": [],
   "source": [
    "# Import the science packages/libraries\n",
    "from __future__ import division\n",
    "from __future__ import print_function\n",
    "import numpy as np\n",
    "import scipy, scipy.interpolate, scipy.misc, scipy.integrate, scipy.stats\n",
    "import elgc\n",
    "import getdist, getdist.plots, IPython\n",
    "from matplotlib.patches import Patch\n",
    "from matplotlib.lines import Line2D\n",
    "\n",
    "import os.path as op\n",
    "import matplotlib.pyplot as plt"
   ]
  },
  {
   "cell_type": "code",
   "execution_count": 3,
   "metadata": {},
   "outputs": [],
   "source": [
    "# Set plotting and printing\n",
    "\n",
    "%matplotlib inline\n",
    "\n",
    "font = {'size'   : 16, 'family':'STIXGeneral'}\n",
    "axislabelfontsize='x-large'\n",
    "plt.rc('font', **font)\n",
    "plt.rcParams['text.usetex'] = True\n",
    "\n",
    "np.set_printoptions(precision=3,linewidth=200,suppress=False)\n",
    "\n",
    "from matplotlib.patches import Ellipse"
   ]
  },
  {
   "cell_type": "code",
   "execution_count": 4,
   "metadata": {},
   "outputs": [
    {
     "name": "stdout",
     "output_type": "stream",
     "text": [
      "['f', 'b', 'b2', 'N', 'cs0', 'cs2', 'cs4']\n"
     ]
    }
   ],
   "source": [
    "# Main question for the Fisher matrix calculation: which parameters are we varying?\n",
    "# Note that this list determines the order in the output FM as well\n",
    "\n",
    "#NB: the cs0, cs2, cs4 params here are actually the cs squared (like in the MCMC)\n",
    "varypars = ['f','b','b2','N','cs0','cs2','cs4']\n",
    "\n",
    "print(varypars)"
   ]
  },
  {
   "cell_type": "markdown",
   "metadata": {},
   "source": [
    "## Set up the fiducial model for the Fisher matrix calculation"
   ]
  },
  {
   "cell_type": "code",
   "execution_count": 5,
   "metadata": {},
   "outputs": [],
   "source": [
    "#Fiducial (GR-COLA) cosmology \n",
    "#from cos.rtf file (changed some params names here)\n",
    "\n",
    "zbin = 0.5\n",
    "\n",
    "c=3e5\n",
    "hubble = 0.697\n",
    "H00 = 100*hubble\n",
    "Tcmb = 2.726\n",
    "ns = 0.971\n",
    "om0 = 0.281\n",
    "omb = 0.046\n",
    "sigma80_fid = 0.844 #this is sigma8 at z=0\n",
    "\n",
    "#Mean MCMC values for EFT at z=0.5 \n",
    "fg_fid = 0.7042\n",
    "b_fid = 1.468\n",
    "b2_fid = -0.2756\n",
    "N_fid = 816.1 \n",
    "#NB: the cs0, cs2, cs4 params here are actually the cs squared (like in the MCMC)\n",
    "cs0_fid = 7.650\n",
    "cs2_fid = 2.978\n",
    "cs4_fid = 24.40\n",
    "\n",
    "#kmax at z=0.5 for multipoles: 0,2,4 \n",
    "kmax = [0.245, 0.245,0.129]"
   ]
  },
  {
   "cell_type": "code",
   "execution_count": 6,
   "metadata": {},
   "outputs": [
    {
     "name": "stdout",
     "output_type": "stream",
     "text": [
      "ps column names: ('k', 'pl', 'pdd', 'pdt', 'ptt', 'sv', 'plnw', 'pddres', 'pdtres', 'pttres', 'ANW')\n",
      "abc column names: ('k', 'bu2f2nw', 'bu2f3nw', 'bu4f2nw', 'bu4f3nw', 'bu6f3nw', 'b2u2f1nw', 'b2u2f2nw', 'b2u2f3nw', 'b2u2f4nw', 'b2u4f2nw', 'b2u4f3nw', 'b2u4f4nw', 'b2u6f3nw', 'b2u6f4nw', 'b2u8f4nw', 'u2f4nw', 'u4f3nw', 'u4f4nw', 'u6f3nw', 'u6f4nw', 'u8f4nw')\n",
      "bias column names: ('k', 'ddb0b2nw', 'ddb02nw', 'ddb0nw', 'ddb22nw', 'ddb2nw', 'ddnonenw', 'dtb2nw', 'dtb0nw', 'dtnonenw')\n"
     ]
    }
   ],
   "source": [
    "#k values are the same in all files ### Paths to input files\n",
    "PATHTOINPUTFILES = op.abspath('./inputs/')\n",
    "\n",
    "# Function to read the output files from MG-COPTER\n",
    "def read_copter(path,suffix=''):\n",
    "    \n",
    "    #naming files (following the Mathematica notebook)\n",
    "    psfile = ('eft_ps_components_nw'+suffix+'.dat')\n",
    "    abcfile = ('eft_abc_components'+suffix+'.dat')\n",
    "    biasfile = ('eft_bias_components'+suffix+'.dat')\n",
    "    \n",
    "    # set the names of the columns (following the Mathematica notebook)\n",
    "    pscolnames = 'k', 'pl', 'pdd', 'pdt', 'ptt', 'sv', 'plnw', 'pddres', 'pdtres', 'pttres','ANW'\n",
    "    abccolnames = 'k', 'bu2f2nw', 'bu2f3nw', 'bu4f2nw', 'bu4f3nw', 'bu6f3nw', 'b2u2f1nw', 'b2u2f2nw', 'b2u2f3nw',\\\n",
    "    'b2u2f4nw', 'b2u4f2nw', 'b2u4f3nw', 'b2u4f4nw', 'b2u6f3nw', 'b2u6f4nw', 'b2u8f4nw', 'u2f4nw', 'u4f3nw', 'u4f4nw',\\\n",
    "    'u6f3nw', 'u6f4nw', 'u8f4nw' \n",
    "    biascolnames = 'k', 'ddb0b2nw', 'ddb02nw', 'ddb0nw', 'ddb22nw', 'ddb2nw', 'ddnonenw', 'dtb2nw', 'dtb0nw', 'dtnonenw'\n",
    "    \n",
    "    return np.genfromtxt(op.join(path,psfile), names=pscolnames),\\\n",
    "           np.genfromtxt(op.join(path,abcfile), names=abccolnames),\\\n",
    "           np.genfromtxt(op.join(path,biasfile), names=biascolnames)\n",
    "\n",
    "# use numpy to read the whole files, the options will make the\n",
    "# resulting object act a bit like a dictionary (a structured array)\n",
    "# so we can query columns by name\n",
    "ps_fid, abc_fid, bias_fid = read_copter(op.join(PATHTOINPUTFILES,'data_fid'),'_fid')\n",
    "print ('ps column names:', ps_fid.dtype.names )# let's print the names to check\n",
    "print ('abc column names:', abc_fid.dtype.names) # let's print the names to check\n",
    "print ('bias column names:', bias_fid.dtype.names) # let's print the names to check"
   ]
  },
  {
   "cell_type": "code",
   "execution_count": 7,
   "metadata": {},
   "outputs": [],
   "source": [
    "sv_fid = ps_fid['sv'][0] \n",
    "ANW = ps_fid['ANW'][0]"
   ]
  },
  {
   "cell_type": "markdown",
   "metadata": {},
   "source": [
    "## Set up the survey properties"
   ]
  },
  {
   "cell_type": "code",
   "execution_count": 8,
   "metadata": {},
   "outputs": [],
   "source": [
    "### Set up survey with volume 4 Gpc^3/h^3\n",
    "\n",
    "Area = 15000.0*1.06 #deg^2 \n",
    "Dzbin = 0.2\n",
    "z_vals = np.array([zbin]) \n",
    "Nzbin = len(z_vals)\n",
    "\n",
    "#set kmin \n",
    "kmin = 0.006"
   ]
  },
  {
   "cell_type": "code",
   "execution_count": 9,
   "metadata": {},
   "outputs": [
    {
     "name": "stdout",
     "output_type": "stream",
     "text": [
      "401\n"
     ]
    }
   ],
   "source": [
    "#construct array of mu values between -1 and 1 (inclusive)\n",
    "mu_step = 0.005\n",
    "mu = mu_step*np.arange((2/mu_step)+1)-1.\n",
    "#print ('mu array', mu)\n",
    "print (len(mu)) # Note that this has to be large enough to convert to multipoles!\n",
    "\n",
    "# Select multipoles\n",
    "MLPS = [0,2,4]"
   ]
  },
  {
   "cell_type": "markdown",
   "metadata": {},
   "source": [
    "## Define cosmology functions: background and perturbations"
   ]
  },
  {
   "cell_type": "code",
   "execution_count": 10,
   "metadata": {},
   "outputs": [
    {
     "name": "stdout",
     "output_type": "stream",
     "text": [
      "0.733197112933542 0.7784487714884997\n"
     ]
    }
   ],
   "source": [
    "# Functions for DE later\n",
    "def w_integrand(z,w0=-1.,wa=0.):\n",
    "    return (1 + w0+wa*z/(z+1)) / (1+z)\n",
    "def DE_evo(zc,w0=-1.,wa=0.): \n",
    "    return np.exp(3*scipy.integrate.romberg(lambda z: w_integrand(z,w0,wa), 0, zc))\n",
    "\n",
    "# Define E(z) = H(z)/H0\n",
    "def Ez(zc,w0=-1.,wa=0.):\n",
    "    return np.sqrt((1-om0)*DE_evo(zc,w0,wa) + om0*pow(1+zc,3))\n",
    "\n",
    "# LCDM growth rate and growth factor\n",
    "def fg(zz,w0=-1.,wa=0.,gamma=0.55):\n",
    "    omz=om0*pow(1+zz,3)/pow(Ez(zz,w0,wa),2)\n",
    "    return pow(omz,gamma)\n",
    "\n",
    "def Dg_dz(zz,w0=-1.,wa=0.,gamma=0.55):\n",
    "    return -fg(zz,w0,wa)/(1+zz)\n",
    "\n",
    "def Dgz(zz,w0=-1.,wa=0.,gamma=0.55):\n",
    "    start_z = 0.0\n",
    "    ans = scipy.integrate.romberg(lambda z: Dg_dz(z,w0,wa), start_z, zz)\n",
    "    return np.exp(ans)\n",
    "\n",
    "nz = 100\n",
    "fg_fid_interp = np.zeros(nz)\n",
    "Dg_fid_interp = np.zeros(nz)\n",
    "z_for_interp = np.linspace(0,2,nz)\n",
    "for i,z in enumerate(z_for_interp):\n",
    "    fg_fid_interp[i] = fg(z)\n",
    "    Dg_fid_interp[i] = Dgz(z)\n",
    "\n",
    "fg_fid_i = scipy.interpolate.interp1d(z_for_interp,fg_fid_interp,kind='cubic')\n",
    "Dg_fid_i = scipy.interpolate.interp1d(z_for_interp,Dg_fid_interp,kind='cubic')\n",
    "del z_for_interp, Dg_fid_interp, fg_fid_interp, i, z\n",
    "print (fg_fid_i(zbin), Dg_fid_i(zbin))"
   ]
  },
  {
   "cell_type": "code",
   "execution_count": 11,
   "metadata": {},
   "outputs": [
    {
     "name": "stdout",
     "output_type": "stream",
     "text": [
      "3.994\n"
     ]
    }
   ],
   "source": [
    "#Define E(z)=H(z)/H0\n",
    "def Ez(zc):\n",
    "    return np.sqrt(1-om0+om0*pow(1+zc,3))\n",
    "\n",
    "#Define the comoving distance\n",
    "def drdz(zp):\n",
    "    return (c/H00)/Ez(zp)\n",
    "def rcom(zc):\n",
    "    return scipy.integrate.romberg(drdz,0,zc)\n",
    "def DA(zc):\n",
    "    return rcom(zc)/(1+zc)\n",
    "\n",
    "def Vsur(zc): #  (the hubble**3 factor is for units consistency)\n",
    "    z_min = zc-Dzbin/2\n",
    "    DA_min = DA(z_min)\n",
    "    z_max = zc+Dzbin/2\n",
    "    DA_max = DA(z_max)\n",
    "    \n",
    "    F = (4.*np.pi/3.) / (4.*np.pi*(180./np.pi)**2)   \n",
    "    return F * (DA_max**3 *(1+z_max)**3 - DA_min**3 *(1+z_min)**3) * hubble**3 * Area\n",
    "\n",
    "print(round(Vsur(zbin)/1e9,3))"
   ]
  },
  {
   "cell_type": "code",
   "execution_count": 12,
   "metadata": {},
   "outputs": [],
   "source": [
    "#construct the P_lin in 2d (i.e. in k-mu space) needed for the linear covariance used in the MCMC\n",
    "def P_lin(mu_array,f,sig8_z=sigma80_fid*Dg_fid_i(zbin),ps=ps_fid):\n",
    "    muones = mu_array**0.\n",
    "    k_array = ps['k']\n",
    "    \n",
    "    D = sig8_z/sigma80_fid #every term that contains D, contains the same power of sigma80_fid\n",
    "    \n",
    "    blin = 1.46 \n",
    "    \n",
    "    res = blin**2*D**2*np.outer(ps['pl'],muones) + (f/blin)**2*blin**2*D**2*np.outer(ps['pl'],mu_array**4)\\\n",
    "    + 2.*(f/blin)*blin**2*D**2*np.outer(ps['pl'],mu_array**2)\n",
    "                \n",
    "    return res"
   ]
  },
  {
   "cell_type": "code",
   "execution_count": 13,
   "metadata": {},
   "outputs": [
    {
     "name": "stdout",
     "output_type": "stream",
     "text": [
      "900 300\n",
      "k are preserved: True\n"
     ]
    }
   ],
   "source": [
    "#construct the P_EFT in 2d (i.e. in k-mu space)\n",
    "def Peft_2d(mu_array,f,\n",
    "         b=b_fid,b2=b2_fid,N=N_fid,\n",
    "         cs0=cs0_fid,cs2=cs2_fid,cs4=cs4_fid,sv=sv_fid,\n",
    "         sig8_z=sigma80_fid*Dg_fid_i(zbin),\n",
    "         ps=ps_fid,abc=abc_fid,bias=bias_fid):\n",
    "    muones = mu_array**0.\n",
    "    k_array = ps['k']\n",
    "    \n",
    "    D = sig8_z/sigma80_fid #every term that contains D, contains the same power of sigma80_fid\n",
    "    \n",
    "    #resummation part\n",
    "    pddresum = D**2 * ps['plnw'] + D**4 * ps['pddres']\\\n",
    "    + np.exp(-0.5*ps['k']**2*D**2*ANW) * ( D**2 * ps['pl'] + D**4 * ps['pdd'] - (D**2*ps['plnw'] + D**4*ps['pddres'])\\\n",
    "                                         +0.5*ps['k']**2*D**2*ANW*(D**2*(ps['pl']-ps['plnw'])))\n",
    "   \n",
    "    pdtresum = D**2 * f * ps['plnw'] + D**4 * f * ps['pdtres']\\\n",
    "    + np.exp(-0.5*ps['k']**2*D**2*ANW) * ( D**2 * f * ps['pl'] + D**4 * f * ps['pdt'] - (D**2*f*ps['plnw'] + D**4*f*ps['pdtres'])\\\n",
    "                                         +0.5*ps['k']**2*D**2*ANW*(f*D**2*(ps['pl']-ps['plnw'])))\n",
    "    \n",
    "    pttresum = D**2 * f**2 * ps['plnw'] + D**4 * f**2 * ps['pttres']\\\n",
    "    + np.exp(-0.5*ps['k']**2*D**2*ANW) * ( D**2 * f**2 * ps['pl'] + D**4 * f**2 * ps['ptt'] - (D**2*f**2*ps['plnw'] + D**4*f**2*ps['pttres'])\\\n",
    "                                         +0.5*ps['k']**2*D**2*ANW*(f**2*D**2*(ps['pl']-ps['plnw'])))\n",
    "    \n",
    "    #total power spectrum\n",
    "    FoG = (1 - f**2*np.outer(k_array**2,mu_array**2)*D**2*sv_fid)\\\n",
    "             \n",
    "    res = FoG\\\n",
    "    *((b**2*np.outer(pddresum,muones)\\\n",
    "    + D**4*(b*b2*np.outer(bias['ddb0b2nw'],muones) + b**2*np.outer(bias['ddb02nw'],muones)\\\n",
    "    + b*np.outer(bias['ddb0nw'],muones) + b2**2*np.outer(bias['ddb22nw'],muones)\\\n",
    "    + b2*np.outer(bias['ddb2nw'],muones) + np.outer(bias['ddnonenw'],muones)) + N \n",
    "    + 2*(b*np.outer(pdtresum,mu_array**2))\\\n",
    "    - 2*D**4*f*(b2*np.outer(bias['dtb2nw'],mu_array**2) + b*np.outer(bias['dtb0nw'],mu_array**2) + np.outer(bias['dtnonenw'],mu_array**2)))\\\n",
    "    + np.outer(pttresum,mu_array**4))\\\n",
    "    + D**4*( b*f**2*np.outer(abc['bu2f2nw'],mu_array**2) + b*f**3*np.outer(abc['bu2f3nw'],mu_array**2)\\\n",
    "    + b*f**2*np.outer(abc['bu4f2nw'],mu_array**4)+b*f**3*np.outer(abc['bu4f3nw'],mu_array**4)\\\n",
    "    + b*f**3*np.outer(abc['bu6f3nw'],mu_array**6)+b**2*f*np.outer(abc['b2u2f1nw'],mu_array**2)\\\n",
    "    + b**2*f**2*np.outer(abc['b2u2f2nw'],mu_array**2)+b**2*f**3*np.outer(abc['b2u2f3nw'],mu_array**2)\\\n",
    "    + b**2*f**4*np.outer(abc['b2u2f4nw'],mu_array**2) + b**2*f**2*np.outer(abc['b2u4f2nw'],mu_array**4)\\\n",
    "    + b**2*f**3*np.outer(abc['b2u4f3nw'],mu_array**4) + b**2*f**4*np.outer(abc['b2u4f4nw'],mu_array**4)\\\n",
    "    + b**2*f**3*np.outer(abc['b2u6f3nw'],mu_array**6) + b**2*f**4*np.outer(abc['b2u6f4nw'],mu_array**6)\\\n",
    "    + b**2*f**4*np.outer(abc['b2u8f4nw'],mu_array**8) + f**4*np.outer(abc['u2f4nw'],mu_array**2)\\\n",
    "    + f**3*np.outer(abc['u4f3nw'],mu_array**4) + f**4*np.outer(abc['u4f4nw'],mu_array**4)\\\n",
    "    + f**3*np.outer(abc['u6f3nw'],mu_array**6) + f**4*np.outer(abc['u6f4nw'],mu_array**6)\\\n",
    "    + f**4*np.outer(abc['u8f4nw'],mu_array**8) )\\\n",
    "    - 2.*D**2*( np.outer(k_array**2*ps['plnw'],muones)*cs0 + np.outer(k_array**2*ps['plnw'],cs2*mu_array**2)\\\n",
    "    + np.outer(k_array**2*ps['plnw'],cs4*mu_array**4) + np.outer(k_array**2*ps['plnw'],muones)\\\n",
    "    *(f**3*cs0 - f**2*cs2 + f*cs4)*mu_array**6)\n",
    "        \n",
    "    return res\n",
    "\n",
    "#print(Peft_2d(mu,fg_fid))\n",
    "\n",
    "# Now convert to multipoles\n",
    "def Peft(f,b=b_fid,b2=b2_fid,N=N_fid,\n",
    "         cs0=cs0_fid,cs2=cs2_fid,cs4=cs4_fid,sv=sv_fid,\n",
    "         sig8_z=sigma80_fid*Dg_fid_i(zbin),\n",
    "         ps=ps_fid,abc=abc_fid,bias=bias_fid):\n",
    "    \n",
    "    pk2d = Peft_2d(mu,f,b,b2,N,cs0,cs2,cs4,sv,sig8_z,ps,abc,bias)\n",
    "    \n",
    "    return elgc.pkto1d(ps['k'],mu,pk2d,MLPS)\n",
    "\n",
    "k_test, plk_test = Peft(fg_fid)\n",
    "print (len(k_test),len(ps_fid['k']))\n",
    "print ('k are preserved:',(elgc.get_k_once(k_test)==ps_fid['k']).all())\n",
    "#plt.plot(k_test,plk_test,'.')\n",
    "#plt.show()\n",
    "#del k_test, plk_test"
   ]
  },
  {
   "cell_type": "code",
   "execution_count": 14,
   "metadata": {},
   "outputs": [
    {
     "name": "stdout",
     "output_type": "stream",
     "text": [
      "(900, 900)\n",
      "[[1106.96     0.       0.    ...    0.       0.       0.   ]\n",
      " [   0.      27.222    0.    ...    0.       0.       0.   ]\n",
      " [   0.       0.       9.367 ...    0.       0.       0.   ]\n",
      " ...\n",
      " [   0.       0.       0.    ...  104.19     0.       0.   ]\n",
      " [   0.       0.       0.    ...    0.     104.973    0.   ]\n",
      " [   0.       0.       0.    ...    0.       0.     105.765]]\n"
     ]
    }
   ],
   "source": [
    "# Save the k-array nicely for later\n",
    "k_once = ps_fid['k']\n",
    "k_long = []\n",
    "for l in MLPS:\n",
    "    k_long = np.concatenate((k_long,k_once))\n",
    "\n",
    "# Effective volume: basically Vsur*Cov^(-1)\n",
    "nbar = 1e-3 #h^3/Mpc^3\n",
    "def Veff(zc):\n",
    "    n = nbar    \n",
    "    Pkmu = P_lin(mu,fg_fid) #linear covariance \n",
    "    C = elgc.covll_reduced(k_once,mu,Pkmu,n,MLPS)\n",
    "    return Vsur(zc) * np.linalg.inv(C)\n",
    "\n",
    "veff = Veff(z_vals[0]) # save for later (we really only need to calculate this once per redshift)\n",
    "print (veff.shape)\n",
    "\n",
    "# This looks like it is twice the size of the 2d case \n",
    "# (but this is compensated for by an extra factor of 1/2 in the Fisher matrix)\n",
    "print (veff) "
   ]
  },
  {
   "cell_type": "markdown",
   "metadata": {},
   "source": [
    "## Define how to calculate the derivatives with respect to parameters we wish to vary"
   ]
  },
  {
   "cell_type": "code",
   "execution_count": 15,
   "metadata": {},
   "outputs": [],
   "source": [
    "#Construct the derivatives wrt the bias and EFT parameters\n",
    "\n",
    "#choose the step (convergent derivatives)\n",
    "params_step = 1e-5\n",
    "\n",
    "#Derivative wrt b\n",
    "def dPeft_db():\n",
    "    \n",
    "    P_bp = Peft(fg_fid,b_fid*(1+params_step),b2_fid,N_fid,\n",
    "                 cs0_fid,cs2_fid,cs4_fid,sv_fid,\n",
    "                 sigma80_fid*Dg_fid_i(zbin),ps=ps_fid,abc=abc_fid,bias=bias_fid)[1]\n",
    "    P_bm = Peft(fg_fid,b_fid*(1-params_step),b2_fid,N_fid,\n",
    "                 cs0_fid,cs2_fid,cs4_fid,sv_fid,\n",
    "                 sigma80_fid*Dg_fid_i(zbin),ps=ps_fid,abc=abc_fid,bias=bias_fid)[1]\n",
    "    \n",
    "    deriv_b = (P_bp - P_bm)/(2*b_fid*params_step)\n",
    "    \n",
    "    return deriv_b\n",
    "    \n",
    "    \n",
    "#Derivative wrt b2\n",
    "def dPeft_db2():\n",
    "   \n",
    "    P_b2p = Peft(fg_fid,b_fid,b2_fid*(1+params_step),N_fid,\n",
    "                 cs0_fid,cs2_fid,cs4_fid,sv_fid,\n",
    "                 sigma80_fid*Dg_fid_i(zbin),ps=ps_fid,abc=abc_fid,bias=bias_fid)[1] \n",
    "    P_b2m = Peft(fg_fid,b_fid,b2_fid*(1-params_step),N_fid,\n",
    "                 cs0_fid,cs2_fid,cs4_fid,sv_fid,\n",
    "                 sigma80_fid*Dg_fid_i(zbin),ps=ps_fid,abc=abc_fid,bias=bias_fid)[1] \n",
    "    \n",
    "    deriv_b2 = (P_b2p - P_b2m)/(2*b2_fid*params_step)\n",
    "    \n",
    "    \n",
    "    return deriv_b2\n",
    "\n",
    "#Derivative wrt N\n",
    "def dPeft_dN():\n",
    "    P_Np = Peft(fg_fid,b_fid,b2_fid,N_fid*(1+params_step),\n",
    "                 cs0_fid,cs2_fid,cs4_fid,sv_fid,\n",
    "                 sigma80_fid*Dg_fid_i(zbin),ps=ps_fid,abc=abc_fid,bias=bias_fid)[1]\n",
    "    P_Nm = Peft(fg_fid,b_fid,b2_fid,N_fid*(1-params_step),\n",
    "                 cs0_fid,cs2_fid,cs4_fid,sv_fid,\n",
    "                 sigma80_fid*Dg_fid_i(zbin),ps=ps_fid,abc=abc_fid,bias=bias_fid)[1]\n",
    "    \n",
    "    deriv_N = (P_Np - P_Nm)/(2*N_fid*params_step)\n",
    "            \n",
    "    return deriv_N\n",
    "\n",
    "#Derivative wrt cs0 \n",
    "def dPeft_dcs0(): \n",
    "    P_cs0p = Peft(fg_fid,b_fid,b2_fid,N_fid,\n",
    "                 cs0_fid*(1+params_step),cs2_fid,cs4_fid,sv_fid,\n",
    "                 sigma80_fid*Dg_fid_i(zbin),ps=ps_fid,abc=abc_fid,bias=bias_fid)[1]\n",
    "    P_cs0m = Peft(fg_fid,b_fid,b2_fid,N_fid,\n",
    "                 cs0_fid*(1-params_step),cs2_fid,cs4_fid,sv_fid,\n",
    "                 sigma80_fid*Dg_fid_i(zbin),ps=ps_fid,abc=abc_fid,bias=bias_fid)[1]\n",
    "    \n",
    "    deriv_cs0 = (P_cs0p - P_cs0m)/(2*cs0_fid*params_step)\n",
    "    \n",
    "    return deriv_cs0\n",
    "\n",
    "#Derivative wrt cs2\n",
    "def dPeft_dcs2(): \n",
    "    P_cs2p = Peft(fg_fid,b_fid,b2_fid,N_fid,\n",
    "                 cs0_fid,cs2_fid*(1+params_step),cs4_fid,sv_fid,\n",
    "                 sigma80_fid*Dg_fid_i(zbin),ps=ps_fid,abc=abc_fid,bias=bias_fid)[1]\n",
    "    P_cs2m = Peft(fg_fid,b_fid,b2_fid,N_fid,\n",
    "                 cs0_fid,cs2_fid*(1-params_step),cs4_fid,sv_fid,\n",
    "                 sigma80_fid*Dg_fid_i(zbin),ps=ps_fid,abc=abc_fid,bias=bias_fid)[1]\n",
    "    \n",
    "    deriv_cs2 = (P_cs2p - P_cs2m)/(2*cs2_fid*params_step)\n",
    "    \n",
    "    return deriv_cs2\n",
    "\n",
    "#Derivative wrt cs4\n",
    "def dPeft_dcs4(): \n",
    "    P_cs4p = Peft(fg_fid,b_fid,b2_fid,N_fid,\n",
    "                 cs0_fid,cs2_fid,cs4_fid*(1+params_step),sv_fid,\n",
    "                 sigma80_fid*Dg_fid_i(zbin),ps=ps_fid,abc=abc_fid,bias=bias_fid)[1]\n",
    "    P_cs4m = Peft(fg_fid,b_fid,b2_fid,N_fid,\n",
    "                 cs0_fid,cs2_fid,cs4_fid*(1-params_step),sv_fid,\n",
    "                 sigma80_fid*Dg_fid_i(zbin),ps=ps_fid,abc=abc_fid,bias=bias_fid)[1]\n",
    "    \n",
    "    deriv_cs4 = (P_cs4p - P_cs4m)/(2*cs4_fid*params_step)\n",
    "    \n",
    "    return deriv_cs4\n",
    "\n",
    "#Derivative wrt f\n",
    "def dPeft_df():\n",
    "    P_fp = Peft(fg_fid*(1+params_step),b_fid,b2_fid,N_fid,\n",
    "                 cs0_fid,cs2_fid,cs4_fid,sv_fid,\n",
    "                 sigma80_fid*Dg_fid_i(zbin),ps=ps_fid,abc=abc_fid,bias=bias_fid)[1]\n",
    "    P_fm = Peft(fg_fid*(1-params_step),b_fid,b2_fid,N_fid,\n",
    "                 cs0_fid,cs2_fid,cs4_fid,sv_fid,\n",
    "                 sigma80_fid*Dg_fid_i(zbin),ps=ps_fid,abc=abc_fid,bias=bias_fid)[1]\n",
    "    \n",
    "    deriv_f = (P_fp - P_fm)/(2*fg_fid*params_step)\n",
    "    \n",
    "    return deriv_f"
   ]
  },
  {
   "cell_type": "markdown",
   "metadata": {},
   "source": [
    "## Set up the Fisher matrix calculation and run to loop to calculate its elements"
   ]
  },
  {
   "cell_type": "code",
   "execution_count": 16,
   "metadata": {},
   "outputs": [
    {
     "name": "stdout",
     "output_type": "stream",
     "text": [
      "[0.245, 0.245, 0.129]\n",
      "900 -> 450 or 450\n"
     ]
    }
   ],
   "source": [
    "k_step = k_once[6] - k_once[5] \n",
    "\n",
    "# k values range to include in the constraints calculation\n",
    "k_index = np.zeros(len(k_long),dtype=int)\n",
    "for il,l in enumerate(MLPS):\n",
    "    k_index+= (k_long<kmax[il]) * elgc.get_l_boolindex(il,k_long)# kmax for monopole\n",
    "k_index*= k_long>kmin   # And all have to be larger than minimum\n",
    "k_index = k_index.astype(bool)\n",
    "\n",
    "#print (k_index)\n",
    "print (kmax)\n",
    "print (len(k_long),'->',np.sum(k_index),'or',len(k_long[k_index]))\n",
    "\n",
    "#plt.plot(k_long[k_index],plk_test[k_index],'.')\n",
    "#plt.show()"
   ]
  },
  {
   "cell_type": "code",
   "execution_count": 17,
   "metadata": {},
   "outputs": [
    {
     "name": "stdout",
     "output_type": "stream",
     "text": [
      "[]\n"
     ]
    }
   ],
   "source": [
    "# This dictionary contains all the parameters that can be varied in this code.\n",
    "derivs = {\n",
    "    'b'  : lambda z: dPeft_db(),\n",
    "    'b2' : lambda z: dPeft_db2(),\n",
    "    'N'  : lambda z: dPeft_dN(),\n",
    "    'cs0': lambda z: dPeft_dcs0(),\n",
    "    'cs2': lambda z: dPeft_dcs2(),\n",
    "    'cs4': lambda z: dPeft_dcs4(),\n",
    "    'f'  : lambda z: dPeft_df()\n",
    "}\n",
    "            \n",
    "# Which should depend on redshift\n",
    "zdep = 'b','b2','N','cs0','cs2','cs4','f'\n",
    "\n",
    "# Which ones are independent of redshift and should appear in the FM once (summ over z contributions)\n",
    "zidep = [i for i in derivs.keys() if i not in zdep]\n",
    "print (zidep)"
   ]
  },
  {
   "cell_type": "code",
   "execution_count": 18,
   "metadata": {},
   "outputs": [],
   "source": [
    "#print(dPeft_df())"
   ]
  },
  {
   "cell_type": "code",
   "execution_count": 19,
   "metadata": {},
   "outputs": [],
   "source": [
    "# Auxiliary bits needed for Fisher matrix calculation\n",
    "\n",
    "# Create array of zeros for the final FM\n",
    "Nzdep = len(set(zdep)&set(varypars))\n",
    "Npar = len(varypars)\n",
    "s = Nzdep*Nzbin + (Npar-Nzdep)\n",
    "Fishermat = np.zeros([s,s])\n",
    "\n",
    "# Fisher matrix integrand - to be integrated over k and summed over l\n",
    "# Do the whole sum together in one big matrix operation\n",
    "def dF(zc,veff):\n",
    "    di = deriv_i(zc)[k_index]*k_long[k_index]\n",
    "    dj = deriv_j(zc)[k_index]*k_long[k_index]\n",
    "    tmp = np.dot(di,veff[k_index,:][:,k_index])\n",
    "    tmp = np.dot(tmp,dj)\n",
    "    return tmp*k_step/(4*np.pi**2)"
   ]
  },
  {
   "cell_type": "code",
   "execution_count": 20,
   "metadata": {},
   "outputs": [],
   "source": [
    "#%%time \n",
    "# We could optimize this still by precalculating the derivatives\n",
    "\n",
    "# Save the indexing for posterity\n",
    "fm_index = {'b' :[],'b2':[],'N' :[],'cs0':[],'cs2':[],'cs4':[],'f' :[]}\n",
    "\n",
    "fm_head = []\n",
    "\n",
    "# Loop over redshift bins\n",
    "for iz, zc in enumerate(z_vals):\n",
    "    \n",
    "    veff = Veff(zc) # Let's not calculate this for every parameter - it stays the same at each redshift!\n",
    "    \n",
    "    # First loop over parameters (rows of the FM)\n",
    "    for i, pi in enumerate(varypars): \n",
    "        \n",
    "        # Calculate row index for the Fisher matrix\n",
    "        if pi in zdep:\n",
    "            zind = iz*Nzdep + i\n",
    "        else:\n",
    "            zind = Nzbin*Nzdep + (i-Nzdep)\n",
    "                \n",
    "        # Set the i derivative in dF to correspond to the row parameter\n",
    "        def deriv_i(zc): return derivs[pi](zc)\n",
    "\n",
    "        # Second loop over parameters (columns of the FM)\n",
    "        for j, pj in enumerate(varypars):\n",
    "            \n",
    "            # Calculate column index for the Fisher matrix\n",
    "            if pj in zdep:\n",
    "                zjnd = iz*Nzdep + j\n",
    "            else:\n",
    "                zjnd = Nzbin*Nzdep + (j-Nzdep)\n",
    "            \n",
    "            # If not done yet, set the j derivative in dF to correspond to the column parameter\n",
    "            if j>=i:\n",
    "                \n",
    "                def deriv_j(zc): return derivs[pj](zc)\n",
    "                \n",
    "                Fishermat[zind,zjnd] += dF(zc,veff)\n",
    "            \n",
    "            # Otherwise just take the symmetric value\n",
    "            else: \n",
    "                Fishermat[zind,zjnd] = Fishermat[zjnd,zind]\n",
    "        \n",
    "        # Finally, save the index in the FM (same redshift order as z_vals)\n",
    "        fm_index[pi].append(zind) # Only doing i, since it is symmetric\n",
    "        \n",
    "        # Save also the order of the colmns/rows\n",
    "        headstr = pi\n",
    "        if pi in zdep: headstr+='_'+str(zc)\n",
    "        fm_head.append(headstr)"
   ]
  },
  {
   "cell_type": "markdown",
   "metadata": {},
   "source": [
    "## Print out results"
   ]
  },
  {
   "cell_type": "code",
   "execution_count": 21,
   "metadata": {},
   "outputs": [
    {
     "data": {
      "application/javascript": [
       "IPython.OutputArea.prototype._should_scroll = function(lines) {\n",
       "    return false;\n",
       "}\n"
      ],
      "text/plain": [
       "<IPython.core.display.Javascript object>"
      ]
     },
     "metadata": {},
     "output_type": "display_data"
    }
   ],
   "source": [
    "%%javascript\n",
    "IPython.OutputArea.prototype._should_scroll = function(lines) {\n",
    "    return false;\n",
    "}"
   ]
  },
  {
   "cell_type": "code",
   "execution_count": 22,
   "metadata": {},
   "outputs": [],
   "source": [
    "# Create a fiducial value dictionary\n",
    "fids = {\n",
    "    'b'  : b_fid*np.ones(Nzbin),   \n",
    "    'b2' : b2_fid*np.ones(Nzbin),  \n",
    "    'N'  : N_fid*np.ones(Nzbin),   \n",
    "    'cs0': cs0_fid*np.ones(Nzbin), \n",
    "    'cs2': cs2_fid*np.ones(Nzbin), \n",
    "    'cs4': cs4_fid*np.ones(Nzbin), \n",
    "    'f'  : fg_fid*np.ones(Nzbin)\n",
    "}"
   ]
  },
  {
   "cell_type": "code",
   "execution_count": 23,
   "metadata": {},
   "outputs": [
    {
     "name": "stdout",
     "output_type": "stream",
     "text": [
      "Order of columns/rows:\n",
      "['f_0.5', 'b_0.5', 'b2_0.5', 'N_0.5', 'cs0_0.5', 'cs2_0.5', 'cs4_0.5']\n",
      "\n",
      "Correlation matrix for parameters:\n",
      "\n",
      "[[ 1.    -0.451 -0.506  0.344 -0.567  0.131  0.211]\n",
      " [-0.451  1.     0.967 -0.987 -0.253  0.412  0.391]\n",
      " [-0.506  0.967  1.    -0.965 -0.082  0.383  0.287]\n",
      " [ 0.344 -0.987 -0.965  1.     0.329 -0.456 -0.426]\n",
      " [-0.567 -0.253 -0.082  0.329  1.    -0.564 -0.401]\n",
      " [ 0.131  0.412  0.383 -0.456 -0.564  1.    -0.328]\n",
      " [ 0.211  0.391  0.287 -0.426 -0.401 -0.328  1.   ]]\n",
      "\n",
      "Correlation matrix diagonal:\n",
      "\n",
      "[5.741e-04 1.147e-03 4.537e-01 1.075e+06 6.652e+00 3.441e+01 8.465e+00]\n"
     ]
    }
   ],
   "source": [
    "print ('Order of columns/rows:')\n",
    "print (fm_head)\n",
    "#print 'Fisher matrix:\\n',\n",
    "#print Fishermat\n",
    "\n",
    "# Invert the Fisher matrix to get the parameter covariance\n",
    "CovMat = np.linalg.inv(Fishermat)\n",
    "print ('\\nCorrelation matrix for parameters:\\n', )\n",
    "print (CovMat/np.sqrt(np.outer(np.diag(CovMat),np.diag(CovMat))))\n",
    "\n",
    "print ('\\nCorrelation matrix diagonal:\\n', )\n",
    "print( np.diag(CovMat))"
   ]
  },
  {
   "cell_type": "code",
   "execution_count": 24,
   "metadata": {},
   "outputs": [
    {
     "name": "stdout",
     "output_type": "stream",
     "text": [
      "\n",
      "varying zdep = \n",
      "\t ['f', 'b', 'b2', 'N', 'cs0', 'cs2', 'cs4']\n",
      "at z = 0.5 : zdep fiducials = \n",
      "\t [ 7.042e-01  1.468e+00 -2.756e-01  8.161e+02  7.650e+00  2.978e+00  2.440e+01]\n",
      "at z = 0.5 : marged err = \n",
      "\t [2.396e-02 3.387e-02 6.736e-01 1.037e+03 2.579e+00 5.866e+00 2.909e+00]\n",
      "at z = 0.5 : unmarged err = \n",
      "\t [2.771e-03 1.092e-03 5.724e-03 7.241e+00 6.360e-02 2.516e-01 1.689e-01]\n",
      "at z = 0.5 : marged % err = \n",
      "\t [  3.403   2.307 244.396 127.016  33.713 196.991  11.924]\n",
      "at z = 0.5 : unmarged % err = \n",
      "\t [0.394 0.074 2.077 0.887 0.831 8.447 0.692]\n"
     ]
    }
   ],
   "source": [
    "# Print the errors nicely\n",
    "Nvar  = len(varypars)\n",
    "\n",
    "varyshape = list(set(zidep)&set(varypars))\n",
    "if len(varyshape)>0:\n",
    "    shapeind = [fm_index[p][0] for p in varyshape]\n",
    "    shapefid = np.array([fids[p] for p in varyshape])\n",
    "    print ('\\nvarying shape = \\n\\t', varyshape)\n",
    "    print ('shape fiducials = \\n\\t', shapefid)\n",
    "    print ('unmarged err = \\n\\t', np.sqrt(1./np.diag(Fishermat))[shapeind])\n",
    "    print ('marged err = \\n\\t', np.sqrt(np.diag(CovMat))[shapeind])\n",
    "    print ('unmarged % err = \\n\\t', np.sqrt(1./np.diag(Fishermat))[shapeind]/np.abs(shapefid)*100)\n",
    "    print ('marged % err = \\n\\t', np.sqrt(np.diag(CovMat))[shapeind]/np.abs(shapefid)*100)\n",
    "\n",
    "#varyzdep = list(set(varypars)&set(zdep))\n",
    "varyzdep = varypars\n",
    "\n",
    "zdepfid = np.array([fids[p] for p in varyzdep])\n",
    "print ('\\nvarying zdep = \\n\\t', varyzdep)\n",
    "if len(varyzdep)>0:\n",
    "    for iz, z in enumerate(z_vals):\n",
    "        zdepind = np.array([fm_index[p] for p in varyzdep])\n",
    "        print ('at z =',z,': zdep fiducials = \\n\\t', zdepfid[:,iz])\n",
    "        merrs = np.sqrt(np.diag(CovMat))[zdepind[:,iz]]\n",
    "        print ('at z =',z,': marged err = \\n\\t', merrs)\n",
    "        uerrs = np.sqrt(1./np.diag(Fishermat))[zdepind[:,iz]]\n",
    "        print ('at z =',z,': unmarged err = \\n\\t', uerrs)\n",
    "        print ('at z =',z,': marged % err = \\n\\t', merrs/np.abs(zdepfid[:,iz])*100.)\n",
    "        print ('at z =',z,': unmarged % err = \\n\\t', uerrs/np.abs(zdepfid[:,iz])*100.)"
   ]
  },
  {
   "cell_type": "code",
   "execution_count": 25,
   "metadata": {},
   "outputs": [
    {
     "data": {
      "image/png": "[encoded data removed]",
      "text/plain": [
       "<Figure size 432x288 with 2 Axes>"
      ]
     },
     "metadata": {},
     "output_type": "display_data"
    }
   ],
   "source": [
    "import pandas as pd\n",
    "import seaborn as sns; sns.set()\n",
    "sns.set(font_scale=1.6)\n",
    "\n",
    "fig = plt.figure(figsize=(6,4))\n",
    "df = pd.DataFrame(CovMat/np.sqrt(np.outer(np.diag(CovMat),np.diag(CovMat))))\n",
    "df.rename(columns={0:'$b_1$',1:'$b_2$',2:'$N$',3:'$c^2_{s,0}$',4:'$c^2_{s,2}$',5:'$c^2_{s,4}$',6:'$f$',7:'$\\sigma_8$',8:'$D_A$',9:'$H$'}, inplace=True)\n",
    "df.rename(index={0:'$b_1$',1:'$b_2$',2:'$N$',3:'$c^2_{s,0}$',4:'$c^2_{s,2}$',5:'$c^2_{s,4}$',6:'$f$',7:'$\\sigma_8$',8:'$D_A$',9:'$H$'}, inplace=True)\n",
    "ax = sns.heatmap(df, cmap=\"PiYG\", vmin=-1, vmax=1)\n",
    "\n",
    "ax.set_title('$\\mathrm{EFTofLSS}, z=0.5$')\n",
    "#plt.savefig('corr-mat-eft-zeq0p5.pdf', format=\"pdf\", bbox_inches = 'tight')\n",
    "\n",
    "plt.show()"
   ]
  },
  {
   "cell_type": "code",
   "execution_count": 26,
   "metadata": {},
   "outputs": [
    {
     "data": {
      "text/html": [
       "<div>\n",
       "<style scoped>\n",
       "    .dataframe tbody tr th:only-of-type {\n",
       "        vertical-align: middle;\n",
       "    }\n",
       "\n",
       "    .dataframe tbody tr th {\n",
       "        vertical-align: top;\n",
       "    }\n",
       "\n",
       "    .dataframe thead th {\n",
       "        text-align: right;\n",
       "    }\n",
       "</style>\n",
       "<table border=\"1\" class=\"dataframe\">\n",
       "  <thead>\n",
       "    <tr style=\"text-align: right;\">\n",
       "      <th></th>\n",
       "      <th>$b_1$</th>\n",
       "      <th>$b_2$</th>\n",
       "      <th>$N$</th>\n",
       "      <th>$c^2_{s,0}$</th>\n",
       "      <th>$c^2_{s,2}$</th>\n",
       "      <th>$c^2_{s,4}$</th>\n",
       "      <th>$f$</th>\n",
       "    </tr>\n",
       "  </thead>\n",
       "  <tbody>\n",
       "    <tr>\n",
       "      <th>$b_1$</th>\n",
       "      <td>1.000000</td>\n",
       "      <td>-0.451485</td>\n",
       "      <td>-0.506048</td>\n",
       "      <td>0.343678</td>\n",
       "      <td>-0.566955</td>\n",
       "      <td>0.130634</td>\n",
       "      <td>0.210926</td>\n",
       "    </tr>\n",
       "    <tr>\n",
       "      <th>$b_2$</th>\n",
       "      <td>-0.451485</td>\n",
       "      <td>1.000000</td>\n",
       "      <td>0.967421</td>\n",
       "      <td>-0.986652</td>\n",
       "      <td>-0.253217</td>\n",
       "      <td>0.411791</td>\n",
       "      <td>0.391436</td>\n",
       "    </tr>\n",
       "    <tr>\n",
       "      <th>$N$</th>\n",
       "      <td>-0.506048</td>\n",
       "      <td>0.967421</td>\n",
       "      <td>1.000000</td>\n",
       "      <td>-0.965306</td>\n",
       "      <td>-0.081515</td>\n",
       "      <td>0.383110</td>\n",
       "      <td>0.286686</td>\n",
       "    </tr>\n",
       "    <tr>\n",
       "      <th>$c^2_{s,0}$</th>\n",
       "      <td>0.343678</td>\n",
       "      <td>-0.986652</td>\n",
       "      <td>-0.965306</td>\n",
       "      <td>1.000000</td>\n",
       "      <td>0.329496</td>\n",
       "      <td>-0.455758</td>\n",
       "      <td>-0.425693</td>\n",
       "    </tr>\n",
       "    <tr>\n",
       "      <th>$c^2_{s,2}$</th>\n",
       "      <td>-0.566955</td>\n",
       "      <td>-0.253217</td>\n",
       "      <td>-0.081515</td>\n",
       "      <td>0.329496</td>\n",
       "      <td>1.000000</td>\n",
       "      <td>-0.563878</td>\n",
       "      <td>-0.401088</td>\n",
       "    </tr>\n",
       "    <tr>\n",
       "      <th>$c^2_{s,4}$</th>\n",
       "      <td>0.130634</td>\n",
       "      <td>0.411791</td>\n",
       "      <td>0.383110</td>\n",
       "      <td>-0.455758</td>\n",
       "      <td>-0.563878</td>\n",
       "      <td>1.000000</td>\n",
       "      <td>-0.327548</td>\n",
       "    </tr>\n",
       "    <tr>\n",
       "      <th>$f$</th>\n",
       "      <td>0.210926</td>\n",
       "      <td>0.391436</td>\n",
       "      <td>0.286686</td>\n",
       "      <td>-0.425693</td>\n",
       "      <td>-0.401088</td>\n",
       "      <td>-0.327548</td>\n",
       "      <td>1.000000</td>\n",
       "    </tr>\n",
       "  </tbody>\n",
       "</table>\n",
       "</div>"
      ],
      "text/plain": [
       "                $b_1$     $b_2$       $N$  $c^2_{s,0}$  $c^2_{s,2}$  \\\n",
       "$b_1$        1.000000 -0.451485 -0.506048     0.343678    -0.566955   \n",
       "$b_2$       -0.451485  1.000000  0.967421    -0.986652    -0.253217   \n",
       "$N$         -0.506048  0.967421  1.000000    -0.965306    -0.081515   \n",
       "$c^2_{s,0}$  0.343678 -0.986652 -0.965306     1.000000     0.329496   \n",
       "$c^2_{s,2}$ -0.566955 -0.253217 -0.081515     0.329496     1.000000   \n",
       "$c^2_{s,4}$  0.130634  0.411791  0.383110    -0.455758    -0.563878   \n",
       "$f$          0.210926  0.391436  0.286686    -0.425693    -0.401088   \n",
       "\n",
       "             $c^2_{s,4}$       $f$  \n",
       "$b_1$           0.130634  0.210926  \n",
       "$b_2$           0.411791  0.391436  \n",
       "$N$             0.383110  0.286686  \n",
       "$c^2_{s,0}$    -0.455758 -0.425693  \n",
       "$c^2_{s,2}$    -0.563878 -0.401088  \n",
       "$c^2_{s,4}$     1.000000 -0.327548  \n",
       "$f$            -0.327548  1.000000  "
      ]
     },
     "execution_count": 26,
     "metadata": {},
     "output_type": "execute_result"
    }
   ],
   "source": [
    "df"
   ]
  },
  {
   "cell_type": "markdown",
   "metadata": {},
   "source": [
    "## Add Gaussian priors on parameters."
   ]
  },
  {
   "cell_type": "code",
   "execution_count": 27,
   "metadata": {},
   "outputs": [
    {
     "name": "stdout",
     "output_type": "stream",
     "text": [
      "b2 index 2\n",
      "cs0 index 4\n",
      "cs4 index 6\n",
      "cs2 index 5\n",
      "combined marged [1.650e-02 1.111e-02 1.831e-01 3.034e+02 1.572e+00 1.909e+00 1.565e+00]\n",
      "\n",
      "Correlation coefficients after adding EFT parameters priors:\n",
      "[[ 1.    -0.383 -0.318  0.078 -0.444  0.251  0.501]\n",
      " [-0.383  1.     0.753 -0.891 -0.285  0.139  0.365]\n",
      " [-0.318  0.753  1.    -0.809  0.145  0.065  0.106]\n",
      " [ 0.078 -0.891 -0.809  1.     0.452 -0.235 -0.542]\n",
      " [-0.444 -0.285  0.145  0.452  1.    -0.437 -0.699]\n",
      " [ 0.251  0.139  0.065 -0.235 -0.437  1.    -0.157]\n",
      " [ 0.501  0.365  0.106 -0.542 -0.699 -0.157  1.   ]]\n"
     ]
    }
   ],
   "source": [
    "EFTmat = Fishermat*0.\n",
    "EFT_errors = {\n",
    "    #'b': (b_fid/100)*10,\n",
    "    'b2': abs(b2_fid/100)*70,\n",
    "    #'N': (N_fid/100)*10,\n",
    "    'cs0': (cs0_fid/100)*70,\n",
    "    'cs4': (cs2_fid/100)*70,\n",
    "    'cs2': (cs2_fid/100)*70\n",
    "}\n",
    "for p in EFT_errors.keys():\n",
    "    if p not in varyzdep: continue\n",
    "    print (p, 'index', fm_index[p][0])\n",
    "    EFTmat[fm_index[p][0],fm_index[p][0]] = 1./EFT_errors[p]**2\n",
    "\n",
    "priorfactor = 1.0 #=0.0 if no priors   \n",
    "    \n",
    "Fishermat = Fishermat+priorfactor*EFTmat\n",
    "CovMat = scipy.linalg.pinv(Fishermat)\n",
    "print ('combined marged',  np.sqrt(np.diag(CovMat)))\n",
    "\n",
    "print ('\\nCorrelation coefficients after adding EFT parameters priors:')\n",
    "print (CovMat/np.sqrt(np.outer(np.diag(CovMat),np.diag(CovMat))))"
   ]
  },
  {
   "cell_type": "code",
   "execution_count": 28,
   "metadata": {},
   "outputs": [
    {
     "data": {
      "image/png": "[encoded data removed]",
      "text/plain": [
       "<Figure size 432x288 with 2 Axes>"
      ]
     },
     "metadata": {},
     "output_type": "display_data"
    }
   ],
   "source": [
    "import pandas as pd\n",
    "import seaborn as sns; sns.set()\n",
    "sns.set(font_scale=1.6)\n",
    "\n",
    "fig = plt.figure(figsize=(6,4))\n",
    "df = pd.DataFrame(CovMat/np.sqrt(np.outer(np.diag(CovMat),np.diag(CovMat))))\n",
    "df.rename(columns={0:'$b_1$',1:'$b_2$',2:'$N$',3:'$c^2_{s,0}$',4:'$c^2_{s,2}$',5:'$c^2_{s,4}$',6:'$f$',7:'$\\sigma_8$',8:'$D_A$',9:'$H$'}, inplace=True)\n",
    "df.rename(index={0:'$b_1$',1:'$b_2$',2:'$N$',3:'$c^2_{s,0}$',4:'$c^2_{s,2}$',5:'$c^2_{s,4}$',6:'$f$',7:'$\\sigma_8$',8:'$D_A$',9:'$H$'}, inplace=True)\n",
    "ax = sns.heatmap(df, cmap=\"PiYG\", vmin=-1, vmax=1)\n",
    "\n",
    "ax.set_title('$\\mathrm{EFTofLSS}, z=0.5$')\n",
    "#plt.savefig('corr-mat-eft.pdf', format=\"pdf\", bbox_inches = 'tight')\n",
    "\n",
    "plt.show()"
   ]
  },
  {
   "cell_type": "code",
   "execution_count": 29,
   "metadata": {},
   "outputs": [
    {
     "data": {
      "text/html": [
       "<div>\n",
       "<style scoped>\n",
       "    .dataframe tbody tr th:only-of-type {\n",
       "        vertical-align: middle;\n",
       "    }\n",
       "\n",
       "    .dataframe tbody tr th {\n",
       "        vertical-align: top;\n",
       "    }\n",
       "\n",
       "    .dataframe thead th {\n",
       "        text-align: right;\n",
       "    }\n",
       "</style>\n",
       "<table border=\"1\" class=\"dataframe\">\n",
       "  <thead>\n",
       "    <tr style=\"text-align: right;\">\n",
       "      <th></th>\n",
       "      <th>$b_1$</th>\n",
       "      <th>$b_2$</th>\n",
       "      <th>$N$</th>\n",
       "      <th>$c^2_{s,0}$</th>\n",
       "      <th>$c^2_{s,2}$</th>\n",
       "      <th>$c^2_{s,4}$</th>\n",
       "      <th>$f$</th>\n",
       "    </tr>\n",
       "  </thead>\n",
       "  <tbody>\n",
       "    <tr>\n",
       "      <th>$b_1$</th>\n",
       "      <td>1.000000</td>\n",
       "      <td>-0.383421</td>\n",
       "      <td>-0.317657</td>\n",
       "      <td>0.077592</td>\n",
       "      <td>-0.443676</td>\n",
       "      <td>0.251401</td>\n",
       "      <td>0.501286</td>\n",
       "    </tr>\n",
       "    <tr>\n",
       "      <th>$b_2$</th>\n",
       "      <td>-0.383421</td>\n",
       "      <td>1.000000</td>\n",
       "      <td>0.752971</td>\n",
       "      <td>-0.890965</td>\n",
       "      <td>-0.284757</td>\n",
       "      <td>0.138569</td>\n",
       "      <td>0.364981</td>\n",
       "    </tr>\n",
       "    <tr>\n",
       "      <th>$N$</th>\n",
       "      <td>-0.317657</td>\n",
       "      <td>0.752971</td>\n",
       "      <td>1.000000</td>\n",
       "      <td>-0.808628</td>\n",
       "      <td>0.144903</td>\n",
       "      <td>0.064791</td>\n",
       "      <td>0.105794</td>\n",
       "    </tr>\n",
       "    <tr>\n",
       "      <th>$c^2_{s,0}$</th>\n",
       "      <td>0.077592</td>\n",
       "      <td>-0.890965</td>\n",
       "      <td>-0.808628</td>\n",
       "      <td>1.000000</td>\n",
       "      <td>0.451515</td>\n",
       "      <td>-0.234582</td>\n",
       "      <td>-0.541537</td>\n",
       "    </tr>\n",
       "    <tr>\n",
       "      <th>$c^2_{s,2}$</th>\n",
       "      <td>-0.443676</td>\n",
       "      <td>-0.284757</td>\n",
       "      <td>0.144903</td>\n",
       "      <td>0.451515</td>\n",
       "      <td>1.000000</td>\n",
       "      <td>-0.437358</td>\n",
       "      <td>-0.698726</td>\n",
       "    </tr>\n",
       "    <tr>\n",
       "      <th>$c^2_{s,4}$</th>\n",
       "      <td>0.251401</td>\n",
       "      <td>0.138569</td>\n",
       "      <td>0.064791</td>\n",
       "      <td>-0.234582</td>\n",
       "      <td>-0.437358</td>\n",
       "      <td>1.000000</td>\n",
       "      <td>-0.156943</td>\n",
       "    </tr>\n",
       "    <tr>\n",
       "      <th>$f$</th>\n",
       "      <td>0.501286</td>\n",
       "      <td>0.364981</td>\n",
       "      <td>0.105794</td>\n",
       "      <td>-0.541537</td>\n",
       "      <td>-0.698726</td>\n",
       "      <td>-0.156943</td>\n",
       "      <td>1.000000</td>\n",
       "    </tr>\n",
       "  </tbody>\n",
       "</table>\n",
       "</div>"
      ],
      "text/plain": [
       "                $b_1$     $b_2$       $N$  $c^2_{s,0}$  $c^2_{s,2}$  \\\n",
       "$b_1$        1.000000 -0.383421 -0.317657     0.077592    -0.443676   \n",
       "$b_2$       -0.383421  1.000000  0.752971    -0.890965    -0.284757   \n",
       "$N$         -0.317657  0.752971  1.000000    -0.808628     0.144903   \n",
       "$c^2_{s,0}$  0.077592 -0.890965 -0.808628     1.000000     0.451515   \n",
       "$c^2_{s,2}$ -0.443676 -0.284757  0.144903     0.451515     1.000000   \n",
       "$c^2_{s,4}$  0.251401  0.138569  0.064791    -0.234582    -0.437358   \n",
       "$f$          0.501286  0.364981  0.105794    -0.541537    -0.698726   \n",
       "\n",
       "             $c^2_{s,4}$       $f$  \n",
       "$b_1$           0.251401  0.501286  \n",
       "$b_2$           0.138569  0.364981  \n",
       "$N$             0.064791  0.105794  \n",
       "$c^2_{s,0}$    -0.234582 -0.541537  \n",
       "$c^2_{s,2}$    -0.437358 -0.698726  \n",
       "$c^2_{s,4}$     1.000000 -0.156943  \n",
       "$f$            -0.156943  1.000000  "
      ]
     },
     "execution_count": 29,
     "metadata": {},
     "output_type": "execute_result"
    }
   ],
   "source": [
    "df"
   ]
  },
  {
   "cell_type": "code",
   "execution_count": 30,
   "metadata": {
    "scrolled": true
   },
   "outputs": [
    {
     "name": "stdout",
     "output_type": "stream",
     "text": [
      "\n",
      "varying zdep = \n",
      "\t ['f', 'b', 'b2', 'N', 'cs0', 'cs2', 'cs4']\n",
      "at z = 0.5 : zdep fiducials = \n",
      "\t [ 7.042e-01  1.468e+00 -2.756e-01  8.161e+02  7.650e+00  2.978e+00  2.440e+01]\n",
      "at z = 0.5 : marged err = \n",
      "\t [1.650e-02 1.111e-02 1.831e-01 3.034e+02 1.572e+00 1.909e+00 1.565e+00]\n",
      "at z = 0.5 : unmarged err = \n",
      "\t [2.771e-03 1.092e-03 5.722e-03 7.241e+00 6.359e-02 2.498e-01 1.684e-01]\n",
      "at z = 0.5 : marged % err = \n",
      "\t [ 2.343  0.757 66.428 37.172 20.546 64.098  6.415]\n",
      "at z = 0.5 : unmarged % err = \n",
      "\t [0.394 0.074 2.076 0.887 0.831 8.387 0.69 ]\n"
     ]
    }
   ],
   "source": [
    "# Print the errors nicely\n",
    "Nvar  = len(varypars)\n",
    "\n",
    "#varyzdep = list(set(varypars)&set(zdep))\n",
    "varyzdep = varypars\n",
    "\n",
    "zdepfid = np.array([fids[p] for p in varyzdep])\n",
    "print ('\\nvarying zdep = \\n\\t', varyzdep)\n",
    "if len(varyzdep)>0:\n",
    "    for iz, z in enumerate(z_vals):\n",
    "        zdepind = np.array([fm_index[p] for p in varyzdep])\n",
    "        print ('at z =',z,': zdep fiducials = \\n\\t', zdepfid[:,iz])\n",
    "        merrs = np.sqrt(np.diag(CovMat))[zdepind[:,iz]]\n",
    "        print ('at z =',z,': marged err = \\n\\t', merrs)\n",
    "        uerrs = np.sqrt(1./np.diag(Fishermat))[zdepind[:,iz]]\n",
    "        print ('at z =',z,': unmarged err = \\n\\t', uerrs)\n",
    "        print ('at z =',z,': marged % err = \\n\\t', merrs/np.abs(zdepfid[:,iz])*100.)\n",
    "        print ('at z =',z,': unmarged % err = \\n\\t', uerrs/np.abs(zdepfid[:,iz])*100.)"
   ]
  },
  {
   "cell_type": "markdown",
   "metadata": {
    "collapsed": true
   },
   "source": [
    "##### Alkistis & Dida, 2019"
   ]
  }
 ],
 "metadata": {
  "anaconda-cloud": {},
  "kernelspec": {
   "display_name": "Python 3",
   "language": "python",
   "name": "python3"
  },
  "language_info": {
   "codemirror_mode": {
    "name": "ipython",
    "version": 3
   },
   "file_extension": ".py",
   "mimetype": "text/x-python",
   "name": "python",
   "nbconvert_exporter": "python",
   "pygments_lexer": "ipython3",
   "version": "3.7.3"
  }
 },
 "nbformat": 4,
 "nbformat_minor": 1
}
