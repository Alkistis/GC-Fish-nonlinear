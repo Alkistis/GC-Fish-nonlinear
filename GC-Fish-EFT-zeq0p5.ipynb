{
 "cells": [
  {
   "cell_type": "markdown",
   "metadata": {},
   "source": [
    "# EFT Fisher at z=0.5: full P(k,μ) method"
   ]
  },
  {
   "cell_type": "markdown",
   "metadata": {},
   "source": [
    "## Set up the notebook"
   ]
  },
  {
   "cell_type": "code",
   "execution_count": 1,
   "metadata": {},
   "outputs": [],
   "source": [
    "# Import the science packages/libraries\n",
    "from __future__ import division\n",
    "from __future__ import print_function\n",
    "import numpy as np\n",
    "import scipy, scipy.interpolate, scipy.misc, scipy.integrate\n",
    "\n",
    "import os.path as op\n",
    "import matplotlib.pyplot as plt"
   ]
  },
  {
   "cell_type": "code",
   "execution_count": 2,
   "metadata": {},
   "outputs": [],
   "source": [
    "# Set plotting and printing\n",
    "\n",
    "%matplotlib inline\n",
    "\n",
    "font = {'size'   : 16, 'family':'STIXGeneral'}\n",
    "axislabelfontsize='x-large'\n",
    "plt.rc('font', **font)\n",
    "plt.rcParams['text.usetex'] = True\n",
    "\n",
    "np.set_printoptions(precision=3,linewidth=200,suppress=False)\n",
    "\n",
    "from matplotlib.patches import Ellipse"
   ]
  },
  {
   "cell_type": "code",
   "execution_count": 3,
   "metadata": {},
   "outputs": [],
   "source": [
    "# Main question for the Fisher matrix calculation: which parameters are we varying?\n",
    "# Note that this list determines the order in the output FM as well\n",
    "\n",
    "#NB: the cs0, cs2, cs4 params here are actually the cs squared (like in the MCMC)\n",
    "varypars = ['b','b2','N','cs0','cs2','cs4','f']"
   ]
  },
  {
   "cell_type": "markdown",
   "metadata": {},
   "source": [
    "## Set up the fiducial model for the Fisher matrix calculation"
   ]
  },
  {
   "cell_type": "code",
   "execution_count": 4,
   "metadata": {},
   "outputs": [
    {
     "name": "stdout",
     "output_type": "stream",
     "text": [
      "ps column names: ('k', 'pl', 'pdd', 'pdt', 'ptt', 'sv', 'plnw', 'pddres', 'pdtres', 'pttres', 'ANW')\n",
      "abc column names: ('k', 'bu2f2nw', 'bu2f3nw', 'bu4f2nw', 'bu4f3nw', 'bu6f3nw', 'b2u2f1nw', 'b2u2f2nw', 'b2u2f3nw', 'b2u2f4nw', 'b2u4f2nw', 'b2u4f3nw', 'b2u4f4nw', 'b2u6f3nw', 'b2u6f4nw', 'b2u8f4nw', 'u2f4nw', 'u4f3nw', 'u4f4nw', 'u6f3nw', 'u6f4nw', 'u8f4nw')\n",
      "bias column names: ('k', 'ddb0b2nw', 'ddb02nw', 'ddb0nw', 'ddb22nw', 'ddb2nw', 'ddnonenw', 'dtb2nw', 'dtb0nw', 'dtnonenw')\n"
     ]
    }
   ],
   "source": [
    "#k values are the same in all files ### Paths to input files\n",
    "PATHTOINPUTFILES = op.abspath('./inputs/')\n",
    "\n",
    "# Function to read the output files from MG-COPTER\n",
    "def read_copter(path,suffix=''):\n",
    "    \n",
    "    #naming files (following the Mathematica notebook)\n",
    "    psfile = ('eft_ps_components_nw'+suffix+'.dat')\n",
    "    abcfile = ('eft_abc_components'+suffix+'.dat')\n",
    "    biasfile = ('eft_bias_components'+suffix+'.dat')\n",
    "    \n",
    "    # set the names of the columns (following the Mathematica notebook)\n",
    "    pscolnames = 'k', 'pl', 'pdd', 'pdt', 'ptt', 'sv', 'plnw', 'pddres', 'pdtres', 'pttres','ANW'\n",
    "    abccolnames = 'k', 'bu2f2nw', 'bu2f3nw', 'bu4f2nw', 'bu4f3nw', 'bu6f3nw', 'b2u2f1nw', 'b2u2f2nw', 'b2u2f3nw',\\\n",
    "    'b2u2f4nw', 'b2u4f2nw', 'b2u4f3nw', 'b2u4f4nw', 'b2u6f3nw', 'b2u6f4nw', 'b2u8f4nw', 'u2f4nw', 'u4f3nw', 'u4f4nw',\\\n",
    "    'u6f3nw', 'u6f4nw', 'u8f4nw' \n",
    "    biascolnames = 'k', 'ddb0b2nw', 'ddb02nw', 'ddb0nw', 'ddb22nw', 'ddb2nw', 'ddnonenw', 'dtb2nw', 'dtb0nw', 'dtnonenw'\n",
    "    \n",
    "    return np.genfromtxt(op.join(path,psfile), names=pscolnames),\\\n",
    "           np.genfromtxt(op.join(path,abcfile), names=abccolnames),\\\n",
    "           np.genfromtxt(op.join(path,biasfile), names=biascolnames)\n",
    "\n",
    "# use numpy to read the whole files, the options will make the\n",
    "# resulting object act a bit like a dictionary (a structured array)\n",
    "# so we can query columns by name\n",
    "ps_fid, abc_fid, bias_fid = read_copter(op.join(PATHTOINPUTFILES,'data_fid'),'_fid')\n",
    "print ('ps column names:', ps_fid.dtype.names )# let's print the names to check\n",
    "print ('abc column names:', abc_fid.dtype.names) # let's print the names to check\n",
    "print ('bias column names:', bias_fid.dtype.names) # let's print the names to check"
   ]
  },
  {
   "cell_type": "code",
   "execution_count": 5,
   "metadata": {},
   "outputs": [
    {
     "name": "stdout",
     "output_type": "stream",
     "text": [
      "38.83043\n",
      "76.11283\n"
     ]
    }
   ],
   "source": [
    "#Fiducial (GR-COLA) cosmology \n",
    "#from cos.rtf file (changed some params names here)\n",
    "\n",
    "zbin = 0.5\n",
    "\n",
    "c=3e5\n",
    "hubble = 0.697\n",
    "H00 = 100*hubble\n",
    "Tcmb = 2.726\n",
    "ns = 0.971\n",
    "om0 = 0.281\n",
    "omb = 0.046\n",
    "sigma80_fid = 0.844 #this is sigma8 at z=0\n",
    "\n",
    "sv_fid = ps_fid['sv'][0] \n",
    "ANW = ps_fid['ANW'][0]\n",
    "\n",
    "b_fid = 1.471\n",
    "b2_fid = -0.393\n",
    "N_fid = 676.0 \n",
    "#NB: the cs0, cs2, cs4 params here are actually the cs squared (like in the MCMC)\n",
    "cs0_fid = 2.718\n",
    "cs2_fid = 23.218\n",
    "cs4_fid = 19.540\n",
    "\n",
    "#kmax at z=0.5 \n",
    "kmax = 0.245\n",
    "\n",
    "print(sv_fid)\n",
    "print(ANW)"
   ]
  },
  {
   "cell_type": "markdown",
   "metadata": {},
   "source": [
    "## Set up the survey properties"
   ]
  },
  {
   "cell_type": "code",
   "execution_count": 6,
   "metadata": {},
   "outputs": [],
   "source": [
    "### Set up survey with volume ~4 Gpc^3/h^3\n",
    "Area = 15000.0*1.06 #deg^2 \n",
    "Dzbin = 0.2\n",
    "z_vals = np.array([zbin]) \n",
    "Nzbin = len(z_vals)\n",
    "\n",
    "#set kmin \n",
    "kmin = 0.006"
   ]
  },
  {
   "cell_type": "code",
   "execution_count": 7,
   "metadata": {},
   "outputs": [],
   "source": [
    "#construct array of mu values between -1 and 1 (inclusive)\n",
    "mu_step = 0.005\n",
    "mu = mu_step*np.arange((2/mu_step)+1)-1.\n",
    "#print ('mu array', mu)\n",
    "#len(mu)"
   ]
  },
  {
   "cell_type": "markdown",
   "metadata": {},
   "source": [
    "## Define cosmology functions: background and perturbations"
   ]
  },
  {
   "cell_type": "code",
   "execution_count": 8,
   "metadata": {},
   "outputs": [
    {
     "name": "stdout",
     "output_type": "stream",
     "text": [
      "0.733197112933542 0.7784487714884997\n"
     ]
    }
   ],
   "source": [
    "# Functions for DE later\n",
    "def w_integrand(z,w0=-1.,wa=0.):\n",
    "    return (1 + w0+wa*z/(z+1)) / (1+z)\n",
    "def DE_evo(zc,w0=-1.,wa=0.): \n",
    "    return np.exp(3*scipy.integrate.romberg(lambda z: w_integrand(z,w0,wa), 0, zc))\n",
    "\n",
    "# Define E(z) = H(z)/H0\n",
    "def Ez(zc,w0=-1.,wa=0.):\n",
    "    return np.sqrt((1-om0)*DE_evo(zc,w0,wa) + om0*pow(1+zc,3))\n",
    "\n",
    "# LCDM growth rate and growth factor\n",
    "def fg(zz,w0=-1.,wa=0.,gamma=0.55):\n",
    "    omz=om0*pow(1+zz,3)/pow(Ez(zz,w0,wa),2)\n",
    "    return pow(omz,gamma)\n",
    "\n",
    "def Dg_dz(zz,w0=-1.,wa=0.,gamma=0.55):\n",
    "    return -fg(zz,w0,wa)/(1+zz)\n",
    "\n",
    "def Dgz(zz,w0=-1.,wa=0.,gamma=0.55):\n",
    "    start_z = 0.0\n",
    "    ans = scipy.integrate.romberg(lambda z: Dg_dz(z,w0,wa), start_z, zz)\n",
    "    return np.exp(ans)\n",
    "\n",
    "nz = 100\n",
    "fg_fid_interp = np.zeros(nz)\n",
    "Dg_fid_interp = np.zeros(nz)\n",
    "z_for_interp = np.linspace(0,2,nz)\n",
    "for i,z in enumerate(z_for_interp):\n",
    "    fg_fid_interp[i] = fg(z)\n",
    "    Dg_fid_interp[i] = Dgz(z)\n",
    "\n",
    "fg_fid_i = scipy.interpolate.interp1d(z_for_interp,fg_fid_interp,kind='cubic')\n",
    "Dg_fid_i = scipy.interpolate.interp1d(z_for_interp,Dg_fid_interp,kind='cubic')\n",
    "del z_for_interp, Dg_fid_interp, fg_fid_interp, i, z\n",
    "print (fg_fid_i(zbin), Dg_fid_i(zbin))"
   ]
  },
  {
   "cell_type": "code",
   "execution_count": 9,
   "metadata": {},
   "outputs": [
    {
     "name": "stdout",
     "output_type": "stream",
     "text": [
      "3.994\n"
     ]
    }
   ],
   "source": [
    "#Define E(z)=H(z)/H0\n",
    "def Ez(zc):\n",
    "    return np.sqrt(1-om0+om0*pow(1+zc,3))\n",
    "\n",
    "#Define the comoving distance\n",
    "def drdz(zp):\n",
    "    return (c/H00)/Ez(zp)\n",
    "def rcom(zc):\n",
    "    return scipy.integrate.romberg(drdz,0,zc)\n",
    "def DA(zc):\n",
    "    return rcom(zc)/(1+zc)\n",
    "\n",
    "def Vsur(zc): #  (the hubble**3 factor is for units consistency)\n",
    "    z_min = zc-Dzbin/2\n",
    "    DA_min = DA(z_min)\n",
    "    z_max = zc+Dzbin/2\n",
    "    DA_max = DA(z_max)\n",
    "    \n",
    "    F = (4.*np.pi/3.) / (4.*np.pi*(180./np.pi)**2)   \n",
    "    return F * (DA_max**3 *(1+z_max)**3 - DA_min**3 *(1+z_min)**3) * hubble**3 * Area\n",
    "\n",
    "print(round(Vsur(zbin)/1e9,3))"
   ]
  },
  {
   "cell_type": "code",
   "execution_count": 10,
   "metadata": {},
   "outputs": [],
   "source": [
    "#construct Peft function\n",
    "def Peft(mu_array,f,\n",
    "         b=b_fid,b2=b2_fid,N=N_fid,\n",
    "         cs0=cs0_fid,cs2=cs2_fid,cs4=cs4_fid,sv=sv_fid,\n",
    "         sig8_z=sigma80_fid*Dg_fid_i(zbin),\n",
    "         ps=ps_fid,abc=abc_fid,bias=bias_fid):\n",
    "    muones = mu_array**0.\n",
    "    k_array = ps['k']\n",
    "    \n",
    "    D = sig8_z/sigma80_fid #every term that contains D, contains the same power of sigma80_fid\n",
    "    \n",
    "    #resummation part\n",
    "    pddresum = D**2 * ps['plnw'] + D**4 * ps['pddres']\\\n",
    "    + np.exp(-0.5*ps['k']**2*D**2*ANW) * ( D**2 * ps['pl'] + D**4 * ps['pdd'] - (D**2*ps['plnw'] + D**4*ps['pddres'])\\\n",
    "                                         +0.5*ps['k']**2*D**2*ANW*(D**2*(ps['pl']-ps['plnw'])))\n",
    "   \n",
    "    pdtresum = D**2 * f * ps['plnw'] + D**4 * f * ps['pdtres']\\\n",
    "    + np.exp(-0.5*ps['k']**2*D**2*ANW) * ( D**2 * f * ps['pl'] + D**4 * f * ps['pdt'] - (D**2*f*ps['plnw'] + D**4*f*ps['pdtres'])\\\n",
    "                                         +0.5*ps['k']**2*D**2*ANW*(f*D**2*(ps['pl']-ps['plnw'])))\n",
    "    \n",
    "    pttresum = D**2 * f**2 * ps['plnw'] + D**4 * f**2 * ps['pttres']\\\n",
    "    + np.exp(-0.5*ps['k']**2*D**2*ANW) * ( D**2 * f**2 * ps['pl'] + D**4 * f**2 * ps['ptt'] - (D**2*f**2*ps['plnw'] + D**4*f**2*ps['pttres'])\\\n",
    "                                         +0.5*ps['k']**2*D**2*ANW*(f**2*D**2*(ps['pl']-ps['plnw'])))\n",
    "    \n",
    "    #total power spectrum\n",
    "    FoG = (1 - f**2*np.outer(k_array**2,mu_array**2)*D**2*sv_fid)\\\n",
    "             \n",
    "    res = FoG\\\n",
    "    *((b**2*np.outer(pddresum,muones)\\\n",
    "    + D**4*(b*b2*np.outer(bias['ddb0b2nw'],muones) + b**2*np.outer(bias['ddb02nw'],muones)\\\n",
    "    + b*np.outer(bias['ddb0nw'],muones) + b2**2*np.outer(bias['ddb22nw'],muones)\\\n",
    "    + b2*np.outer(bias['ddb2nw'],muones) + np.outer(bias['ddnonenw'],muones)) + N \n",
    "    + 2*(b*np.outer(pdtresum,mu_array**2))\\\n",
    "    - 2*D**4*f*(b2*np.outer(bias['dtb2nw'],mu_array**2) + b*np.outer(bias['dtb0nw'],mu_array**2) + np.outer(bias['dtnonenw'],mu_array**2)))\\\n",
    "    + np.outer(pttresum,mu_array**4))\\\n",
    "    + D**4*( b*f**2*np.outer(abc['bu2f2nw'],mu_array**2) + b*f**3*np.outer(abc['bu2f3nw'],mu_array**2)\\\n",
    "    + b*f**2*np.outer(abc['bu4f2nw'],mu_array**4)+b*f**3*np.outer(abc['bu4f3nw'],mu_array**4)\\\n",
    "    + b*f**3*np.outer(abc['bu6f3nw'],mu_array**6)+b**2*f*np.outer(abc['b2u2f1nw'],mu_array**2)\\\n",
    "    + b**2*f**2*np.outer(abc['b2u2f2nw'],mu_array**2)+b**2*f**3*np.outer(abc['b2u2f3nw'],mu_array**2)\\\n",
    "    + b**2*f**4*np.outer(abc['b2u2f4nw'],mu_array**2) + b**2*f**2*np.outer(abc['b2u4f2nw'],mu_array**4)\\\n",
    "    + b**2*f**3*np.outer(abc['b2u4f3nw'],mu_array**4) + b**2*f**4*np.outer(abc['b2u4f4nw'],mu_array**4)\\\n",
    "    + b**2*f**3*np.outer(abc['b2u6f3nw'],mu_array**6) + b**2*f**4*np.outer(abc['b2u6f4nw'],mu_array**6)\\\n",
    "    + b**2*f**4*np.outer(abc['b2u8f4nw'],mu_array**8) + f**4*np.outer(abc['u2f4nw'],mu_array**2)\\\n",
    "    + f**3*np.outer(abc['u4f3nw'],mu_array**4) + f**4*np.outer(abc['u4f4nw'],mu_array**4)\\\n",
    "    + f**3*np.outer(abc['u6f3nw'],mu_array**6) + f**4*np.outer(abc['u6f4nw'],mu_array**6)\\\n",
    "    + f**4*np.outer(abc['u8f4nw'],mu_array**8) )\\\n",
    "    - 2.*D**2*( np.outer(k_array**2*ps['plnw'],muones)*cs0 + np.outer(k_array**2*ps['plnw'],cs2*mu_array**2)\\\n",
    "    + np.outer(k_array**2*ps['plnw'],cs4*mu_array**4) + np.outer(k_array**2*ps['plnw'],muones)\\\n",
    "    *(f**3*cs0 - f**2*cs2 + f*cs4)*mu_array**6)\n",
    "        \n",
    "    return res"
   ]
  },
  {
   "cell_type": "code",
   "execution_count": 11,
   "metadata": {},
   "outputs": [],
   "source": [
    "# Effective volume\n",
    "nbar = 1e-3 #h^3/Mpc^3\n",
    "def Veff(mu_array,zc):\n",
    "    n = nbar\n",
    "    P = Peft(mu_array,fg_fid_i(zc)) \n",
    "    return Vsur(zc) / (P+1./n)**2"
   ]
  },
  {
   "cell_type": "markdown",
   "metadata": {},
   "source": [
    "## Define how to calculate the derivatives with respect to parameters we wish to vary"
   ]
  },
  {
   "cell_type": "code",
   "execution_count": 12,
   "metadata": {},
   "outputs": [],
   "source": [
    "#Construct the derivatives wrt the bias and EFT parameters\n",
    "\n",
    "#choose the step (convergent derivatives)\n",
    "params_step = 1e-5\n",
    "\n",
    "#Derivative wrt b\n",
    "def dPeft_db(mu_array,f,D,b,b2,N,cs0,cs2,cs4,sv,\n",
    "             ps=ps_fid,abc=abc_fid,bias=bias_fid):\n",
    "    muones = mu**0.\n",
    "    k_array = ps['k']\n",
    "    \n",
    "    P_bp = Peft(mu,fg_fid_i(zbin),b_fid*(1+params_step),b2_fid,N_fid,\n",
    "                 cs0_fid,cs2_fid,cs4_fid,sv_fid,\n",
    "                 sigma80_fid*Dg_fid_i(zbin),ps=ps_fid,abc=abc_fid,bias=bias_fid) \n",
    "    P_bm = Peft(mu,fg_fid_i(zbin),b_fid*(1-params_step),b2_fid,N_fid,\n",
    "                 cs0_fid,cs2_fid,cs4_fid,sv_fid,\n",
    "                 sigma80_fid*Dg_fid_i(zbin),ps=ps_fid,abc=abc_fid,bias=bias_fid) \n",
    "    \n",
    "    deriv_b = (P_bp - P_bm)/(2*b_fid*params_step)\n",
    "    \n",
    "    return deriv_b\n",
    "    \n",
    "    \n",
    "#Derivative wrt b2\n",
    "def dPeft_db2(mu_array,f,D,b,b2,N,cs0,cs2,cs4,sv,\n",
    "              ps=ps_fid,abc=abc_fid,bias=bias_fid):\n",
    "    muones = mu**0.\n",
    "    k_array = ps['k']\n",
    "    \n",
    "    P_b2p = Peft(mu,fg_fid_i(zbin),b_fid,b2_fid*(1+params_step),N_fid,\n",
    "                 cs0_fid,cs2_fid,cs4_fid,sv_fid,\n",
    "                 sigma80_fid*Dg_fid_i(zbin),ps=ps_fid,abc=abc_fid,bias=bias_fid) \n",
    "    P_b2m = Peft(mu,fg_fid_i(zbin),b_fid,b2_fid*(1-params_step),N_fid,\n",
    "                 cs0_fid,cs2_fid,cs4_fid,sv_fid,\n",
    "                 sigma80_fid*Dg_fid_i(zbin),ps=ps_fid,abc=abc_fid,bias=bias_fid) \n",
    "    \n",
    "    deriv_b2 = (P_b2p - P_b2m)/(2*b2_fid*params_step)\n",
    "    \n",
    "    \n",
    "    return deriv_b2\n",
    "\n",
    "#Derivative wrt N\n",
    "def dPeft_dN(mu_array,f,D,b,b2,N,cs0,cs2,cs4,sv,\n",
    "             ps=ps_fid,abc=abc_fid,bias=bias_fid):\n",
    "    muones = mu**0.\n",
    "    k_array = ps['k']\n",
    "    \n",
    "    deriv_N = (1 - f**2*np.outer(k_array**2,mu_array**2)*D**2*sv_fid)\n",
    "    \n",
    "    return deriv_N\n",
    "\n",
    "#Derivative wrt cs0 \n",
    "def dPeft_dcs0(mu_array,f,D,b,b2,N,cs0,cs2,cs4,sv,\n",
    "               ps=ps_fid,abc=abc_fid,bias=bias_fid):\n",
    "    muones = mu**0.\n",
    "    k_array = ps['k']\n",
    "    \n",
    "    deriv_cs0 = - 2.*D**2*( np.outer(k_array**2*ps['plnw'],muones) + np.outer(k_array**2*ps['plnw'],muones)*f**3*mu_array**6)\n",
    "    \n",
    "    return deriv_cs0\n",
    "\n",
    "#Derivative wrt cs2\n",
    "def dPeft_dcs2(mu_array,f,D,b,b2,N,cs0,cs2,cs4,sv,\n",
    "               ps=ps_fid,abc=abc_fid,bias=bias_fid):\n",
    "    muones = mu**0.\n",
    "    k_array = ps['k']\n",
    "    \n",
    "    deriv_cs2 = - 2.*D**2*( np.outer(k_array**2*ps['plnw'],mu_array**2) - np.outer(k_array**2*ps['plnw'],muones)*f**2*mu_array**6)\n",
    "        \n",
    "    return deriv_cs2\n",
    "\n",
    "#Derivative wrt cs4\n",
    "def dPeft_dcs4(mu_array,f,D,b,b2,N,cs0,cs2,cs4,sv,\n",
    "               ps=ps_fid,abc=abc_fid,bias=bias_fid):\n",
    "    muones = mu**0.\n",
    "    k_array = ps['k']\n",
    "\n",
    "    deriv_cs4 = - 2.*D**2*( np.outer(k_array**2*ps['plnw'],mu_array**4) + np.outer(k_array**2*ps['plnw'],muones)*f*mu_array**6)\n",
    "        \n",
    "    return deriv_cs4\n",
    "\n",
    "#Derivative wrt f\n",
    "def dPeft_df(mu_array,f,D,b,b2,N,cs0,cs2,cs4,sv,\n",
    "              ps=ps_fid,abc=abc_fid,bias=bias_fid):\n",
    "    muones = mu**0.\n",
    "    k_array = ps['k']\n",
    "    \n",
    "    P_fp = Peft(mu,fg_fid_i(zbin)*(1+params_step),b_fid,b2_fid,N_fid,\n",
    "                 cs0_fid,cs2_fid,cs4_fid,sv_fid,\n",
    "                 sigma80_fid*Dg_fid_i(zbin),ps=ps_fid,abc=abc_fid,bias=bias_fid) \n",
    "    P_fm = Peft(mu,fg_fid_i(zbin)*(1-params_step),b_fid,b2_fid,N_fid,\n",
    "                 cs0_fid,cs2_fid,cs4_fid,sv_fid,\n",
    "                 sigma80_fid*Dg_fid_i(zbin),ps=ps_fid,abc=abc_fid,bias=bias_fid) \n",
    "\n",
    "    deriv_f = (P_fp - P_fm)/(2*fg_fid_i(zbin)*params_step)\n",
    "    \n",
    "    return deriv_f"
   ]
  },
  {
   "cell_type": "markdown",
   "metadata": {},
   "source": [
    "## Set up the Fisher matrix calculation and run to loop to calculate its elements"
   ]
  },
  {
   "cell_type": "code",
   "execution_count": 13,
   "metadata": {},
   "outputs": [],
   "source": [
    "#for i in range(1,299):\n",
    "#    print(ps_fid['k'][i+1]-ps_fid['k'][i])\n",
    "\n",
    "k_step = ps_fid['k'][6] - ps_fid['k'][5]\n",
    "dkdmu = k_step*mu_step\n",
    "\n",
    "# k values range to include in the constraints calculation\n",
    "k_index = (ps_fid['k']<kmax)*(ps_fid['k']>kmin)"
   ]
  },
  {
   "cell_type": "code",
   "execution_count": 14,
   "metadata": {},
   "outputs": [
    {
     "name": "stdout",
     "output_type": "stream",
     "text": [
      "[]\n"
     ]
    }
   ],
   "source": [
    "# This dictionary contains all the parameters that can be varied in this code.\n",
    "derivs = {\n",
    "    'b'  : lambda z,m: dPeft_db(m,fg_fid_i(z),Dg_fid_i(z),b_fid,b2_fid,N_fid,cs0_fid,cs2_fid,cs4_fid,sv_fid),\n",
    "    'b2' : lambda z,m: dPeft_db2(m,fg_fid_i(z),Dg_fid_i(z),b_fid,b2_fid,N_fid,cs0_fid,cs2_fid,cs4_fid,sv_fid),\n",
    "    'N'  : lambda z,m: dPeft_dN(m,fg_fid_i(z),Dg_fid_i(z),b_fid,b2_fid,N_fid,cs0_fid,cs2_fid,cs4_fid,sv_fid),\n",
    "    'cs0': lambda z,m: dPeft_dcs0(m,fg_fid_i(z),Dg_fid_i(z),b_fid,b2_fid,N_fid,cs0_fid,cs2_fid,cs4_fid,sv_fid),\n",
    "    'cs2': lambda z,m: dPeft_dcs2(m,fg_fid_i(z),Dg_fid_i(z),b_fid,b2_fid,N_fid,cs0_fid,cs2_fid,cs4_fid,sv_fid),\n",
    "    'cs4': lambda z,m: dPeft_dcs4(m,fg_fid_i(z),Dg_fid_i(z),b_fid,b2_fid,N_fid,cs0_fid,cs2_fid,cs4_fid,sv_fid),\n",
    "    'f'  : lambda z,m: dPeft_df(m,fg_fid_i(z),Dg_fid_i(z),b_fid,b2_fid,N_fid,cs0_fid,cs2_fid,cs4_fid,sv_fid)\n",
    "}\n",
    "            \n",
    "# Which should depend on redshift\n",
    "zdep = 'b','b2','N','cs0','cs2','cs4','f'\n",
    "\n",
    "# Which ones are independent of redshift and should appear in the FM once (summ over z contributions)\n",
    "zidep = [i for i in derivs.keys() if i not in zdep]\n",
    "print (zidep)"
   ]
  },
  {
   "cell_type": "code",
   "execution_count": 15,
   "metadata": {},
   "outputs": [],
   "source": [
    "# Auxiliary bits needed for Fisher matrix calculation\n",
    "\n",
    "# Create array of zeros for the final FM\n",
    "Nzdep = len(set(zdep)&set(varypars))\n",
    "Npar = len(varypars)\n",
    "s = Nzdep*Nzbin + (Npar-Nzdep)\n",
    "Fishermat = np.zeros([s,s])\n",
    "\n",
    "# Fisher matrix integrand - to be integrated over k and mu arrays\n",
    "def dF(mu_array,zc):\n",
    "    k_array = ps_fid['k']\n",
    "    tmp = deriv_i(mu_array,zc)*deriv_j(mu_array,zc)*Veff(mu_array,zc)\n",
    "    return (1./(8*np.pi*np.pi))*pow(k_array,2)*tmp.T"
   ]
  },
  {
   "cell_type": "code",
   "execution_count": 16,
   "metadata": {},
   "outputs": [],
   "source": [
    "#%%time \n",
    "\n",
    "# Save the indexing for posterity\n",
    "fm_index = {'b' :[],'b2':[],'N' :[],'cs0':[],'cs2':[],'cs4':[],'f' :[]}\n",
    "\n",
    "fm_head = []\n",
    "\n",
    "# Loop over redshift bins\n",
    "for iz, zc in enumerate(z_vals):\n",
    "    \n",
    "    # First loop over parameters (rows of the FM)\n",
    "    for i, pi in enumerate(varypars): \n",
    "        \n",
    "        # Calculate row index for the Fisher matrix\n",
    "        if pi in zdep:\n",
    "            zind = iz*Nzdep + i\n",
    "        else:\n",
    "            zind = Nzbin*Nzdep + (i-Nzdep)\n",
    "                \n",
    "        # Set the i derivative in dF to correspond to the row parameter\n",
    "        def deriv_i(mu_array,zc): return derivs[pi](zc,mu_array)\n",
    "\n",
    "        # Second loop over parameters (columns of the FM)\n",
    "        for j, pj in enumerate(varypars):\n",
    "            \n",
    "            # Calculate column index for the Fisher matrix\n",
    "            if pj in zdep:\n",
    "                zjnd = iz*Nzdep + j\n",
    "            else:\n",
    "                zjnd = Nzbin*Nzdep + (j-Nzdep)\n",
    "            \n",
    "            # If not done yet, set the j derivative in dF to correspond to the column parameter\n",
    "            if j>=i:\n",
    "                \n",
    "                def deriv_j(mu_array,zc): return derivs[pj](zc,mu_array)\n",
    "                \n",
    "                fm = dF(mu,zc)[:,k_index]\n",
    "                Fishermat[zind,zjnd] += np.sum(np.sum(fm))*dkdmu\n",
    "            \n",
    "            # Otherwise just take the symmetric value\n",
    "            else: \n",
    "                Fishermat[zind,zjnd] = Fishermat[zjnd,zind]\n",
    "        \n",
    "        # Finally, save the index in the FM (same redshift order as z_vals)\n",
    "        fm_index[pi].append(zind) # Only doing i, since it is symmetric\n",
    "        \n",
    "        # Save also the order of the colmns/rows\n",
    "        headstr = pi\n",
    "        if pi in zdep: headstr+='_'+str(zc)\n",
    "        fm_head.append(headstr)"
   ]
  },
  {
   "cell_type": "code",
   "execution_count": 17,
   "metadata": {},
   "outputs": [
    {
     "name": "stdout",
     "output_type": "stream",
     "text": [
      "cs0 index 3\n",
      "cs2 index 4\n",
      "cs4 index 5\n",
      "combined marged [3.273e-02 5.824e-01 9.260e+02 1.965e+00 2.617e+00 2.279e+00 2.448e-02]\n",
      "\n",
      "Correlation coefficients after adding EFT parameters priors:\n",
      "[[ 1.     0.97  -0.985 -0.098  0.903  0.149 -0.588]\n",
      " [ 0.97   1.    -0.972  0.061  0.841  0.055 -0.607]\n",
      " [-0.985 -0.972  1.     0.174 -0.931 -0.255  0.483]\n",
      " [-0.098  0.061  0.174  1.    -0.439 -0.88  -0.542]\n",
      " [ 0.903  0.841 -0.931 -0.439  1.     0.456 -0.27 ]\n",
      " [ 0.149  0.055 -0.255 -0.88   0.456  1.     0.68 ]\n",
      " [-0.588 -0.607  0.483 -0.542 -0.27   0.68   1.   ]]\n"
     ]
    }
   ],
   "source": [
    "# Very conservative priors for the \"no priors\" case\n",
    "# Just want to ensure your cs2s are not negative etc.\n",
    "\n",
    "cPriormat = Fishermat*0.\n",
    "cPrior_errors = {\n",
    "    'cs0': (cs0_fid/100)*100, \n",
    "    'cs2': (cs2_fid/100)*100,\n",
    "    'cs4': (cs4_fid/100)*100\n",
    "}\n",
    "for p in cPrior_errors.keys():\n",
    "    if p not in varypars: continue\n",
    "    print (p, 'index', fm_index[p][0])\n",
    "    cPriormat[fm_index[p][0],fm_index[p][0]] = 1./cPrior_errors[p]**2\n",
    "\n",
    "priorfactor = 0.0    \n",
    "    \n",
    "Fishermat = Fishermat+priorfactor*cPriormat\n",
    "CovMat = scipy.linalg.pinv(Fishermat)\n",
    "print ('combined marged',  np.sqrt(np.diag(CovMat)))\n",
    "\n",
    "print ('\\nCorrelation coefficients after adding EFT parameters priors:')\n",
    "print (CovMat/np.sqrt(np.outer(np.diag(CovMat),np.diag(CovMat))))"
   ]
  },
  {
   "cell_type": "markdown",
   "metadata": {},
   "source": [
    "## Print out results"
   ]
  },
  {
   "cell_type": "code",
   "execution_count": 18,
   "metadata": {},
   "outputs": [
    {
     "data": {
      "application/javascript": [
       "IPython.OutputArea.prototype._should_scroll = function(lines) {\n",
       "    return false;\n",
       "}\n"
      ],
      "text/plain": [
       "<IPython.core.display.Javascript object>"
      ]
     },
     "metadata": {},
     "output_type": "display_data"
    }
   ],
   "source": [
    "%%javascript\n",
    "IPython.OutputArea.prototype._should_scroll = function(lines) {\n",
    "    return false;\n",
    "}"
   ]
  },
  {
   "cell_type": "code",
   "execution_count": 19,
   "metadata": {},
   "outputs": [],
   "source": [
    "# Create a fiducial value dictionary\n",
    "fids = {\n",
    "    'b'  : b_fid*np.ones(Nzbin),   \n",
    "    'b2' : b2_fid*np.ones(Nzbin),  \n",
    "    'N'  : N_fid*np.ones(Nzbin),   \n",
    "    'cs0': cs0_fid*np.ones(Nzbin), \n",
    "    'cs2': cs2_fid*np.ones(Nzbin), \n",
    "    'cs4': cs4_fid*np.ones(Nzbin), \n",
    "    'f'  : fg_fid_i(z_vals)\n",
    "}"
   ]
  },
  {
   "cell_type": "code",
   "execution_count": 20,
   "metadata": {},
   "outputs": [
    {
     "name": "stdout",
     "output_type": "stream",
     "text": [
      "Order of columns/rows:\n",
      "['b_0.5', 'b2_0.5', 'N_0.5', 'cs0_0.5', 'cs2_0.5', 'cs4_0.5', 'f_0.5']\n",
      "\n",
      "Correlation matrix for parameters:\n",
      "\n",
      "[[ 1.     0.97  -0.985 -0.098  0.903  0.149 -0.588]\n",
      " [ 0.97   1.    -0.972  0.061  0.841  0.055 -0.607]\n",
      " [-0.985 -0.972  1.     0.174 -0.931 -0.255  0.483]\n",
      " [-0.098  0.061  0.174  1.    -0.439 -0.88  -0.542]\n",
      " [ 0.903  0.841 -0.931 -0.439  1.     0.456 -0.27 ]\n",
      " [ 0.149  0.055 -0.255 -0.88   0.456  1.     0.68 ]\n",
      " [-0.588 -0.607  0.483 -0.542 -0.27   0.68   1.   ]]\n",
      "\n",
      "Correlation matrix diagonal:\n",
      "\n",
      "[1.071e-03 3.391e-01 8.574e+05 3.862e+00 6.849e+00 5.193e+00 5.991e-04]\n"
     ]
    }
   ],
   "source": [
    "print ('Order of columns/rows:')\n",
    "print (fm_head)\n",
    "#print 'Fisher matrix:\\n',\n",
    "#print Fishermat\n",
    "\n",
    "# Invert the Fisher matrix to get the parameter covariance\n",
    "CovMat = np.linalg.inv(Fishermat)\n",
    "print ('\\nCorrelation matrix for parameters:\\n', )\n",
    "print (CovMat/np.sqrt(np.outer(np.diag(CovMat),np.diag(CovMat))))\n",
    "\n",
    "print ('\\nCorrelation matrix diagonal:\\n', )\n",
    "print( np.diag(CovMat))"
   ]
  },
  {
   "cell_type": "code",
   "execution_count": 21,
   "metadata": {},
   "outputs": [],
   "source": [
    "#np.matmul(Fishermat,CovMat)"
   ]
  },
  {
   "cell_type": "code",
   "execution_count": 22,
   "metadata": {},
   "outputs": [
    {
     "name": "stdout",
     "output_type": "stream",
     "text": [
      "\n",
      "varying zdep = \n",
      "\t ['b', 'b2', 'N', 'cs0', 'cs2', 'cs4', 'f']\n",
      "at z = 0.5 : zdep fiducials = \n",
      "\t [ 1.471e+00 -3.930e-01  6.760e+02  2.718e+00  2.322e+01  1.954e+01  7.332e-01]\n",
      "at z = 0.5 : marged err = \n",
      "\t [3.273e-02 5.824e-01 9.260e+02 1.965e+00 2.617e+00 2.279e+00 2.448e-02]\n",
      "at z = 0.5 : unmarged err = \n",
      "\t [1.109e-03 5.981e-03 8.136e+00 6.765e-02 2.389e-01 1.558e-01 1.815e-03]\n",
      "at z = 0.5 : marged % err = \n",
      "\t [  2.225 148.182 136.975  72.307  11.272  11.662   3.338]\n",
      "at z = 0.5 : unmarged % err = \n",
      "\t [0.075 1.522 1.204 2.489 1.029 0.797 0.248]\n"
     ]
    }
   ],
   "source": [
    "# Print the errors nicely\n",
    "Nvar  = len(varypars)\n",
    "\n",
    "varyshape = list(set(zidep)&set(varypars))\n",
    "if len(varyshape)>0:\n",
    "    shapeind = [fm_index[p][0] for p in varyshape]\n",
    "    shapefid = np.array([fids[p] for p in varyshape])\n",
    "    print ('\\nvarying shape = \\n\\t', varyshape)\n",
    "    print ('shape fiducials = \\n\\t', shapefid)\n",
    "    print ('unmarged err = \\n\\t', np.sqrt(1./np.diag(Fishermat))[shapeind])\n",
    "    print ('marged err = \\n\\t', np.sqrt(np.diag(CovMat))[shapeind])\n",
    "    print ('unmarged % err = \\n\\t', np.sqrt(1./np.diag(Fishermat))[shapeind]/np.abs(shapefid)*100)\n",
    "    print ('marged % err = \\n\\t', np.sqrt(np.diag(CovMat))[shapeind]/np.abs(shapefid)*100)\n",
    "\n",
    "#varyzdep = list(set(varypars)&set(zdep))\n",
    "varyzdep = varypars\n",
    "\n",
    "zdepfid = np.array([fids[p] for p in varyzdep])\n",
    "print ('\\nvarying zdep = \\n\\t', varyzdep)\n",
    "if len(varyzdep)>0:\n",
    "    for iz, z in enumerate(z_vals):\n",
    "        zdepind = np.array([fm_index[p] for p in varyzdep])\n",
    "        print ('at z =',z,': zdep fiducials = \\n\\t', zdepfid[:,iz])\n",
    "        merrs = np.sqrt(np.diag(CovMat))[zdepind[:,iz]]\n",
    "        print ('at z =',z,': marged err = \\n\\t', merrs)\n",
    "        uerrs = np.sqrt(1./np.diag(Fishermat))[zdepind[:,iz]]\n",
    "        print ('at z =',z,': unmarged err = \\n\\t', uerrs)\n",
    "        print ('at z =',z,': marged % err = \\n\\t', merrs/np.abs(zdepfid[:,iz])*100.)\n",
    "        print ('at z =',z,': unmarged % err = \\n\\t', uerrs/np.abs(zdepfid[:,iz])*100.)"
   ]
  },
  {
   "cell_type": "code",
   "execution_count": 23,
   "metadata": {},
   "outputs": [
    {
     "data": {
      "image/png": "[encoded data removed]",
      "text/plain": [
       "<Figure size 504x360 with 2 Axes>"
      ]
     },
     "metadata": {},
     "output_type": "display_data"
    }
   ],
   "source": [
    "import pandas as pd\n",
    "import seaborn as sns; sns.set()\n",
    "sns.set(font_scale=1.6)\n",
    "\n",
    "fig = plt.figure(figsize=(7,5))\n",
    "df = pd.DataFrame(CovMat/np.sqrt(np.outer(np.diag(CovMat),np.diag(CovMat))))\n",
    "df.rename(columns={0:'$b_1$',1:'$b_2$',2:'$N$',3:'$c^2_{s,0}$',4:'$c^2_{s,2}$',5:'$c^2_{s,4}$',6:'$f$',7:'$\\sigma_8$',8:'$D_A$',9:'$H$'}, inplace=True)\n",
    "df.rename(index={0:'$b_1$',1:'$b_2$',2:'$N$',3:'$c^2_{s,0}$',4:'$c^2_{s,2}$',5:'$c^2_{s,4}$',6:'$f$',7:'$\\sigma_8$',8:'$D_A$',9:'$H$'}, inplace=True)\n",
    "ax = sns.heatmap(df, cmap=\"PiYG\", vmin=-1, vmax=1, annot = True, fmt='.2f')\n",
    "\n",
    "ax.set_title('$\\mathrm{EFTofLSS}, z=0.5$')\n",
    "#plt.savefig('corr-mat-eft-zeq0p5.pdf', format=\"pdf\", bbox_inches = 'tight')\n",
    "\n",
    "plt.show()"
   ]
  },
  {
   "cell_type": "code",
   "execution_count": 24,
   "metadata": {},
   "outputs": [
    {
     "data": {
      "text/html": [
       "<div>\n",
       "<style scoped>\n",
       "    .dataframe tbody tr th:only-of-type {\n",
       "        vertical-align: middle;\n",
       "    }\n",
       "\n",
       "    .dataframe tbody tr th {\n",
       "        vertical-align: top;\n",
       "    }\n",
       "\n",
       "    .dataframe thead th {\n",
       "        text-align: right;\n",
       "    }\n",
       "</style>\n",
       "<table border=\"1\" class=\"dataframe\">\n",
       "  <thead>\n",
       "    <tr style=\"text-align: right;\">\n",
       "      <th></th>\n",
       "      <th>$b_1$</th>\n",
       "      <th>$b_2$</th>\n",
       "      <th>$N$</th>\n",
       "      <th>$c^2_{s,0}$</th>\n",
       "      <th>$c^2_{s,2}$</th>\n",
       "      <th>$c^2_{s,4}$</th>\n",
       "      <th>$f$</th>\n",
       "    </tr>\n",
       "  </thead>\n",
       "  <tbody>\n",
       "    <tr>\n",
       "      <th>$b_1$</th>\n",
       "      <td>1.000000</td>\n",
       "      <td>0.970448</td>\n",
       "      <td>-0.984994</td>\n",
       "      <td>-0.097940</td>\n",
       "      <td>0.902749</td>\n",
       "      <td>0.149178</td>\n",
       "      <td>-0.587712</td>\n",
       "    </tr>\n",
       "    <tr>\n",
       "      <th>$b_2$</th>\n",
       "      <td>0.970448</td>\n",
       "      <td>1.000000</td>\n",
       "      <td>-0.971925</td>\n",
       "      <td>0.060683</td>\n",
       "      <td>0.840675</td>\n",
       "      <td>0.055401</td>\n",
       "      <td>-0.607203</td>\n",
       "    </tr>\n",
       "    <tr>\n",
       "      <th>$N$</th>\n",
       "      <td>-0.984994</td>\n",
       "      <td>-0.971925</td>\n",
       "      <td>1.000000</td>\n",
       "      <td>0.173853</td>\n",
       "      <td>-0.931434</td>\n",
       "      <td>-0.255080</td>\n",
       "      <td>0.483129</td>\n",
       "    </tr>\n",
       "    <tr>\n",
       "      <th>$c^2_{s,0}$</th>\n",
       "      <td>-0.097940</td>\n",
       "      <td>0.060683</td>\n",
       "      <td>0.173853</td>\n",
       "      <td>1.000000</td>\n",
       "      <td>-0.439409</td>\n",
       "      <td>-0.879713</td>\n",
       "      <td>-0.541544</td>\n",
       "    </tr>\n",
       "    <tr>\n",
       "      <th>$c^2_{s,2}$</th>\n",
       "      <td>0.902749</td>\n",
       "      <td>0.840675</td>\n",
       "      <td>-0.931434</td>\n",
       "      <td>-0.439409</td>\n",
       "      <td>1.000000</td>\n",
       "      <td>0.456002</td>\n",
       "      <td>-0.270229</td>\n",
       "    </tr>\n",
       "    <tr>\n",
       "      <th>$c^2_{s,4}$</th>\n",
       "      <td>0.149178</td>\n",
       "      <td>0.055401</td>\n",
       "      <td>-0.255080</td>\n",
       "      <td>-0.879713</td>\n",
       "      <td>0.456002</td>\n",
       "      <td>1.000000</td>\n",
       "      <td>0.679678</td>\n",
       "    </tr>\n",
       "    <tr>\n",
       "      <th>$f$</th>\n",
       "      <td>-0.587712</td>\n",
       "      <td>-0.607203</td>\n",
       "      <td>0.483129</td>\n",
       "      <td>-0.541544</td>\n",
       "      <td>-0.270229</td>\n",
       "      <td>0.679678</td>\n",
       "      <td>1.000000</td>\n",
       "    </tr>\n",
       "  </tbody>\n",
       "</table>\n",
       "</div>"
      ],
      "text/plain": [
       "                $b_1$     $b_2$       $N$  $c^2_{s,0}$  $c^2_{s,2}$  \\\n",
       "$b_1$        1.000000  0.970448 -0.984994    -0.097940     0.902749   \n",
       "$b_2$        0.970448  1.000000 -0.971925     0.060683     0.840675   \n",
       "$N$         -0.984994 -0.971925  1.000000     0.173853    -0.931434   \n",
       "$c^2_{s,0}$ -0.097940  0.060683  0.173853     1.000000    -0.439409   \n",
       "$c^2_{s,2}$  0.902749  0.840675 -0.931434    -0.439409     1.000000   \n",
       "$c^2_{s,4}$  0.149178  0.055401 -0.255080    -0.879713     0.456002   \n",
       "$f$         -0.587712 -0.607203  0.483129    -0.541544    -0.270229   \n",
       "\n",
       "             $c^2_{s,4}$       $f$  \n",
       "$b_1$           0.149178 -0.587712  \n",
       "$b_2$           0.055401 -0.607203  \n",
       "$N$            -0.255080  0.483129  \n",
       "$c^2_{s,0}$    -0.879713 -0.541544  \n",
       "$c^2_{s,2}$     0.456002 -0.270229  \n",
       "$c^2_{s,4}$     1.000000  0.679678  \n",
       "$f$             0.679678  1.000000  "
      ]
     },
     "execution_count": 24,
     "metadata": {},
     "output_type": "execute_result"
    }
   ],
   "source": [
    "df"
   ]
  },
  {
   "cell_type": "markdown",
   "metadata": {},
   "source": [
    "## Add Gaussian priors on parameters."
   ]
  },
  {
   "cell_type": "code",
   "execution_count": 25,
   "metadata": {},
   "outputs": [
    {
     "name": "stdout",
     "output_type": "stream",
     "text": [
      "b index 0\n",
      "N index 2\n",
      "combined marged [6.111e-03 1.431e-01 6.741e+01 1.935e+00 9.688e-01 2.203e+00 2.144e-02]\n",
      "\n",
      "Correlation coefficients after adding EFT parameters priors:\n",
      "[[ 1.     0.396 -0.383  0.393 -0.142 -0.557 -0.698]\n",
      " [ 0.396  1.    -0.288  0.945 -0.658 -0.805 -0.651]\n",
      " [-0.383 -0.288  1.     0.013 -0.183 -0.02   0.04 ]\n",
      " [ 0.393  0.945  0.013  1.    -0.763 -0.877 -0.724]\n",
      " [-0.142 -0.658 -0.183 -0.763  1.     0.614  0.547]\n",
      " [-0.557 -0.805 -0.02  -0.877  0.614  1.     0.947]\n",
      " [-0.698 -0.651  0.04  -0.724  0.547  0.947  1.   ]]\n"
     ]
    }
   ],
   "source": [
    "# Play with priors on nuisance parameters\n",
    "EFTmat = Fishermat*0.\n",
    "EFT_errors = {\n",
    "#    'cs0': (cs0_fid/100)*10, \n",
    "#    'cs2': (cs2_fid/100)*10,\n",
    "#    'cs4': (cs4_fid/100)*10,\n",
    "    'b'  : (b_fid/100)*10,\n",
    "    'N' : (N_fid/100)*10\n",
    "}\n",
    "for p in EFT_errors.keys():\n",
    "    if p not in varyzdep: continue\n",
    "    print (p, 'index', fm_index[p][0])\n",
    "    EFTmat[fm_index[p][0],fm_index[p][0]] = 1./EFT_errors[p]**2\n",
    "\n",
    "Fishermat_comb = Fishermat+EFTmat\n",
    "CovMat_comb = scipy.linalg.pinv(Fishermat_comb)\n",
    "print ('combined marged',  np.sqrt(np.diag(CovMat_comb)))\n",
    "\n",
    "print ('\\nCorrelation coefficients after adding EFT parameters priors:')\n",
    "print (CovMat_comb/np.sqrt(np.outer(np.diag(CovMat_comb),np.diag(CovMat_comb))))"
   ]
  },
  {
   "cell_type": "code",
   "execution_count": 26,
   "metadata": {},
   "outputs": [
    {
     "data": {
      "image/png": "[encoded data removed]",
      "text/plain": [
       "<Figure size 504x360 with 2 Axes>"
      ]
     },
     "metadata": {},
     "output_type": "display_data"
    }
   ],
   "source": [
    "import pandas as pd\n",
    "import seaborn as sns; sns.set()\n",
    "sns.set(font_scale=1.6)\n",
    "\n",
    "fig = plt.figure(figsize=(7,5))\n",
    "df = pd.DataFrame(CovMat_comb/np.sqrt(np.outer(np.diag(CovMat_comb),np.diag(CovMat_comb))))\n",
    "df.rename(columns={0:'$b_1$',1:'$b_2$',2:'$N$',3:'$c^2_{s,0}$',4:'$c^2_{s,2}$',5:'$c^2_{s,4}$',6:'$f$',7:'$\\sigma_8$',8:'$D_A$',9:'$H$'}, inplace=True)\n",
    "df.rename(index={0:'$b_1$',1:'$b_2$',2:'$N$',3:'$c^2_{s,0}$',4:'$c^2_{s,2}$',5:'$c^2_{s,4}$',6:'$f$',7:'$\\sigma_8$',8:'$D_A$',9:'$H$'}, inplace=True)\n",
    "ax = sns.heatmap(df, cmap=\"PiYG\", vmin=-1, vmax=1, annot = True, fmt='.2f')\n",
    "\n",
    "ax.set_title('$\\mathrm{EFTofLSS}, z=0.5$')\n",
    "#plt.savefig('corr-mat-eft-priors-zeq0p5.pdf', format=\"pdf\", bbox_inches = 'tight')\n",
    "\n",
    "plt.show()"
   ]
  },
  {
   "cell_type": "code",
   "execution_count": 27,
   "metadata": {},
   "outputs": [],
   "source": [
    "#df"
   ]
  },
  {
   "cell_type": "code",
   "execution_count": 28,
   "metadata": {
    "scrolled": true
   },
   "outputs": [
    {
     "name": "stdout",
     "output_type": "stream",
     "text": [
      "\n",
      "varying zdep = \n",
      "\t ['b', 'b2', 'N', 'cs0', 'cs2', 'cs4', 'f']\n",
      "at z = 0.5 : zdep fiducials = \n",
      "\t [ 1.471e+00 -3.930e-01  6.760e+02  2.718e+00  2.322e+01  1.954e+01  7.332e-01]\n",
      "at z = 0.5 : marged err = \n",
      "\t [6.111e-03 1.431e-01 6.741e+01 1.935e+00 9.688e-01 2.203e+00 2.144e-02]\n",
      "at z = 0.5 : unmarged err = \n",
      "\t [1.109e-03 5.981e-03 8.078e+00 6.765e-02 2.389e-01 1.558e-01 1.815e-03]\n",
      "at z = 0.5 : marged % err = \n",
      "\t [ 0.415 36.404  9.972 71.203  4.173 11.275  2.924]\n",
      "at z = 0.5 : unmarged % err = \n",
      "\t [0.075 1.522 1.195 2.489 1.029 0.797 0.248]\n"
     ]
    }
   ],
   "source": [
    "# Print the errors nicely\n",
    "Nvar  = len(varypars)\n",
    "\n",
    "#varyzdep = list(set(varypars)&set(zdep))\n",
    "varyzdep = varypars\n",
    "\n",
    "zdepfid = np.array([fids[p] for p in varyzdep])\n",
    "print ('\\nvarying zdep = \\n\\t', varyzdep)\n",
    "if len(varyzdep)>0:\n",
    "    for iz, z in enumerate(z_vals):\n",
    "        zdepind = np.array([fm_index[p] for p in varyzdep])\n",
    "        print ('at z =',z,': zdep fiducials = \\n\\t', zdepfid[:,iz])\n",
    "        merrs = np.sqrt(np.diag(CovMat_comb))[zdepind[:,iz]]\n",
    "        print ('at z =',z,': marged err = \\n\\t', merrs)\n",
    "        uerrs = np.sqrt(1./np.diag(Fishermat_comb))[zdepind[:,iz]]\n",
    "        print ('at z =',z,': unmarged err = \\n\\t', uerrs)\n",
    "        print ('at z =',z,': marged % err = \\n\\t', merrs/np.abs(zdepfid[:,iz])*100.)\n",
    "        print ('at z =',z,': unmarged % err = \\n\\t', uerrs/np.abs(zdepfid[:,iz])*100.)"
   ]
  },
  {
   "cell_type": "markdown",
   "metadata": {},
   "source": [
    "## Draw Ellipses"
   ]
  },
  {
   "cell_type": "code",
   "execution_count": 29,
   "metadata": {},
   "outputs": [
    {
     "data": {
      "image/png": "[encoded data removed]",
      "text/plain": [
       "<Figure size 504x504 with 1 Axes>"
      ]
     },
     "metadata": {},
     "output_type": "display_data"
    }
   ],
   "source": [
    "sns.set_style(\"ticks\")\n",
    "\n",
    "# Choose what to plot\n",
    "zi = 0; par0 = 'f'; par1 = 'N';\n",
    "\n",
    "# Get the indices in the Covariance Matrix of the two parameters we want to plot\n",
    "p0i = varyzdep.index(par0); index0 = zdepind[:,zi] # change this to shapeind if using shape!\n",
    "p1i = varyzdep.index(par1); index1 = zdepind[:,zi] # change this to shapeind if using shape!\n",
    "\n",
    "# Get the fiducial values for the ellipse centre\n",
    "c0 = fids[par0][zi] # remove the [zi] if par0 is a shape parameter!\n",
    "c1 = fids[par1][zi] # remove the [zi] if par1 is a shape parameter!\n",
    "\n",
    "# Marginalise out everything else and make a new 2x2 Covariance Matrix\n",
    "marg_all = True\n",
    "if marg_all:\n",
    "    covmat_2D = np.zeros((2,2))\n",
    "    covmat_2D[0,0] = CovMat[index0[p0i],index0[p0i]]\n",
    "    covmat_2D[1,1] = CovMat[index1[p1i],index1[p1i]]\n",
    "    covmat_2D[0,1] = CovMat[index0[p0i],index1[p1i]]\n",
    "    covmat_2D[1,0] = covmat_2D[0,1]\n",
    "    \n",
    "    \n",
    "else:\n",
    "    fishmat_2D = np.zeros((2,2))\n",
    "    fishmat_2D[0,0] = Fishermat[index0[p0i],index0[p0i]]\n",
    "    fishmat_2D[1,1] = Fishermat[index1[p1i],index1[p1i]]\n",
    "    fishmat_2D[0,1] = Fishermat[index0[p0i],index1[p1i]]\n",
    "    fishmat_2D[1,0] = fishmat_2D[0,1]\n",
    "    covmat_2D = np.linalg.inv(fishmat_2D)\n",
    "    del fishmat_2D\n",
    "\n",
    "def get_ellipses(centre,CM_2D):\n",
    "    # We will need coefficients for the ellipse depending on the number of sigma level we want\n",
    "    CL_alpha = {\n",
    "        1: 1.52, \n",
    "        2: 2.48,\n",
    "        3: 3.44\n",
    "    }\n",
    "\n",
    "    # Get the errors\n",
    "    FM_2D = np.linalg.inv(CM_2D)\n",
    "    em0 = np.sqrt(CM_2D[0,0])\n",
    "    eu0 = np.sqrt(1./FM_2D[0,0])\n",
    "    em1 = np.sqrt(CM_2D[1,1])\n",
    "    eu1 = np.sqrt(1./FM_2D[1,1])\n",
    "\n",
    "    #print par0, eu0, em0\n",
    "    #print par1, eu1, em1\n",
    "\n",
    "    # Now calculate the ellipse parameters\n",
    "    a = np.sqrt(0.5*(CM_2D[0,0]+CM_2D[1,1]) + np.sqrt(0.25*(CM_2D[0,0]-CM_2D[1,1])**2 + CM_2D[0,1]**2))\n",
    "    b = np.sqrt(0.5*(CM_2D[0,0]+CM_2D[1,1]) - np.sqrt(0.25*(CM_2D[0,0]-CM_2D[1,1])**2 + CM_2D[0,1]**2))\n",
    "    theta = 180./np.pi * 0.5*np.arctan(2.*CM_2D[0,1] / (CM_2D[0,0]-CM_2D[1,1])) # should be in degrees\n",
    "\n",
    "    if CM_2D[0,0]<CM_2D[1,1]:\n",
    "        width=2.*b\n",
    "        height=2.*a\n",
    "    else:\n",
    "        width=2.*a\n",
    "        height=2.*b\n",
    "\n",
    "    # Create all the ellipses\n",
    "    ellipse1 = Ellipse([centre[0],centre[1]], width*CL_alpha[1], height*CL_alpha[1], theta, \n",
    "                       linewidth=0, fill=True, zorder=2, alpha=0.7, color='green')\n",
    "    ellipse2 = Ellipse([centre[0],centre[1]], width*CL_alpha[2], height*CL_alpha[2], theta, \n",
    "                       linewidth=0, fill=True, zorder=2, alpha=0.2, color='green')\n",
    "\n",
    "    return ellipse1, ellipse2, CL_alpha[1]*em0, CL_alpha[1]*em1, CL_alpha[1]*eu0, CL_alpha[1]*eu1\n",
    "\n",
    "# Make a test plot\n",
    "ell1, ell2, errm0, errm1, erru0, erru1 = get_ellipses([c0,c1],covmat_2D)\n",
    "\n",
    "fig, ax = plt.subplots(figsize=(7,7))\n",
    "\n",
    "ax.axhline(c1,ls='--',c='k',lw=1); ax.axvline(c0,ls='--',c='k',lw=1) # Centre lines\n",
    "#ax.axvline(c0-errm0,ls=':',c='g',lw=1); ax.axvline(c0+errm0,ls=':',c='g',lw=1) # Marginalised error lines par0\n",
    "#ax.axvline(c0-erru0,ls=':',c='c',lw=1); ax.axvline(c0+erru0,ls=':',c='c',lw=1) # Marginalised error lines par0\n",
    "#ax.axhline(c1-errm1,ls=':',c='g',lw=1); ax.axhline(c1+errm1,ls=':',c='g',lw=1) # Marginalised error lines par1\n",
    "#ax.axhline(c1-erru1,ls=':',c='c',lw=1); ax.axhline(c1+erru1,ls=':',c='c',lw=1) # Marginalised error lines par1\n",
    "\n",
    "ax.add_artist(ell1)\n",
    "ax.add_artist(ell2)\n",
    "ax.set_xlim(c0-errm0*2.1, c0+errm0*2.1)\n",
    "ax.set_ylim(c1-errm1*2.1, c1+errm1*2.1)\n",
    "ax.tick_params(color='black')\n",
    "ax.set_facecolor('none')\n",
    "#ax.axis('off')\n",
    "\n",
    "plt.xlabel(par0+'(z='+str(z_vals[zi])+')')\n",
    "plt.ylabel(par1+'(z='+str(z_vals[zi])+')')\n",
    "\n",
    "#plt.savefig('test.png', format=\"png\", bbox_inches = 'tight')\n",
    "plt.show()"
   ]
  },
  {
   "cell_type": "code",
   "execution_count": 30,
   "metadata": {
    "scrolled": true
   },
   "outputs": [
    {
     "data": {
      "image/png": "[encoded data removed]",
      "text/plain": [
       "<Figure size 504x504 with 1 Axes>"
      ]
     },
     "metadata": {},
     "output_type": "display_data"
    }
   ],
   "source": [
    "sns.set_style(\"ticks\")\n",
    "\n",
    "# Choose what to plot\n",
    "zi = 0; par0 = 'f'; par1 = 'N';\n",
    "\n",
    "# Get the indices in the Covariance Matrix of the two parameters we want to plot\n",
    "p0i = varyzdep.index(par0); index0 = zdepind[:,zi] # change this to shapeind if using shape!\n",
    "p1i = varyzdep.index(par1); index1 = zdepind[:,zi] # change this to shapeind if using shape!\n",
    "\n",
    "# Get the fiducial values for the ellipse centre\n",
    "c0 = fids[par0][zi] # remove the [zi] if par0 is a shape parameter!\n",
    "c1 = fids[par1][zi] # remove the [zi] if par1 is a shape parameter!\n",
    "\n",
    "# Marginalise out everything else and make a new 2x2 Covariance Matrix\n",
    "marg_all = True\n",
    "if marg_all:\n",
    "    covmat_2D_comb = np.zeros((2,2))\n",
    "    covmat_2D_comb[0,0] = CovMat_comb[index0[p0i],index0[p0i]]\n",
    "    covmat_2D_comb[1,1] = CovMat_comb[index1[p1i],index1[p1i]]\n",
    "    covmat_2D_comb[0,1] = CovMat_comb[index0[p0i],index1[p1i]]\n",
    "    covmat_2D_comb[1,0] = covmat_2D_comb[0,1]\n",
    "    \n",
    "else:\n",
    "    fishmat_2D_comb = np.zeros((2,2))\n",
    "    fishmat_2D_comb[0,0] = Fishermat_comb[index0[p0i],index0[p0i]]\n",
    "    fishmat_2D_comb[1,1] = Fishermat_comb[index1[p1i],index1[p1i]]\n",
    "    fishmat_2D_comb[0,1] = Fishermat_comb[index0[p0i],index1[p1i]]\n",
    "    fishmat_2D_comb[1,0] = fishmat_2D_comb[0,1]\n",
    "    covmat_2D_comb = np.linalg.inv(fishmat_2D_comb)\n",
    "    del fishmat_2D_comb\n",
    "\n",
    "def get_ellipses(centre,CM_2D,sty={'w':0,'s':'-','f':True,'a':0.7,'c':'green'}):\n",
    "    # We will need coefficients for the ellipse depending on the number of sigma level we want\n",
    "    CL_alpha = {\n",
    "        1: 1.52, \n",
    "        2: 2.48,\n",
    "        3: 3.44\n",
    "    }\n",
    "\n",
    "    # Get the errors\n",
    "    FM_2D = np.linalg.inv(CM_2D)\n",
    "    em0 = np.sqrt(CM_2D[0,0])\n",
    "    eu0 = np.sqrt(1./FM_2D[0,0])\n",
    "    em1 = np.sqrt(CM_2D[1,1])\n",
    "    eu1 = np.sqrt(1./FM_2D[1,1])\n",
    "\n",
    "    #print par0, eu0, em0\n",
    "    #print par1, eu1, em1\n",
    "\n",
    "    # Now calculate the ellipse parameters\n",
    "    a = np.sqrt(0.5*(CM_2D[0,0]+CM_2D[1,1]) + np.sqrt(0.25*(CM_2D[0,0]-CM_2D[1,1])**2 + CM_2D[0,1]**2))\n",
    "    b = np.sqrt(0.5*(CM_2D[0,0]+CM_2D[1,1]) - np.sqrt(0.25*(CM_2D[0,0]-CM_2D[1,1])**2 + CM_2D[0,1]**2))\n",
    "    theta = 180./np.pi * 0.5*np.arctan(2.*CM_2D[0,1] / (CM_2D[0,0]-CM_2D[1,1])) # should be in degrees\n",
    "\n",
    "    if CM_2D[0,0]<CM_2D[1,1]:\n",
    "        width=2.*b\n",
    "        height=2.*a\n",
    "    else:\n",
    "        width=2.*a\n",
    "        height=2.*b\n",
    "\n",
    "    # Create all the ellipses   linestyles = ['-', '--'\n",
    "    ellipse1 = Ellipse([centre[0],centre[1]], width*CL_alpha[1], height*CL_alpha[1], theta, \n",
    "                       linewidth=sty['w'], ls = sty['s'], fill=sty['f'], zorder=2, alpha=sty['a'], color=sty['c'])\n",
    "    leg1 = ellipse1.set(clip_box=ax.bbox, alpha=sty['a'], facecolor=sty['c'], edgecolor = 'black')\n",
    "    ellipse2 = Ellipse([centre[0],centre[1]], width*CL_alpha[2], height*CL_alpha[2], theta, \n",
    "                       linewidth=sty['w'], ls = sty['s'], fill=sty['f'], zorder=2, alpha=sty['a']/2, color=sty['c'])\n",
    "    leg2 = ellipse2.set(clip_box=ax.bbox, alpha=sty['a']/2, facecolor=sty['c'], edgecolor = 'black')\n",
    "\n",
    "    return ellipse1, ellipse2, CL_alpha[1]*em0, CL_alpha[1]*em1, CL_alpha[1]*eu0, CL_alpha[1]*eu1, leg1, leg2\n",
    "\n",
    "# Make a test plot\n",
    "ell1, ell2, errm0, errm1, erru0, erru1, leg1, leg2 = get_ellipses([c0,c1],covmat_2D,\n",
    "                                                    {'w':2,'s':'-','f':True,'a':0.4,'c':'tab:green'}) #without priors\n",
    "ell1_p, ell2_p, errm0_p, errm1_p, erru0_p, erru1_p, leg1_p, leg2_p = get_ellipses([c0,c1],covmat_2D_comb,\n",
    "                                                    {'w':2,'s':'--','f':True,'a':0.9,'c':'tab:purple'}) #with priors\n",
    "ells = [ell1,ell2,ell1_p,ell2_p]\n",
    "fig, ax = plt.subplots(figsize=(7,7))\n",
    "\n",
    "#ax.axhline(c1,ls='--',c='k',lw=1); ax.axvline(c0,ls='--',c='k',lw=1) # Centre lines\n",
    "#ax.axvline(c0-errm0,ls=':',c='g',lw=1); ax.axvline(c0+errm0,ls=':',c='g',lw=1) # Marginalised error lines par0\n",
    "#ax.axvline(c0-erru0,ls=':',c='c',lw=1); ax.axvline(c0+erru0,ls=':',c='c',lw=1) # Marginalised error lines par0\n",
    "#ax.axhline(c1-errm1,ls=':',c='g',lw=1); ax.axhline(c1+errm1,ls=':',c='g',lw=1) # Marginalised error lines par1\n",
    "#ax.axhline(c1-erru1,ls=':',c='c',lw=1); ax.axhline(c1+erru1,ls=':',c='c',lw=1) # Marginalised error lines par1\n",
    "\n",
    "ax.add_artist(ell1)\n",
    "ax.add_artist(ell2)\n",
    "ax.add_artist(ell1_p)\n",
    "ax.add_artist(ell2_p)\n",
    "ax.set_xlim(c0-errm0*2.1, c0+errm0*2.1)\n",
    "ax.set_ylim(c1-errm1*2.1, c1+errm1*2.4)\n",
    "ax.tick_params(color='black')\n",
    "ax.set_facecolor('none')\n",
    "#ax.axis('off')\n",
    "\n",
    "#plt.xlabel(par0+'(z='+str(z_vals[zi])+')')\n",
    "#plt.ylabel(par1+'(z='+str(z_vals[zi])+')')\n",
    "plt.xlabel('$f(z=0.5)$')\n",
    "plt.ylabel('$N(z=0.5)$')\n",
    "\n",
    "ax.legend([ell1,ell1_p], [r'no prior',r'with $10\\%$ prior on $\\{b_1,N\\}$'],loc='upper left',frameon=False)\n",
    "\n",
    "#plt.savefig('contour-EFT-zeq0p5.pdf', format=\"pdf\", bbox_inches = 'tight')\n",
    "\n",
    "plt.show()"
   ]
  },
  {
   "cell_type": "markdown",
   "metadata": {
    "collapsed": true
   },
   "source": [
    "#### Alkistis & Dida, 2019"
   ]
  }
 ],
 "metadata": {
  "anaconda-cloud": {},
  "kernelspec": {
   "display_name": "Python 3",
   "language": "python",
   "name": "python3"
  },
  "language_info": {
   "codemirror_mode": {
    "name": "ipython",
    "version": 3
   },
   "file_extension": ".py",
   "mimetype": "text/x-python",
   "name": "python",
   "nbconvert_exporter": "python",
   "pygments_lexer": "ipython3",
   "version": "3.7.3"
  }
 },
 "nbformat": 4,
 "nbformat_minor": 1
}
