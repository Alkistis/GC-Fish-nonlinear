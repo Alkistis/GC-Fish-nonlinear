{
 "cells": [
  {
   "cell_type": "markdown",
   "metadata": {},
   "source": [
    "# TNS Fisher forecasts on GC multipoles at z=0.5"
   ]
  },
  {
   "cell_type": "code",
   "execution_count": 1,
   "metadata": {},
   "outputs": [],
   "source": [
    "# Name this run - this will determine the name for the file into which the covariance matrix will be saved\n",
    "runname = 'el024_mcmcfids'"
   ]
  },
  {
   "cell_type": "markdown",
   "metadata": {},
   "source": [
    "## Set up the notebook"
   ]
  },
  {
   "cell_type": "code",
   "execution_count": 2,
   "metadata": {},
   "outputs": [],
   "source": [
    "# Import the science packages/libraries\n",
    "from __future__ import division\n",
    "from __future__ import print_function\n",
    "import numpy as np\n",
    "import scipy, scipy.interpolate, scipy.misc, scipy.integrate, scipy.stats\n",
    "import elgc\n",
    "import getdist, getdist.plots, IPython\n",
    "from matplotlib.patches import Patch\n",
    "from matplotlib.lines import Line2D\n",
    "\n",
    "import os.path as op\n",
    "import matplotlib.pyplot as plt"
   ]
  },
  {
   "cell_type": "code",
   "execution_count": 3,
   "metadata": {},
   "outputs": [],
   "source": [
    "# Set plotting and printing\n",
    "\n",
    "%matplotlib inline\n",
    "\n",
    "font = {'size'   : 16, 'family':'STIXGeneral'}\n",
    "axislabelfontsize='x-large'\n",
    "plt.rc('font', **font)\n",
    "plt.rcParams['text.usetex'] = True\n",
    "\n",
    "np.set_printoptions(precision=3,linewidth=200,suppress=False)\n",
    "\n",
    "from matplotlib.patches import Ellipse"
   ]
  },
  {
   "cell_type": "code",
   "execution_count": 4,
   "metadata": {},
   "outputs": [
    {
     "name": "stdout",
     "output_type": "stream",
     "text": [
      "['f', 'b', 'b2', 'N', 'sv']\n"
     ]
    }
   ],
   "source": [
    "# Main question for the Fisher matrix calculation: which parameters are we varying?\n",
    "# Note that this list determines the order in the output FM as well\n",
    "\n",
    "varypars = ['f','b','b2','N','sv'] \n",
    "\n",
    "print(varypars)"
   ]
  },
  {
   "cell_type": "markdown",
   "metadata": {},
   "source": [
    "## Set up the fiducial model for the Fisher matrix calculation"
   ]
  },
  {
   "cell_type": "code",
   "execution_count": 5,
   "metadata": {},
   "outputs": [],
   "source": [
    "#Fiducial (GR-COLA) cosmology \n",
    "\n",
    "zbin = 0.5\n",
    "\n",
    "c=3e5\n",
    "hubble = 0.697\n",
    "H00 = 100*hubble\n",
    "Tcmb = 2.726\n",
    "ns = 0.971\n",
    "om0 = 0.281\n",
    "omb = 0.046\n",
    "sigma80_fid = 0.844 #this is sigma8 at z=0\n",
    "\n",
    "\n",
    "#Mean MCMC values for TNS at z=0.5 (to compare with the MCMC)\n",
    "sv_fid = 9.544  \n",
    "b_fid = 1.498 \n",
    "b2_fid = 0.4233 \n",
    "N_fid = -468.4 \n",
    "fg_fid = 0.777\n",
    "\n",
    "#kmax at z=0.5 for multipoles: 0,2,4 \n",
    "kmax = [0.227, 0.227, 0.129]"
   ]
  },
  {
   "cell_type": "code",
   "execution_count": 6,
   "metadata": {},
   "outputs": [
    {
     "name": "stdout",
     "output_type": "stream",
     "text": [
      "ps column names: ('k', 'pl', 'pdd', 'pdt', 'ptt', 'P5')\n",
      "abc column names: ('k', 'bu2f2', 'bu2f3', 'bu4f2', 'bu4f3', 'bu6f3', 'b2u2f1', 'b2u2f2', 'b2u2f3', 'b2u2f4', 'b2u4f2', 'b2u4f3', 'b2u4f4', 'b2u6f3', 'b2u6f4', 'b2u8f4', 'u2f4', 'u4f3', 'u4f4', 'u6f3', 'u6f4', 'u8f4')\n",
      "bias column names: ('k', 'ddb0b2', 'ddb02', 'ddb0', 'ddb22', 'ddb2', 'ddnone', 'dtb2', 'dtb0', 'dtnone')\n"
     ]
    }
   ],
   "source": [
    "#k values are the same in all files ### Paths to input files\n",
    "PATHTOINPUTFILES = op.abspath('./inputs/')\n",
    "\n",
    "# Function to read the output files from MG-COPTER\n",
    "def read_copter(path,suffix=''):\n",
    "    \n",
    "    #naming files (following the Mathematica notebook)\n",
    "    psfile = ('eft_ps_components_nw'+suffix+'.dat')\n",
    "    abcfile = ('eft_abc_components'+suffix+'.dat')\n",
    "    biasfile = ('eft_bias_components'+suffix+'.dat')\n",
    "    \n",
    "    # set the names of the columns (following the Mathematica notebook)\n",
    "    pscolnames = 'k', 'pl', 'pdd', 'pdt', 'ptt', 'P5' #P5 not used \n",
    "    abccolnames = 'k', 'bu2f2', 'bu2f3', 'bu4f2', 'bu4f3', 'bu6f3', 'b2u2f1', 'b2u2f2', 'b2u2f3',\\\n",
    "    'b2u2f4', 'b2u4f2', 'b2u4f3', 'b2u4f4', 'b2u6f3', 'b2u6f4', 'b2u8f4', 'u2f4', 'u4f3', 'u4f4',\\\n",
    "    'u6f3', 'u6f4', 'u8f4' \n",
    "    biascolnames = 'k', 'ddb0b2', 'ddb02', 'ddb0', 'ddb22', 'ddb2', 'ddnone', 'dtb2', 'dtb0', 'dtnone'\n",
    "    \n",
    "    return np.genfromtxt(op.join(path,psfile), names=pscolnames),\\\n",
    "           np.genfromtxt(op.join(path,abcfile), names=abccolnames),\\\n",
    "           np.genfromtxt(op.join(path,biasfile), names=biascolnames)\n",
    "\n",
    "# use numpy to read the whole files, the options will make the\n",
    "# resulting object act a bit like a dictionary (a structured array)\n",
    "# so we can query columns by name\n",
    "ps_fid, abc_fid, bias_fid = read_copter(op.join(PATHTOINPUTFILES,'data_fid'),'_fid')\n",
    "print ('ps column names:', ps_fid.dtype.names )# let's print the names to check\n",
    "print ('abc column names:', abc_fid.dtype.names) # let's print the names to check\n",
    "print ('bias column names:', bias_fid.dtype.names) # let's print the names to check"
   ]
  },
  {
   "cell_type": "markdown",
   "metadata": {},
   "source": [
    "## Set up the survey properties"
   ]
  },
  {
   "cell_type": "code",
   "execution_count": 7,
   "metadata": {},
   "outputs": [],
   "source": [
    "### Set up survey with volume 4 Gpc^3/h^3\n",
    "\n",
    "Area = 15000.0*1.06 #deg^2 \n",
    "Dzbin = 0.2\n",
    "z_vals = np.array([zbin]) \n",
    "Nzbin = len(z_vals)\n",
    "\n",
    "#set kmin \n",
    "kmin = 0.006"
   ]
  },
  {
   "cell_type": "code",
   "execution_count": 8,
   "metadata": {},
   "outputs": [
    {
     "name": "stdout",
     "output_type": "stream",
     "text": [
      "401\n"
     ]
    }
   ],
   "source": [
    "#construct array of mu values between -1 and 1 (inclusive)\n",
    "mu_step = 0.005\n",
    "mu = mu_step*np.arange((2/mu_step)+1)-1.\n",
    "#print ('mu array', mu)\n",
    "print (len(mu)) # Note that this has to be large enough to convert to multipoles!\n",
    "\n",
    "# Select multipoles\n",
    "MLPS = [0,2,4]"
   ]
  },
  {
   "cell_type": "markdown",
   "metadata": {},
   "source": [
    "## Define cosmology functions: background and perturbations"
   ]
  },
  {
   "cell_type": "code",
   "execution_count": 9,
   "metadata": {},
   "outputs": [
    {
     "name": "stdout",
     "output_type": "stream",
     "text": [
      "0.733197112933542 0.7784487714884997\n"
     ]
    }
   ],
   "source": [
    "# Functions for DE later\n",
    "def w_integrand(z,w0=-1.,wa=0.):\n",
    "    return (1 + w0+wa*z/(z+1)) / (1+z)\n",
    "def DE_evo(zc,w0=-1.,wa=0.): \n",
    "    return np.exp(3*scipy.integrate.romberg(lambda z: w_integrand(z,w0,wa), 0, zc))\n",
    "\n",
    "# Define E(z) = H(z)/H0\n",
    "def Ez(zc,w0=-1.,wa=0.):\n",
    "    return np.sqrt((1-om0)*DE_evo(zc,w0,wa) + om0*pow(1+zc,3))\n",
    "\n",
    "# LCDM growth rate and growth factor\n",
    "def fg(zz,w0=-1.,wa=0.,gamma=0.55):\n",
    "    omz=om0*pow(1+zz,3)/pow(Ez(zz,w0,wa),2)\n",
    "    return pow(omz,gamma)\n",
    "\n",
    "def Dg_dz(zz,w0=-1.,wa=0.,gamma=0.55):\n",
    "    return -fg(zz,w0,wa)/(1+zz)\n",
    "\n",
    "def Dgz(zz,w0=-1.,wa=0.,gamma=0.55):\n",
    "    start_z = 0.0\n",
    "    ans = scipy.integrate.romberg(lambda z: Dg_dz(z,w0,wa), start_z, zz)\n",
    "    return np.exp(ans)\n",
    "\n",
    "nz = 100\n",
    "fg_fid_interp = np.zeros(nz)\n",
    "Dg_fid_interp = np.zeros(nz)\n",
    "z_for_interp = np.linspace(0,2,nz)\n",
    "for i,z in enumerate(z_for_interp):\n",
    "    fg_fid_interp[i] = fg(z)\n",
    "    Dg_fid_interp[i] = Dgz(z)\n",
    "\n",
    "fg_fid_i = scipy.interpolate.interp1d(z_for_interp,fg_fid_interp,kind='cubic')\n",
    "Dg_fid_i = scipy.interpolate.interp1d(z_for_interp,Dg_fid_interp,kind='cubic')\n",
    "del z_for_interp, Dg_fid_interp, fg_fid_interp, i, z\n",
    "\n",
    "print (fg_fid_i(zbin), Dg_fid_i(zbin))"
   ]
  },
  {
   "cell_type": "code",
   "execution_count": 10,
   "metadata": {},
   "outputs": [
    {
     "name": "stdout",
     "output_type": "stream",
     "text": [
      "3.994\n"
     ]
    }
   ],
   "source": [
    "#Define E(z)=H(z)/H0\n",
    "def Ez(zc):\n",
    "    return np.sqrt(1-om0+om0*pow(1+zc,3))\n",
    "\n",
    "#Define the comoving distance\n",
    "def drdz(zp):\n",
    "    return (c/H00)/Ez(zp)\n",
    "def rcom(zc):\n",
    "    return scipy.integrate.romberg(drdz,0,zc)\n",
    "def DA(zc):\n",
    "    return rcom(zc)/(1+zc)\n",
    "\n",
    "def Vsur(zc): #  (the hubble**3 factor is for units consistency)\n",
    "    z_min = zc-Dzbin/2\n",
    "    DA_min = DA(z_min)\n",
    "    z_max = zc+Dzbin/2\n",
    "    DA_max = DA(z_max)\n",
    "    \n",
    "    F = (4.*np.pi/3.) / (4.*np.pi*(180./np.pi)**2)   \n",
    "    return F * (DA_max**3 *(1+z_max)**3 - DA_min**3 *(1+z_min)**3) * hubble**3 * Area\n",
    "\n",
    "print(round(Vsur(zbin)/1e9,3))"
   ]
  },
  {
   "cell_type": "code",
   "execution_count": 11,
   "metadata": {},
   "outputs": [],
   "source": [
    "#construct the P_lin in 2d (i.e. in k-mu space) needed for the linear covariance used in the MCMC\n",
    "def P_lin(mu_array,f,sig8_z=sigma80_fid*Dg_fid_i(zbin),ps=ps_fid):\n",
    "    muones = mu_array**0.\n",
    "    k_array = ps['k']\n",
    "    \n",
    "    D = sig8_z/sigma80_fid #every term that contains D, contains the same power of sigma80_fid\n",
    "    \n",
    "    blin = 1.46 \n",
    "    \n",
    "    res = blin**2*D**2*np.outer(ps['pl'],muones) + (f/blin)**2*blin**2*D**2*np.outer(ps['pl'],mu_array**4)\\\n",
    "    + 2.*(f/blin)*blin**2*D**2*np.outer(ps['pl'],mu_array**2)\n",
    "                \n",
    "    return res"
   ]
  },
  {
   "cell_type": "code",
   "execution_count": 12,
   "metadata": {},
   "outputs": [
    {
     "name": "stdout",
     "output_type": "stream",
     "text": [
      "900 300\n",
      "k are preserved: True\n"
     ]
    }
   ],
   "source": [
    "#construct the P_TNS in 2d (i.e. in k-mu space)\n",
    "def Ptns_2d(mu_array,f,\n",
    "            b=b_fid,b2=b2_fid,N=N_fid,\n",
    "            sv=sv_fid,\n",
    "            sig8_z=sigma80_fid*Dg_fid_i(zbin),\n",
    "            ps=ps_fid,abc=abc_fid,bias=bias_fid):\n",
    "    muones = mu_array**0.\n",
    "    k_array = ps['k']\n",
    "    \n",
    "    D = sig8_z/sigma80_fid #every term that contains D, contains the same power of sigma80_fid\n",
    "\n",
    "    FoG = 1. / ( 1. + np.outer(k_array**2,mu_array**2)*sv**2/2. )\\\n",
    "    \n",
    "    res = FoG\\\n",
    "    *((b**2*(D**2*np.outer(ps['pl'],muones) + D**4*np.outer(ps['pdd'],muones))\\\n",
    "    + D**4*(b*b2*np.outer(bias['ddb0b2'],muones) + b**2*np.outer(bias['ddb02'],muones)\\\n",
    "    + b*np.outer(bias['ddb0'],muones) + b2**2*np.outer(bias['ddb22'],muones)\\\n",
    "    + b2*np.outer(bias['ddb2'],muones) + np.outer(bias['ddnone'],muones)) + N\\\n",
    "    + 2*(b*(D**2*f*np.outer(ps['pl'],mu_array**2) + D**4*f*np.outer(ps['pdt'],mu_array**2))\\\n",
    "    - D**4*f*(b2*np.outer(bias['dtb2'],mu_array**2) + b*np.outer(bias['dtb0'],mu_array**2) + np.outer(bias['dtnone'],mu_array**2)))\\\n",
    "    + (D**2*f**2*np.outer(ps['pl'],mu_array**4) + D**4*f**2*np.outer(ps['ptt'],mu_array**4)))\\\n",
    "    + D**4*( b*f**2*np.outer(abc['bu2f2'],mu_array**2) + b*f**3*np.outer(abc['bu2f3'],mu_array**2)\\\n",
    "    + b*f**2*np.outer(abc['bu4f2'],mu_array**4)+b*f**3*np.outer(abc['bu4f3'],mu_array**4)\\\n",
    "    + b*f**3*np.outer(abc['bu6f3'],mu_array**6)+b**2*f*np.outer(abc['b2u2f1'],mu_array**2)\\\n",
    "    + b**2*f**2*np.outer(abc['b2u2f2'],mu_array**2)+b**2*f**3*np.outer(abc['b2u2f3'],mu_array**2)\\\n",
    "    + b**2*f**4*np.outer(abc['b2u2f4'],mu_array**2) + b**2*f**2*np.outer(abc['b2u4f2'],mu_array**4)\\\n",
    "    + b**2*f**3*np.outer(abc['b2u4f3'],mu_array**4) + b**2*f**4*np.outer(abc['b2u4f4'],mu_array**4)\\\n",
    "    + b**2*f**3*np.outer(abc['b2u6f3'],mu_array**6) + b**2*f**4*np.outer(abc['b2u6f4'],mu_array**6)\\\n",
    "    + b**2*f**4*np.outer(abc['b2u8f4'],mu_array**8) + f**4*np.outer(abc['u2f4'],mu_array**2)\\\n",
    "    + f**3*np.outer(abc['u4f3'],mu_array**4) + f**4*np.outer(abc['u4f4'],mu_array**4)\\\n",
    "    + f**3*np.outer(abc['u6f3'],mu_array**6) + f**4*np.outer(abc['u6f4'],mu_array**6)\\\n",
    "    + f**4*np.outer(abc['u8f4'],mu_array**8)))\n",
    "                \n",
    "    return res\n",
    "\n",
    "# Now convert to multipoles\n",
    "def Ptns(f,b=b_fid,b2=b2_fid,N=N_fid,\n",
    "         sv=sv_fid,sig8_z=sigma80_fid*Dg_fid_i(zbin),\n",
    "         ps=ps_fid,abc=abc_fid,bias=bias_fid):\n",
    "    \n",
    "    pk2d = Ptns_2d(mu,f,b,b2,N,sv,sig8_z,ps,abc,bias)\n",
    "    \n",
    "    return elgc.pkto1d(ps['k'],mu,pk2d,MLPS)\n",
    "\n",
    "k_test, plk_test = Ptns(fg_fid)\n",
    "print (len(k_test),len(ps_fid['k']))\n",
    "print ('k are preserved:',(elgc.get_k_once(k_test)==ps_fid['k']).all())\n",
    "#plt.plot(k_test,plk_test,'.')\n",
    "#plt.show()\n",
    "#del k_test, plk_test"
   ]
  },
  {
   "cell_type": "code",
   "execution_count": 13,
   "metadata": {},
   "outputs": [
    {
     "name": "stdout",
     "output_type": "stream",
     "text": [
      "(900, 900)\n",
      "[[1083.117    0.       0.    ...    0.       0.       0.   ]\n",
      " [   0.      26.35     0.    ...    0.       0.       0.   ]\n",
      " [   0.       0.       9.061 ...    0.       0.       0.   ]\n",
      " ...\n",
      " [   0.       0.       0.    ...   99.981    0.       0.   ]\n",
      " [   0.       0.       0.    ...    0.     100.746    0.   ]\n",
      " [   0.       0.       0.    ...    0.       0.     101.52 ]]\n"
     ]
    }
   ],
   "source": [
    "# Save the k-array nicely for later\n",
    "k_once = ps_fid['k']\n",
    "k_long = []\n",
    "for l in MLPS:\n",
    "    k_long = np.concatenate((k_long,k_once))\n",
    "\n",
    "# Effective volume: basically Vsur*Cov^(-1)\n",
    "nbar = 1e-3 #h^3/Mpc^3\n",
    "def Veff(zc):\n",
    "    n = nbar    \n",
    "    Pkmu = P_lin(mu,fg_fid) #linear covariance \n",
    "    C = elgc.covll_reduced(k_once,mu,Pkmu,n,MLPS)\n",
    "    return Vsur(zc) * np.linalg.inv(C)\n",
    "\n",
    "veff = Veff(z_vals[0]) # save for later (we really only need to calculate this once per redshift)\n",
    "print (veff.shape)\n",
    "\n",
    "# This looks like it is twice the size of the 2d case \n",
    "# (but this is compensated for by an extra factor of 1/2 in the Fisher matrix)\n",
    "print (veff) "
   ]
  },
  {
   "cell_type": "markdown",
   "metadata": {},
   "source": [
    "## Define how to calculate the derivatives with respect to parameters we wish to vary"
   ]
  },
  {
   "cell_type": "code",
   "execution_count": 14,
   "metadata": {},
   "outputs": [],
   "source": [
    "#Construct the derivatives wrt the bias and EFT parameters\n",
    "\n",
    "#choose the step (convergent derivatives)\n",
    "params_step = 1e-5\n",
    "\n",
    "#Derivative wrt sv \n",
    "def dPtns_dsv():\n",
    "    \n",
    "    P_svp = Ptns(fg_fid,b_fid,b2_fid,N_fid,sv_fid*(1+params_step),\n",
    "                 sigma80_fid*Dg_fid_i(zbin),ps=ps_fid,abc=abc_fid,bias=bias_fid)[1]\n",
    "    P_svm = Ptns(fg_fid,b_fid,b2_fid,N_fid,sv_fid*(1-params_step),\n",
    "                 sigma80_fid*Dg_fid_i(zbin),ps=ps_fid,abc=abc_fid,bias=bias_fid)[1] \n",
    "    \n",
    "    deriv_sv = (P_svp - P_svm)/(2*sv_fid*params_step)\n",
    "\n",
    "    return deriv_sv\n",
    "\n",
    "#Derivative wrt b\n",
    "def dPtns_db():\n",
    "    \n",
    "    P_bp = Ptns(fg_fid,b_fid*(1+params_step),b2_fid,N_fid,sv_fid,\n",
    "                 sigma80_fid*Dg_fid_i(zbin),ps=ps_fid,abc=abc_fid,bias=bias_fid)[1]\n",
    "    P_bm = Ptns(fg_fid,b_fid*(1-params_step),b2_fid,N_fid,sv_fid,\n",
    "                 sigma80_fid*Dg_fid_i(zbin),ps=ps_fid,abc=abc_fid,bias=bias_fid)[1] \n",
    "    \n",
    "    deriv_b = (P_bp - P_bm)/(2*b_fid*params_step)\n",
    "    \n",
    "    return deriv_b\n",
    "    \n",
    "    \n",
    "#Derivative wrt b2\n",
    "def dPtns_db2():#f,D,b,b2,N,sv,ps=ps_fid,abc=abc_fid,bias=bias_fid):\n",
    "    \n",
    "    P_b2p = Ptns(fg_fid,b_fid,b2_fid*(1+params_step),N_fid,sv_fid,\n",
    "                 sigma80_fid*Dg_fid_i(zbin),ps=ps_fid,abc=abc_fid,bias=bias_fid)[1]\n",
    "    P_b2m = Ptns(fg_fid,b_fid,b2_fid*(1-params_step),N_fid,sv_fid,\n",
    "                 sigma80_fid*Dg_fid_i(zbin),ps=ps_fid,abc=abc_fid,bias=bias_fid)[1] \n",
    "    \n",
    "    deriv_b2 = (P_b2p - P_b2m)/(2*b2_fid*params_step)\n",
    "    \n",
    "    \n",
    "    return deriv_b2\n",
    "\n",
    "#Derivative wrt N\n",
    "def dPtns_dN():\n",
    "    \n",
    "    P_Np = Ptns(fg_fid,b_fid,b2_fid,N_fid*(1+params_step),sv_fid,\n",
    "                 sigma80_fid*Dg_fid_i(zbin),ps=ps_fid,abc=abc_fid,bias=bias_fid)[1]\n",
    "    P_Nm = Ptns(fg_fid,b_fid,b2_fid,N_fid*(1-params_step),sv_fid,\n",
    "                 sigma80_fid*Dg_fid_i(zbin),ps=ps_fid,abc=abc_fid,bias=bias_fid)[1]\n",
    "    \n",
    "    deriv_N = (P_Np - P_Nm)/(2*N_fid*params_step)\n",
    "            \n",
    "    return deriv_N\n",
    "\n",
    "#Derivative wrt f\n",
    "def dPtns_df():\n",
    "    \n",
    "    P_fp = Ptns(fg_fid*(1+params_step),b_fid,b2_fid,N_fid,sv_fid,\n",
    "                 sigma80_fid*Dg_fid_i(zbin),ps=ps_fid,abc=abc_fid,bias=bias_fid)[1] \n",
    "    P_fm = Ptns(fg_fid*(1-params_step),b_fid,b2_fid,N_fid,sv_fid,\n",
    "                 sigma80_fid*Dg_fid_i(zbin),ps=ps_fid,abc=abc_fid,bias=bias_fid)[1] \n",
    "    \n",
    "    deriv_f = (P_fp - P_fm)/(2*fg_fid*params_step)\n",
    "            \n",
    "    return deriv_f"
   ]
  },
  {
   "cell_type": "markdown",
   "metadata": {},
   "source": [
    "## Set up the Fisher matrix calculation and run to loop to calculate its elements"
   ]
  },
  {
   "cell_type": "code",
   "execution_count": 15,
   "metadata": {},
   "outputs": [
    {
     "name": "stdout",
     "output_type": "stream",
     "text": [
      "[0.227, 0.227, 0.129]\n",
      "900 -> 422 or 422\n"
     ]
    }
   ],
   "source": [
    "#for i in range(1,299):\n",
    "#    print(ps_fid['k'][i+1]-ps_fid['k'][i])\n",
    "\n",
    "k_step = k_once[6] - k_once[5] \n",
    "\n",
    "# k values range to include in the constraints calculation\n",
    "k_index = np.zeros(len(k_long),dtype=int)\n",
    "for il,l in enumerate(MLPS):\n",
    "    k_index+= (k_long<kmax[il]) * elgc.get_l_boolindex(il,k_long)# kmax for monopole\n",
    "k_index*= k_long>kmin   # And all have to be larger than minimum\n",
    "k_index = k_index.astype(bool)\n",
    "\n",
    "#print (k_index)\n",
    "print (kmax)\n",
    "print (len(k_long),'->',np.sum(k_index),'or',len(k_long[k_index]))\n",
    "\n",
    "#plt.plot(k_long[k_index],plk_test[k_index],'.')\n",
    "#plt.show()"
   ]
  },
  {
   "cell_type": "code",
   "execution_count": 16,
   "metadata": {},
   "outputs": [
    {
     "name": "stdout",
     "output_type": "stream",
     "text": [
      "[]\n"
     ]
    }
   ],
   "source": [
    "# This dictionary contains all the parameters that can be varied in this code.\n",
    "derivs = {\n",
    "    'sv' : lambda z: dPtns_dsv(),\n",
    "    'b'  : lambda z: dPtns_db(),\n",
    "    'b2' : lambda z: dPtns_db2(),\n",
    "    'N'  : lambda z: dPtns_dN(),\n",
    "    'f'  : lambda z: dPtns_df()\n",
    "}\n",
    "            \n",
    "# Which should depend on redshift\n",
    "zdep = 'sv','b','b2','N','f'\n",
    "\n",
    "# Which ones are independent of redshift and should appear in the FM once (sum over z contributions)\n",
    "# We do not consider shape parameters or multiple z-bins in this work, but this would be useful for future extentions\n",
    "zidep = [i for i in derivs.keys() if i not in zdep]\n",
    "print (zidep)"
   ]
  },
  {
   "cell_type": "code",
   "execution_count": 17,
   "metadata": {},
   "outputs": [],
   "source": [
    "# Auxiliary bits needed for Fisher matrix calculation\n",
    "\n",
    "# Create array of zeros for the final FM\n",
    "Nzdep = len(set(zdep)&set(varypars))\n",
    "Npar = len(varypars)\n",
    "s = Nzdep*Nzbin + (Npar-Nzdep)\n",
    "Fishermat = np.zeros([s,s])\n",
    "\n",
    "# Fisher matrix integrand - to be integrated over k and summed over l\n",
    "# Do the whole sum together in one big matrix operation\n",
    "def dF(zc,veff):\n",
    "    di = deriv_i(zc)[k_index]*k_long[k_index]\n",
    "    dj = deriv_j(zc)[k_index]*k_long[k_index]\n",
    "    tmp = np.dot(di,veff[k_index,:][:,k_index])\n",
    "    tmp = np.dot(tmp,dj)\n",
    "    return tmp*k_step/(4*np.pi**2)"
   ]
  },
  {
   "cell_type": "code",
   "execution_count": 18,
   "metadata": {},
   "outputs": [],
   "source": [
    "#%%time\n",
    "\n",
    "# Save the indexing for posterity\n",
    "fm_index = {'sv':[],'b' :[],'b2':[],'N' :[],'f' :[]}\n",
    "\n",
    "fm_head = []\n",
    "\n",
    "# Loop over redshift bins\n",
    "for iz, zc in enumerate(z_vals):\n",
    "    \n",
    "    veff = Veff(zc) # Let's not calculate this for every parameter - it stays the same at each redshift!\n",
    "    \n",
    "    # First loop over parameters (rows of the FM)\n",
    "    for i, pi in enumerate(varypars): \n",
    "        \n",
    "        # Calculate row index for the Fisher matrix\n",
    "        if pi in zdep:\n",
    "            zind = iz*Nzdep + i\n",
    "        else:\n",
    "            zind = Nzbin*Nzdep + (i-Nzdep)\n",
    "                \n",
    "        # Set the i derivative in dF to correspond to the row parameter\n",
    "        def deriv_i(zc): return derivs[pi](zc)\n",
    "\n",
    "        # Second loop over parameters (columns of the FM)\n",
    "        for j, pj in enumerate(varypars):\n",
    "            \n",
    "            # Calculate column index for the Fisher matrix\n",
    "            if pj in zdep:\n",
    "                zjnd = iz*Nzdep + j\n",
    "            else:\n",
    "                zjnd = Nzbin*Nzdep + (j-Nzdep)\n",
    "            \n",
    "            # If not done yet, set the j derivative in dF to correspond to the column parameter\n",
    "            if j>=i:\n",
    "                \n",
    "                def deriv_j(zc): return derivs[pj](zc)\n",
    "                \n",
    "                Fishermat[zind,zjnd] += dF(zc,veff)\n",
    "            \n",
    "            # Otherwise just take the symmetric value\n",
    "            else: \n",
    "                Fishermat[zind,zjnd] = Fishermat[zjnd,zind]\n",
    "        \n",
    "        # Finally, save the index in the FM (same redshift order as z_vals)\n",
    "        fm_index[pi].append(zind) # Only doing i, since it is symmetric\n",
    "        \n",
    "        # Save also the order of the colmns/rows\n",
    "        headstr = pi\n",
    "        if pi in zdep: headstr+='_'+str(zc)\n",
    "        fm_head.append(headstr)"
   ]
  },
  {
   "cell_type": "markdown",
   "metadata": {},
   "source": [
    "## Print out results"
   ]
  },
  {
   "cell_type": "code",
   "execution_count": 19,
   "metadata": {},
   "outputs": [
    {
     "data": {
      "application/javascript": [
       "IPython.OutputArea.prototype._should_scroll = function(lines) {\n",
       "    return false;\n",
       "}\n"
      ],
      "text/plain": [
       "<IPython.core.display.Javascript object>"
      ]
     },
     "metadata": {},
     "output_type": "display_data"
    }
   ],
   "source": [
    "%%javascript\n",
    "IPython.OutputArea.prototype._should_scroll = function(lines) {\n",
    "    return false;\n",
    "}"
   ]
  },
  {
   "cell_type": "code",
   "execution_count": 20,
   "metadata": {},
   "outputs": [],
   "source": [
    "# Create a fiducial value dictionary\n",
    "fids = {\n",
    "    'sv' : sv_fid*np.ones(Nzbin),   \n",
    "    'b'  : b_fid*np.ones(Nzbin),   \n",
    "    'b2' : b2_fid*np.ones(Nzbin),  \n",
    "    'N'  : N_fid*np.ones(Nzbin),   \n",
    "    'f'  : fg_fid*np.ones(Nzbin) #fg_fid_i(z_vals)\n",
    "}"
   ]
  },
  {
   "cell_type": "code",
   "execution_count": 21,
   "metadata": {},
   "outputs": [
    {
     "name": "stdout",
     "output_type": "stream",
     "text": [
      "Order of columns/rows:\n",
      "['f_0.5', 'b_0.5', 'b2_0.5', 'N_0.5', 'sv_0.5']\n",
      "Fisher matrix:\n",
      " [[ 1.570e+05  1.858e+05  1.423e+04  1.747e+01 -1.252e+04]\n",
      " [ 1.858e+05  5.221e+05  5.014e+04  6.561e+01 -1.665e+04]\n",
      " [ 1.423e+04  5.014e+04  5.484e+03  7.171e+00 -1.429e+03]\n",
      " [ 1.747e+01  6.561e+01  7.171e+00  9.406e-03 -1.775e+00]\n",
      " [-1.252e+04 -1.665e+04 -1.429e+03 -1.775e+00  1.033e+03]]\n",
      "\n",
      "Correlation matrix for parameters:\n",
      "\n",
      "[[ 1.    -0.619  0.211 -0.06   0.974]\n",
      " [-0.619  1.     0.324 -0.48  -0.465]\n",
      " [ 0.211  0.324  1.    -0.984  0.385]\n",
      " [-0.06  -0.48  -0.984  1.    -0.246]\n",
      " [ 0.974 -0.465  0.385 -0.246  1.   ]]\n"
     ]
    }
   ],
   "source": [
    "print ('Order of columns/rows:')\n",
    "print (fm_head)\n",
    "print ('Fisher matrix:\\n',Fishermat)\n",
    "\n",
    "# Invert the Fisher matrix to get the parameter covariance\n",
    "CovMat = np.linalg.inv(Fishermat)\n",
    "print ('\\nCorrelation matrix for parameters:\\n', )\n",
    "print (CovMat/np.sqrt(np.outer(np.diag(CovMat),np.diag(CovMat))))\n",
    "\n",
    "#print ('\\nCovariance matrix diagonal:\\n', )\n",
    "#print( np.diag(CovMat))"
   ]
  },
  {
   "cell_type": "code",
   "execution_count": 22,
   "metadata": {},
   "outputs": [
    {
     "name": "stdout",
     "output_type": "stream",
     "text": [
      "\n",
      "varying zdep = \n",
      "\t ['f', 'b', 'b2', 'N', 'sv']\n",
      "at z = 0.5 : zdep fiducials = \n",
      "\t [ 7.770e-01  1.498e+00  4.233e-01 -4.684e+02  9.544e+00]\n",
      "at z = 0.5 : marged err = \n",
      "\t [2.923e-02 8.063e-03 4.339e-01 3.387e+02 3.750e-01]\n",
      "at z = 0.5 : unmarged err = \n",
      "\t [2.524e-03 1.384e-03 1.350e-02 1.031e+01 3.111e-02]\n",
      "at z = 0.5 : marged % err = \n",
      "\t [  3.761   0.538 102.494  72.309   3.929]\n",
      "at z = 0.5 : unmarged % err = \n",
      "\t [0.325 0.092 3.19  2.201 0.326]\n"
     ]
    }
   ],
   "source": [
    "# Print the errors nicely\n",
    "Nvar  = len(varypars)\n",
    "\n",
    "varyshape = list(set(zidep)&set(varypars))\n",
    "if len(varyshape)>0:\n",
    "    shapeind = [fm_index[p][0] for p in varyshape]\n",
    "    shapefid = np.array([fids[p] for p in varyshape])\n",
    "    print ('\\nvarying shape = \\n\\t', varyshape)\n",
    "    print ('shape fiducials = \\n\\t', shapefid)\n",
    "    print ('unmarged err = \\n\\t', np.sqrt(1./np.diag(Fishermat))[shapeind])\n",
    "    print ('marged err = \\n\\t', np.sqrt(np.diag(CovMat))[shapeind])\n",
    "    print ('unmarged % err = \\n\\t', np.sqrt(1./np.diag(Fishermat))[shapeind]/np.abs(shapefid)*100)\n",
    "    print ('marged % err = \\n\\t', np.sqrt(np.diag(CovMat))[shapeind]/np.abs(shapefid)*100)\n",
    "\n",
    "#varyzdep = list(set(varypars)&set(zdep))\n",
    "varyzdep = varypars\n",
    "\n",
    "zdepfid = np.array([fids[p] for p in varyzdep])\n",
    "print ('\\nvarying zdep = \\n\\t', varyzdep)\n",
    "if len(varyzdep)>0:\n",
    "    for iz, z in enumerate(z_vals):\n",
    "        zdepind = np.array([fm_index[p] for p in varyzdep])\n",
    "        print ('at z =',z,': zdep fiducials = \\n\\t', zdepfid[:,iz])\n",
    "        merrs = np.sqrt(np.diag(CovMat))[zdepind[:,iz]]\n",
    "        print ('at z =',z,': marged err = \\n\\t', merrs)\n",
    "        uerrs = np.sqrt(1./np.diag(Fishermat))[zdepind[:,iz]]\n",
    "        print ('at z =',z,': unmarged err = \\n\\t', uerrs)\n",
    "        print ('at z =',z,': marged % err = \\n\\t', merrs/np.abs(zdepfid[:,iz])*100.)\n",
    "        print ('at z =',z,': unmarged % err = \\n\\t', uerrs/np.abs(zdepfid[:,iz])*100.)"
   ]
  },
  {
   "cell_type": "code",
   "execution_count": 23,
   "metadata": {},
   "outputs": [],
   "source": [
    "# Save the covariance matrix and the fiducial values into a binary file\n",
    "#np.savez(op.join(PATHTOINPUTFILES,'covmats/covmat_'+runname),covmat=CovMat,fmeans=zdepfid[:,0])"
   ]
  },
  {
   "cell_type": "code",
   "execution_count": 24,
   "metadata": {},
   "outputs": [
    {
     "data": {
      "image/png": "[encoded data removed]",
      "text/plain": [
       "<Figure size 432x288 with 2 Axes>"
      ]
     },
     "metadata": {},
     "output_type": "display_data"
    }
   ],
   "source": [
    "import pandas as pd\n",
    "import seaborn as sns; sns.set()\n",
    "sns.set(font_scale=1.6)\n",
    "\n",
    "fig = plt.figure(figsize=(6,4))\n",
    "df = pd.DataFrame(CovMat/np.sqrt(np.outer(np.diag(CovMat),np.diag(CovMat))))\n",
    "df.rename(columns={0:'$\\sigma_v$',1:'$b_1$',2:'$b_2$',3:'$N$',4:'$f$'}, inplace=True)\n",
    "df.rename(index={0:'$\\sigma_v$',1:'$b_1$',2:'$b_2$',3:'$N$',4:'$f$'}, inplace=True)\n",
    "ax = sns.heatmap(df, cmap=\"PiYG\", vmin=-1, vmax=1)\n",
    "\n",
    "ax.set_title('$\\mathrm{TNS \\, Lor}, z=0.5$')\n",
    "#plt.savefig('corr-mat-tns-zeq0p5.pdf', format=\"pdf\", bbox_inches = 'tight')\n",
    "\n",
    "plt.show()"
   ]
  },
  {
   "cell_type": "code",
   "execution_count": 25,
   "metadata": {},
   "outputs": [
    {
     "data": {
      "text/html": [
       "<div>\n",
       "<style scoped>\n",
       "    .dataframe tbody tr th:only-of-type {\n",
       "        vertical-align: middle;\n",
       "    }\n",
       "\n",
       "    .dataframe tbody tr th {\n",
       "        vertical-align: top;\n",
       "    }\n",
       "\n",
       "    .dataframe thead th {\n",
       "        text-align: right;\n",
       "    }\n",
       "</style>\n",
       "<table border=\"1\" class=\"dataframe\">\n",
       "  <thead>\n",
       "    <tr style=\"text-align: right;\">\n",
       "      <th></th>\n",
       "      <th>$\\sigma_v$</th>\n",
       "      <th>$b_1$</th>\n",
       "      <th>$b_2$</th>\n",
       "      <th>$N$</th>\n",
       "      <th>$f$</th>\n",
       "    </tr>\n",
       "  </thead>\n",
       "  <tbody>\n",
       "    <tr>\n",
       "      <th>$\\sigma_v$</th>\n",
       "      <td>1.000000</td>\n",
       "      <td>-0.618788</td>\n",
       "      <td>0.211468</td>\n",
       "      <td>-0.060455</td>\n",
       "      <td>0.974429</td>\n",
       "    </tr>\n",
       "    <tr>\n",
       "      <th>$b_1$</th>\n",
       "      <td>-0.618788</td>\n",
       "      <td>1.000000</td>\n",
       "      <td>0.323727</td>\n",
       "      <td>-0.480270</td>\n",
       "      <td>-0.465335</td>\n",
       "    </tr>\n",
       "    <tr>\n",
       "      <th>$b_2$</th>\n",
       "      <td>0.211468</td>\n",
       "      <td>0.323727</td>\n",
       "      <td>1.000000</td>\n",
       "      <td>-0.983931</td>\n",
       "      <td>0.384652</td>\n",
       "    </tr>\n",
       "    <tr>\n",
       "      <th>$N$</th>\n",
       "      <td>-0.060455</td>\n",
       "      <td>-0.480270</td>\n",
       "      <td>-0.983931</td>\n",
       "      <td>1.000000</td>\n",
       "      <td>-0.245635</td>\n",
       "    </tr>\n",
       "    <tr>\n",
       "      <th>$f$</th>\n",
       "      <td>0.974429</td>\n",
       "      <td>-0.465335</td>\n",
       "      <td>0.384652</td>\n",
       "      <td>-0.245635</td>\n",
       "      <td>1.000000</td>\n",
       "    </tr>\n",
       "  </tbody>\n",
       "</table>\n",
       "</div>"
      ],
      "text/plain": [
       "            $\\sigma_v$     $b_1$     $b_2$       $N$       $f$\n",
       "$\\sigma_v$    1.000000 -0.618788  0.211468 -0.060455  0.974429\n",
       "$b_1$        -0.618788  1.000000  0.323727 -0.480270 -0.465335\n",
       "$b_2$         0.211468  0.323727  1.000000 -0.983931  0.384652\n",
       "$N$          -0.060455 -0.480270 -0.983931  1.000000 -0.245635\n",
       "$f$           0.974429 -0.465335  0.384652 -0.245635  1.000000"
      ]
     },
     "execution_count": 25,
     "metadata": {},
     "output_type": "execute_result"
    }
   ],
   "source": [
    "df"
   ]
  },
  {
   "cell_type": "markdown",
   "metadata": {},
   "source": [
    "## Add Gaussian priors on parameters."
   ]
  },
  {
   "cell_type": "code",
   "execution_count": 26,
   "metadata": {},
   "outputs": [
    {
     "name": "stdout",
     "output_type": "stream",
     "text": [
      "sv index 4\n",
      "b index 1\n",
      "N index 3\n",
      "combined marged [2.728e-02 6.873e-03 9.413e-02 4.639e+01 3.397e-01]\n",
      "\n",
      "Correlation coefficients after adding parameters priors:\n",
      "[[ 1.    -0.717  0.661 -0.004  0.99 ]\n",
      " [-0.717  1.    -0.693 -0.08  -0.656]\n",
      " [ 0.661 -0.693  1.    -0.618  0.654]\n",
      " [-0.004 -0.08  -0.618  1.    -0.033]\n",
      " [ 0.99  -0.656  0.654 -0.033  1.   ]]\n"
     ]
    }
   ],
   "source": [
    "Priormat = Fishermat*0.\n",
    "Prior_errors = {\n",
    "    'sv' : (sv_fid/100)*10,\n",
    "    'b': (b_fid/100)*10, \n",
    "    #'b2': (b2_fid/100)*10, \n",
    "    'N': (abs(N_fid)/100)*10\n",
    "}\n",
    "for p in Prior_errors.keys():\n",
    "    if p not in varyzdep: continue\n",
    "    print (p, 'index', fm_index[p][0])\n",
    "    Priormat[fm_index[p][0],fm_index[p][0]] = 1./Prior_errors[p]**2\n",
    "\n",
    "Fishermat_comb = Fishermat+Priormat\n",
    "CovMat_comb = np.linalg.inv(Fishermat+Priormat)\n",
    "print ('combined marged',  np.sqrt(np.diag(CovMat_comb)))\n",
    "\n",
    "print ('\\nCorrelation coefficients after adding parameters priors:')\n",
    "print (CovMat_comb/np.sqrt(np.outer(np.diag(CovMat_comb),np.diag(CovMat_comb))))"
   ]
  },
  {
   "cell_type": "code",
   "execution_count": 27,
   "metadata": {},
   "outputs": [
    {
     "data": {
      "image/png": "[encoded data removed]",
      "text/plain": [
       "<Figure size 432x288 with 2 Axes>"
      ]
     },
     "metadata": {},
     "output_type": "display_data"
    }
   ],
   "source": [
    "import pandas as pd\n",
    "import seaborn as sns; sns.set()\n",
    "sns.set(font_scale=1.6)\n",
    "\n",
    "fig = plt.figure(figsize=(6,4))\n",
    "df = pd.DataFrame(CovMat_comb/np.sqrt(np.outer(np.diag(CovMat_comb),np.diag(CovMat_comb))))\n",
    "df.rename(columns={0:'$\\sigma_v$',1:'$b_1$',2:'$b_2$',3:'$N$',4:'$f$'}, inplace=True)\n",
    "df.rename(index={0:'$\\sigma_v$',1:'$b_1$',2:'$b_2$',3:'$N$',4:'$f$'}, inplace=True)\n",
    "ax = sns.heatmap(df, cmap=\"PiYG\", vmin=-1, vmax=1)\n",
    "\n",
    "ax.set_title('$\\mathrm{TNS \\, Lor}, z=0.5, \\mathrm{\\, with \\, priors}$')\n",
    "#plt.savefig('corr-mat-tns-zeq0p5-priors.pdf', format=\"pdf\", bbox_inches = 'tight')\n",
    "\n",
    "plt.show()"
   ]
  },
  {
   "cell_type": "code",
   "execution_count": 28,
   "metadata": {},
   "outputs": [
    {
     "data": {
      "text/html": [
       "<div>\n",
       "<style scoped>\n",
       "    .dataframe tbody tr th:only-of-type {\n",
       "        vertical-align: middle;\n",
       "    }\n",
       "\n",
       "    .dataframe tbody tr th {\n",
       "        vertical-align: top;\n",
       "    }\n",
       "\n",
       "    .dataframe thead th {\n",
       "        text-align: right;\n",
       "    }\n",
       "</style>\n",
       "<table border=\"1\" class=\"dataframe\">\n",
       "  <thead>\n",
       "    <tr style=\"text-align: right;\">\n",
       "      <th></th>\n",
       "      <th>$\\sigma_v$</th>\n",
       "      <th>$b_1$</th>\n",
       "      <th>$b_2$</th>\n",
       "      <th>$N$</th>\n",
       "      <th>$f$</th>\n",
       "    </tr>\n",
       "  </thead>\n",
       "  <tbody>\n",
       "    <tr>\n",
       "      <th>$\\sigma_v$</th>\n",
       "      <td>1.000000</td>\n",
       "      <td>-0.717498</td>\n",
       "      <td>0.660734</td>\n",
       "      <td>-0.004330</td>\n",
       "      <td>0.990139</td>\n",
       "    </tr>\n",
       "    <tr>\n",
       "      <th>$b_1$</th>\n",
       "      <td>-0.717498</td>\n",
       "      <td>1.000000</td>\n",
       "      <td>-0.692853</td>\n",
       "      <td>-0.080113</td>\n",
       "      <td>-0.655661</td>\n",
       "    </tr>\n",
       "    <tr>\n",
       "      <th>$b_2$</th>\n",
       "      <td>0.660734</td>\n",
       "      <td>-0.692853</td>\n",
       "      <td>1.000000</td>\n",
       "      <td>-0.618372</td>\n",
       "      <td>0.654325</td>\n",
       "    </tr>\n",
       "    <tr>\n",
       "      <th>$N$</th>\n",
       "      <td>-0.004330</td>\n",
       "      <td>-0.080113</td>\n",
       "      <td>-0.618372</td>\n",
       "      <td>1.000000</td>\n",
       "      <td>-0.032547</td>\n",
       "    </tr>\n",
       "    <tr>\n",
       "      <th>$f$</th>\n",
       "      <td>0.990139</td>\n",
       "      <td>-0.655661</td>\n",
       "      <td>0.654325</td>\n",
       "      <td>-0.032547</td>\n",
       "      <td>1.000000</td>\n",
       "    </tr>\n",
       "  </tbody>\n",
       "</table>\n",
       "</div>"
      ],
      "text/plain": [
       "            $\\sigma_v$     $b_1$     $b_2$       $N$       $f$\n",
       "$\\sigma_v$    1.000000 -0.717498  0.660734 -0.004330  0.990139\n",
       "$b_1$        -0.717498  1.000000 -0.692853 -0.080113 -0.655661\n",
       "$b_2$         0.660734 -0.692853  1.000000 -0.618372  0.654325\n",
       "$N$          -0.004330 -0.080113 -0.618372  1.000000 -0.032547\n",
       "$f$           0.990139 -0.655661  0.654325 -0.032547  1.000000"
      ]
     },
     "execution_count": 28,
     "metadata": {},
     "output_type": "execute_result"
    }
   ],
   "source": [
    "df"
   ]
  },
  {
   "cell_type": "code",
   "execution_count": 29,
   "metadata": {},
   "outputs": [
    {
     "name": "stdout",
     "output_type": "stream",
     "text": [
      "\n",
      "varying zdep = \n",
      "\t ['f', 'b', 'b2', 'N', 'sv']\n",
      "at z = 0.5 : zdep fiducials = \n",
      "\t [ 7.770e-01  1.498e+00  4.233e-01 -4.684e+02  9.544e+00]\n",
      "at z = 0.5 : marged err = \n",
      "\t [2.728e-02 6.873e-03 9.413e-02 4.639e+01 3.397e-01]\n",
      "at z = 0.5 : unmarged err = \n",
      "\t [2.524e-03 1.384e-03 1.350e-02 1.007e+01 3.109e-02]\n",
      "at z = 0.5 : marged % err = \n",
      "\t [ 3.511  0.459 22.237  9.905  3.559]\n",
      "at z = 0.5 : unmarged % err = \n",
      "\t [0.325 0.092 3.19  2.15  0.326]\n"
     ]
    }
   ],
   "source": [
    "# Print the errors nicely\n",
    "Nvar  = len(varypars)\n",
    "\n",
    "#varyzdep = list(set(varypars)&set(zdep))\n",
    "varyzdep = varypars\n",
    "\n",
    "zdepfid = np.array([fids[p] for p in varyzdep])\n",
    "print ('\\nvarying zdep = \\n\\t', varyzdep)\n",
    "if len(varyzdep)>0:\n",
    "    for iz, z in enumerate(z_vals):\n",
    "        zdepind = np.array([fm_index[p] for p in varyzdep])\n",
    "        print ('at z =',z,': zdep fiducials = \\n\\t', zdepfid[:,iz])\n",
    "        merrs = np.sqrt(np.diag(CovMat_comb))[zdepind[:,iz]]\n",
    "        print ('at z =',z,': marged err = \\n\\t', merrs)\n",
    "        uerrs = np.sqrt(1./np.diag(Fishermat_comb))[zdepind[:,iz]]\n",
    "        print ('at z =',z,': unmarged err = \\n\\t', uerrs)\n",
    "        print ('at z =',z,': marged % err = \\n\\t', merrs/np.abs(zdepfid[:,iz])*100.)\n",
    "        print ('at z =',z,': unmarged % err = \\n\\t', uerrs/np.abs(zdepfid[:,iz])*100.)"
   ]
  },
  {
   "cell_type": "markdown",
   "metadata": {},
   "source": [
    "## Draw Ellipses"
   ]
  },
  {
   "cell_type": "code",
   "execution_count": 30,
   "metadata": {},
   "outputs": [
    {
     "data": {
      "image/png": "[encoded data removed]",
      "text/plain": [
       "<Figure size 504x504 with 1 Axes>"
      ]
     },
     "metadata": {},
     "output_type": "display_data"
    }
   ],
   "source": [
    "sns.set_style(\"ticks\")\n",
    "\n",
    "# Choose what to plot\n",
    "zi = 0; par0 = 'f'; par1 = 'sv';\n",
    "\n",
    "# Get the indices in the Covariance Matrix of the two parameters we want to plot\n",
    "p0i = varyzdep.index(par0); index0 = zdepind[:,zi] # change this to shapeind if using shape!\n",
    "p1i = varyzdep.index(par1); index1 = zdepind[:,zi] # change this to shapeind if using shape!\n",
    "\n",
    "# Get the fiducial values for the ellipse centre\n",
    "c0 = fids[par0][zi] # remove the [zi] if par0 is a shape parameter!\n",
    "c1 = fids[par1][zi] # remove the [zi] if par1 is a shape parameter!\n",
    "\n",
    "# Marginalise out everything else and make a new 2x2 Covariance Matrix\n",
    "marg_all = True\n",
    "if marg_all:\n",
    "    covmat_2D = np.zeros((2,2))\n",
    "    covmat_2D[0,0] = CovMat[index0[p0i],index0[p0i]]\n",
    "    covmat_2D[1,1] = CovMat[index1[p1i],index1[p1i]]\n",
    "    covmat_2D[0,1] = CovMat[index0[p0i],index1[p1i]]\n",
    "    covmat_2D[1,0] = covmat_2D[0,1]\n",
    "    \n",
    "    \n",
    "else:\n",
    "    fishmat_2D = np.zeros((2,2))\n",
    "    fishmat_2D[0,0] = Fishermat[index0[p0i],index0[p0i]]\n",
    "    fishmat_2D[1,1] = Fishermat[index1[p1i],index1[p1i]]\n",
    "    fishmat_2D[0,1] = Fishermat[index0[p0i],index1[p1i]]\n",
    "    fishmat_2D[1,0] = fishmat_2D[0,1]\n",
    "    covmat_2D = np.linalg.inv(fishmat_2D)\n",
    "    del fishmat_2D\n",
    "\n",
    "def get_ellipses(centre,CM_2D):\n",
    "    # We will need coefficients for the ellipse depending on the number of sigma level we want\n",
    "    CL_alpha = {\n",
    "        1: 1.52, \n",
    "        2: 2.48,\n",
    "        3: 3.44\n",
    "    }\n",
    "\n",
    "    # Get the errors\n",
    "    FM_2D = np.linalg.inv(CM_2D)\n",
    "    em0 = np.sqrt(CM_2D[0,0])\n",
    "    eu0 = np.sqrt(1./FM_2D[0,0])\n",
    "    em1 = np.sqrt(CM_2D[1,1])\n",
    "    eu1 = np.sqrt(1./FM_2D[1,1])\n",
    "\n",
    "    #print par0, eu0, em0\n",
    "    #print par1, eu1, em1\n",
    "\n",
    "    # Now calculate the ellipse parameters\n",
    "    a = np.sqrt(0.5*(CM_2D[0,0]+CM_2D[1,1]) + np.sqrt(0.25*(CM_2D[0,0]-CM_2D[1,1])**2 + CM_2D[0,1]**2))\n",
    "    b = np.sqrt(0.5*(CM_2D[0,0]+CM_2D[1,1]) - np.sqrt(0.25*(CM_2D[0,0]-CM_2D[1,1])**2 + CM_2D[0,1]**2))\n",
    "    theta = 180./np.pi * 0.5*np.arctan(2.*CM_2D[0,1] / (CM_2D[0,0]-CM_2D[1,1])) # should be in degrees\n",
    "\n",
    "    if CM_2D[0,0]<CM_2D[1,1]:\n",
    "        width=2.*b\n",
    "        height=2.*a\n",
    "    else:\n",
    "        width=2.*a\n",
    "        height=2.*b\n",
    "\n",
    "    # Create all the ellipses\n",
    "    ellipse1 = Ellipse([centre[0],centre[1]], width*CL_alpha[1], height*CL_alpha[1], theta, \n",
    "                       linewidth=0, fill=True, zorder=2, alpha=0.7, color='green')\n",
    "    ellipse2 = Ellipse([centre[0],centre[1]], width*CL_alpha[2], height*CL_alpha[2], theta, \n",
    "                       linewidth=0, fill=True, zorder=2, alpha=0.2, color='green')\n",
    "\n",
    "    return ellipse1, ellipse2, CL_alpha[1]*em0, CL_alpha[1]*em1, CL_alpha[1]*eu0, CL_alpha[1]*eu1\n",
    "\n",
    "# Make a test plot\n",
    "ell1, ell2, errm0, errm1, erru0, erru1 = get_ellipses([c0,c1],covmat_2D)\n",
    "\n",
    "fig, ax = plt.subplots(figsize=(7,7))\n",
    "\n",
    "ax.axhline(c1,ls='--',c='k',lw=1); ax.axvline(c0,ls='--',c='k',lw=1) # Centre lines\n",
    "#ax.axvline(c0-errm0,ls=':',c='g',lw=1); ax.axvline(c0+errm0,ls=':',c='g',lw=1) # Marginalised error lines par0\n",
    "#ax.axvline(c0-erru0,ls=':',c='c',lw=1); ax.axvline(c0+erru0,ls=':',c='c',lw=1) # Marginalised error lines par0\n",
    "#ax.axhline(c1-errm1,ls=':',c='g',lw=1); ax.axhline(c1+errm1,ls=':',c='g',lw=1) # Marginalised error lines par1\n",
    "#ax.axhline(c1-erru1,ls=':',c='c',lw=1); ax.axhline(c1+erru1,ls=':',c='c',lw=1) # Marginalised error lines par1\n",
    "\n",
    "ax.add_artist(ell1)\n",
    "ax.add_artist(ell2)\n",
    "ax.set_xlim(c0-errm0*2.1, c0+errm0*2.1)\n",
    "ax.set_ylim(c1-errm1*2.1, c1+errm1*2.1)\n",
    "ax.tick_params(color='black')\n",
    "ax.set_facecolor('none')\n",
    "#ax.axis('off')\n",
    "\n",
    "plt.xlabel(par0+'(z='+str(z_vals[zi])+')')\n",
    "plt.ylabel(par1+'(z='+str(z_vals[zi])+')')\n",
    "\n",
    "#plt.savefig('test.png', format=\"png\", bbox_inches = 'tight')\n",
    "plt.show()"
   ]
  },
  {
   "cell_type": "code",
   "execution_count": 31,
   "metadata": {},
   "outputs": [
    {
     "data": {
      "image/png": "[encoded data removed]",
      "text/plain": [
       "<Figure size 504x504 with 1 Axes>"
      ]
     },
     "metadata": {},
     "output_type": "display_data"
    }
   ],
   "source": [
    "sns.set_style(\"ticks\")\n",
    "\n",
    "# Choose what to plot\n",
    "zi = 0; par0 = 'f'; par1 = 'sv';\n",
    "\n",
    "# Get the indices in the Covariance Matrix of the two parameters we want to plot\n",
    "p0i = varyzdep.index(par0); index0 = zdepind[:,zi] # change this to shapeind if using shape!\n",
    "p1i = varyzdep.index(par1); index1 = zdepind[:,zi] # change this to shapeind if using shape!\n",
    "\n",
    "# Get the fiducial values for the ellipse centre\n",
    "c0 = fids[par0][zi] # remove the [zi] if par0 is a shape parameter!\n",
    "c1 = fids[par1][zi] # remove the [zi] if par1 is a shape parameter!\n",
    "\n",
    "# Marginalise out everything else and make a new 2x2 Covariance Matrix\n",
    "marg_all = True\n",
    "if marg_all:\n",
    "    covmat_2D_comb = np.zeros((2,2))\n",
    "    covmat_2D_comb[0,0] = CovMat_comb[index0[p0i],index0[p0i]]\n",
    "    covmat_2D_comb[1,1] = CovMat_comb[index1[p1i],index1[p1i]]\n",
    "    covmat_2D_comb[0,1] = CovMat_comb[index0[p0i],index1[p1i]]\n",
    "    covmat_2D_comb[1,0] = covmat_2D_comb[0,1]\n",
    "    \n",
    "else:\n",
    "    fishmat_2D_comb = np.zeros((2,2))\n",
    "    fishmat_2D_comb[0,0] = Fishermat_comb[index0[p0i],index0[p0i]]\n",
    "    fishmat_2D_comb[1,1] = Fishermat_comb[index1[p1i],index1[p1i]]\n",
    "    fishmat_2D_comb[0,1] = Fishermat_comb[index0[p0i],index1[p1i]]\n",
    "    fishmat_2D_comb[1,0] = fishmat_2D_comb[0,1]\n",
    "    covmat_2D_comb = np.linalg.inv(fishmat_2D_comb)\n",
    "    del fishmat_2D_comb\n",
    "\n",
    "def get_ellipses(centre,CM_2D,sty={'w':0,'s':'-','f':True,'a':0.7,'c':'green'}):\n",
    "    # We will need coefficients for the ellipse depending on the number of sigma level we want\n",
    "    CL_alpha = {\n",
    "        1: 1.52, \n",
    "        2: 2.48,\n",
    "        3: 3.44\n",
    "    }\n",
    "\n",
    "    # Get the errors\n",
    "    FM_2D = np.linalg.inv(CM_2D)\n",
    "    em0 = np.sqrt(CM_2D[0,0])\n",
    "    eu0 = np.sqrt(1./FM_2D[0,0])\n",
    "    em1 = np.sqrt(CM_2D[1,1])\n",
    "    eu1 = np.sqrt(1./FM_2D[1,1])\n",
    "\n",
    "    #print par0, eu0, em0\n",
    "    #print par1, eu1, em1\n",
    "\n",
    "    # Now calculate the ellipse parameters\n",
    "    a = np.sqrt(0.5*(CM_2D[0,0]+CM_2D[1,1]) + np.sqrt(0.25*(CM_2D[0,0]-CM_2D[1,1])**2 + CM_2D[0,1]**2))\n",
    "    b = np.sqrt(0.5*(CM_2D[0,0]+CM_2D[1,1]) - np.sqrt(0.25*(CM_2D[0,0]-CM_2D[1,1])**2 + CM_2D[0,1]**2))\n",
    "    theta = 180./np.pi * 0.5*np.arctan(2.*CM_2D[0,1] / (CM_2D[0,0]-CM_2D[1,1])) # should be in degrees\n",
    "\n",
    "    if CM_2D[0,0]<CM_2D[1,1]:\n",
    "        width=2.*b\n",
    "        height=2.*a\n",
    "    else:\n",
    "        width=2.*a\n",
    "        height=2.*b\n",
    "\n",
    "    # Create all the ellipses   \n",
    "    ellipse1 = Ellipse([centre[0],centre[1]], width*CL_alpha[1], height*CL_alpha[1], theta, \n",
    "                       linewidth=sty['w'], ls = sty['s'], fill=sty['f'], zorder=2, alpha=sty['a'], color=sty['c'])\n",
    "    leg1 = ellipse1.set(clip_box=ax.bbox, alpha=sty['a'], facecolor=sty['c'])\n",
    "    ellipse2 = Ellipse([centre[0],centre[1]], width*CL_alpha[2], height*CL_alpha[2], theta, \n",
    "                       linewidth=sty['w'], ls = sty['s'], fill=sty['f'], zorder=2, alpha=sty['a']/2, color=sty['c'])\n",
    "    leg2 = ellipse2.set(clip_box=ax.bbox, alpha=sty['a']/2, facecolor=sty['c'])\n",
    "\n",
    "    return ellipse1, ellipse2, CL_alpha[1]*em0, CL_alpha[1]*em1, CL_alpha[1]*eu0, CL_alpha[1]*eu1, leg1, leg2\n",
    "\n",
    "# Make a test plot\n",
    "ell1, ell2, errm0, errm1, erru0, erru1, leg1, leg2 = get_ellipses([c0,c1],covmat_2D) #without priors\n",
    "ell1_p, ell2_p, errm0_p, errm1_p, erru0_p, erru1_p, leg1_p, leg2_p = get_ellipses([c0,c1],covmat_2D_comb,\n",
    "                                                    {'w':0,'s':'-','f':True,'a':0.9,'c':'tab:purple'}) #with priors\n",
    "ells = [ell1,ell2,ell1_p,ell2_p]\n",
    "fig, ax = plt.subplots(figsize=(7,7))\n",
    "\n",
    "#ax.axhline(c1,ls='--',c='k',lw=1); ax.axvline(c0,ls='--',c='k',lw=1) # Centre lines\n",
    "\n",
    "ax.add_artist(ell1)\n",
    "ax.add_artist(ell2)\n",
    "ax.add_artist(ell1_p)\n",
    "ax.add_artist(ell2_p)\n",
    "ax.set_xlim(c0-errm0*2.1, c0+errm0*2.1)\n",
    "ax.set_ylim(c1-errm1*2.1, c1+errm1*2.3)\n",
    "ax.tick_params(color='black')\n",
    "ax.set_facecolor('none')\n",
    "#ax.axis('off')\n",
    "\n",
    "#plt.xlabel(par0+'(z='+str(z_vals[zi])+')')\n",
    "#plt.ylabel(par1+'(z='+str(z_vals[zi])+')')\n",
    "plt.xlabel('$f(z=0.5)$')\n",
    "plt.ylabel('$\\sigma_v(z=0.5)$')\n",
    "\n",
    "ax.legend([ell1,ell1_p], [r'no prior',r'with $10\\%$ prior on $\\{\\sigma_v,b_1,N\\}$'],loc='upper left',frameon=False)\n",
    "\n",
    "#plt.savefig('contour.pdf', format=\"pdf\", bbox_inches = 'tight')\n",
    "\n",
    "plt.show()"
   ]
  },
  {
   "cell_type": "markdown",
   "metadata": {
    "collapsed": true
   },
   "source": [
    "##### Alkistis & Dida, 2019"
   ]
  }
 ],
 "metadata": {
  "anaconda-cloud": {},
  "kernelspec": {
   "display_name": "Python 3",
   "language": "python",
   "name": "python3"
  },
  "language_info": {
   "codemirror_mode": {
    "name": "ipython",
    "version": 3
   },
   "file_extension": ".py",
   "mimetype": "text/x-python",
   "name": "python",
   "nbconvert_exporter": "python",
   "pygments_lexer": "ipython3",
   "version": "3.7.3"
  }
 },
 "nbformat": 4,
 "nbformat_minor": 1
}
