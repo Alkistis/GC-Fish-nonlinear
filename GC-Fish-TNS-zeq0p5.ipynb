{
 "cells": [
  {
   "cell_type": "markdown",
   "metadata": {},
   "source": [
    "# TNS Fisher forecasts at z=0.5: full P(k,μ) method"
   ]
  },
  {
   "cell_type": "markdown",
   "metadata": {},
   "source": [
    "## Set up the notebook"
   ]
  },
  {
   "cell_type": "code",
   "execution_count": 1,
   "metadata": {},
   "outputs": [],
   "source": [
    "# Import the science packages/libraries\n",
    "from __future__ import division\n",
    "from __future__ import print_function\n",
    "import numpy as np\n",
    "import scipy, scipy.interpolate, scipy.misc, scipy.integrate\n",
    "\n",
    "import os.path as op\n",
    "import matplotlib.pyplot as plt"
   ]
  },
  {
   "cell_type": "code",
   "execution_count": 2,
   "metadata": {},
   "outputs": [],
   "source": [
    "# Set plotting and printing\n",
    "\n",
    "%matplotlib inline\n",
    "\n",
    "font = {'size'   : 16, 'family':'STIXGeneral'}\n",
    "axislabelfontsize='x-large'\n",
    "plt.rc('font', **font)\n",
    "plt.rcParams['text.usetex'] = True\n",
    "\n",
    "np.set_printoptions(precision=3,linewidth=200,suppress=False)\n",
    "\n",
    "from matplotlib.patches import Ellipse"
   ]
  },
  {
   "cell_type": "code",
   "execution_count": 3,
   "metadata": {},
   "outputs": [
    {
     "name": "stdout",
     "output_type": "stream",
     "text": [
      "['sv', 'b', 'b2', 'N', 'f']\n"
     ]
    }
   ],
   "source": [
    "# Main question for the Fisher matrix calculation: which parameters are we varying?\n",
    "# Note that this list determines the order in the output FM as well\n",
    "\n",
    "varypars = ['sv','b','b2','N','f'] \n",
    "\n",
    "print(varypars)"
   ]
  },
  {
   "cell_type": "markdown",
   "metadata": {},
   "source": [
    "## Set up the fiducial model for the Fisher matrix calculation"
   ]
  },
  {
   "cell_type": "code",
   "execution_count": 4,
   "metadata": {},
   "outputs": [],
   "source": [
    "#Fiducial (GR-COLA) cosmology \n",
    "\n",
    "zbin = 0.5\n",
    "\n",
    "c=3e5\n",
    "hubble = 0.697\n",
    "H00 = 100*hubble\n",
    "Tcmb = 2.726\n",
    "ns = 0.971\n",
    "om0 = 0.281\n",
    "omb = 0.046\n",
    "sigma80_fid = 0.844 #this is sigma8 at z=0\n",
    "\n",
    "#best-fit (fiducial) values for bias and TNS parameters at z=0.5 \n",
    "sv_fid = 8.99\n",
    "b_fid = 1.506\n",
    "b2_fid = 0.091\n",
    "N_fid = -272.0\n",
    "\n",
    "#kmax at z=0.5   \n",
    "kmax = 0.227 "
   ]
  },
  {
   "cell_type": "code",
   "execution_count": 5,
   "metadata": {},
   "outputs": [
    {
     "name": "stdout",
     "output_type": "stream",
     "text": [
      "ps column names: ('k', 'pl', 'pdd', 'pdt', 'ptt', 'P5')\n",
      "abc column names: ('k', 'bu2f2', 'bu2f3', 'bu4f2', 'bu4f3', 'bu6f3', 'b2u2f1', 'b2u2f2', 'b2u2f3', 'b2u2f4', 'b2u4f2', 'b2u4f3', 'b2u4f4', 'b2u6f3', 'b2u6f4', 'b2u8f4', 'u2f4', 'u4f3', 'u4f4', 'u6f3', 'u6f4', 'u8f4')\n",
      "bias column names: ('k', 'ddb0b2', 'ddb02', 'ddb0', 'ddb22', 'ddb2', 'ddnone', 'dtb2', 'dtb0', 'dtnone')\n"
     ]
    }
   ],
   "source": [
    "#k values are the same in all files ### Paths to input files\n",
    "PATHTOINPUTFILES = op.abspath('./inputs/')\n",
    "\n",
    "# Function to read the output files from MG-COPTER\n",
    "def read_copter(path,suffix=''):\n",
    "    \n",
    "    #naming files (following the Mathematica notebook)\n",
    "    psfile = ('eft_ps_components_nw'+suffix+'.dat')\n",
    "    abcfile = ('eft_abc_components'+suffix+'.dat')\n",
    "    biasfile = ('eft_bias_components'+suffix+'.dat')\n",
    "    \n",
    "    # set the names of the columns (following the Mathematica notebook)\n",
    "    pscolnames = 'k', 'pl', 'pdd', 'pdt', 'ptt', 'P5' #P5 not used \n",
    "    abccolnames = 'k', 'bu2f2', 'bu2f3', 'bu4f2', 'bu4f3', 'bu6f3', 'b2u2f1', 'b2u2f2', 'b2u2f3',\\\n",
    "    'b2u2f4', 'b2u4f2', 'b2u4f3', 'b2u4f4', 'b2u6f3', 'b2u6f4', 'b2u8f4', 'u2f4', 'u4f3', 'u4f4',\\\n",
    "    'u6f3', 'u6f4', 'u8f4' \n",
    "    biascolnames = 'k', 'ddb0b2', 'ddb02', 'ddb0', 'ddb22', 'ddb2', 'ddnone', 'dtb2', 'dtb0', 'dtnone'\n",
    "    \n",
    "    return np.genfromtxt(op.join(path,psfile), names=pscolnames),\\\n",
    "           np.genfromtxt(op.join(path,abcfile), names=abccolnames),\\\n",
    "           np.genfromtxt(op.join(path,biasfile), names=biascolnames)\n",
    "\n",
    "# use numpy to read the whole files, the options will make the\n",
    "# resulting object act a bit like a dictionary (a structured array)\n",
    "# so we can query columns by name\n",
    "ps_fid, abc_fid, bias_fid = read_copter(op.join(PATHTOINPUTFILES,'data_fid'),'_fid')\n",
    "print ('ps column names:', ps_fid.dtype.names )# let's print the names to check\n",
    "print ('abc column names:', abc_fid.dtype.names) # let's print the names to check\n",
    "print ('bias column names:', bias_fid.dtype.names) # let's print the names to check"
   ]
  },
  {
   "cell_type": "markdown",
   "metadata": {},
   "source": [
    "## Set up the survey properties"
   ]
  },
  {
   "cell_type": "code",
   "execution_count": 6,
   "metadata": {},
   "outputs": [],
   "source": [
    "### Set up survey with volume 4 Gpc^3/h^3\n",
    "\n",
    "Area = 15000.0*1.06 #deg^2 \n",
    "Dzbin = 0.2\n",
    "z_vals = np.array([zbin]) \n",
    "Nzbin = len(z_vals)\n",
    "\n",
    "#set kmin \n",
    "kmin = 0.006"
   ]
  },
  {
   "cell_type": "code",
   "execution_count": 7,
   "metadata": {},
   "outputs": [],
   "source": [
    "#construct array of mu values between -1 and 1 (inclusive)\n",
    "mu_step = 0.005\n",
    "mu = mu_step*np.arange((2/mu_step)+1)-1.\n",
    "#print ('mu array', mu)\n",
    "#len(mu)"
   ]
  },
  {
   "cell_type": "markdown",
   "metadata": {},
   "source": [
    "## Define cosmology functions: background and perturbations"
   ]
  },
  {
   "cell_type": "code",
   "execution_count": 8,
   "metadata": {},
   "outputs": [
    {
     "name": "stdout",
     "output_type": "stream",
     "text": [
      "0.733197112933542 0.7784487714884997\n"
     ]
    }
   ],
   "source": [
    "# Functions for DE later\n",
    "def w_integrand(z,w0=-1.,wa=0.):\n",
    "    return (1 + w0+wa*z/(z+1)) / (1+z)\n",
    "def DE_evo(zc,w0=-1.,wa=0.): \n",
    "    return np.exp(3*scipy.integrate.romberg(lambda z: w_integrand(z,w0,wa), 0, zc))\n",
    "\n",
    "# Define E(z) = H(z)/H0\n",
    "def Ez(zc,w0=-1.,wa=0.):\n",
    "    return np.sqrt((1-om0)*DE_evo(zc,w0,wa) + om0*pow(1+zc,3))\n",
    "\n",
    "# LCDM growth rate and growth factor\n",
    "def fg(zz,w0=-1.,wa=0.,gamma=0.55):\n",
    "    omz=om0*pow(1+zz,3)/pow(Ez(zz,w0,wa),2)\n",
    "    return pow(omz,gamma)\n",
    "\n",
    "def Dg_dz(zz,w0=-1.,wa=0.,gamma=0.55):\n",
    "    return -fg(zz,w0,wa)/(1+zz)\n",
    "\n",
    "def Dgz(zz,w0=-1.,wa=0.,gamma=0.55):\n",
    "    start_z = 0.0\n",
    "    ans = scipy.integrate.romberg(lambda z: Dg_dz(z,w0,wa), start_z, zz)\n",
    "    return np.exp(ans)\n",
    "\n",
    "nz = 100\n",
    "fg_fid_interp = np.zeros(nz)\n",
    "Dg_fid_interp = np.zeros(nz)\n",
    "z_for_interp = np.linspace(0,2,nz)\n",
    "for i,z in enumerate(z_for_interp):\n",
    "    fg_fid_interp[i] = fg(z)\n",
    "    Dg_fid_interp[i] = Dgz(z)\n",
    "\n",
    "fg_fid_i = scipy.interpolate.interp1d(z_for_interp,fg_fid_interp,kind='cubic')\n",
    "Dg_fid_i = scipy.interpolate.interp1d(z_for_interp,Dg_fid_interp,kind='cubic')\n",
    "del z_for_interp, Dg_fid_interp, fg_fid_interp, i, z\n",
    "print (fg_fid_i(zbin), Dg_fid_i(zbin))"
   ]
  },
  {
   "cell_type": "code",
   "execution_count": 9,
   "metadata": {},
   "outputs": [
    {
     "name": "stdout",
     "output_type": "stream",
     "text": [
      "3.994\n"
     ]
    }
   ],
   "source": [
    "#Define E(z)=H(z)/H0\n",
    "def Ez(zc):\n",
    "    return np.sqrt(1-om0+om0*pow(1+zc,3))\n",
    "\n",
    "#Define the comoving distance\n",
    "def drdz(zp):\n",
    "    return (c/H00)/Ez(zp)\n",
    "def rcom(zc):\n",
    "    return scipy.integrate.romberg(drdz,0,zc)\n",
    "def DA(zc):\n",
    "    return rcom(zc)/(1+zc)\n",
    "\n",
    "def Vsur(zc): #  (the hubble**3 factor is for units consistency)\n",
    "    z_min = zc-Dzbin/2\n",
    "    DA_min = DA(z_min)\n",
    "    z_max = zc+Dzbin/2\n",
    "    DA_max = DA(z_max)\n",
    "    \n",
    "    F = (4.*np.pi/3.) / (4.*np.pi*(180./np.pi)**2)   \n",
    "    return F * (DA_max**3 *(1+z_max)**3 - DA_min**3 *(1+z_min)**3) * hubble**3 * Area\n",
    "\n",
    "print(round(Vsur(zbin)/1e9,3))"
   ]
  },
  {
   "cell_type": "code",
   "execution_count": 10,
   "metadata": {},
   "outputs": [],
   "source": [
    "#construct P_TNS\n",
    "def Ptns(mu_array,f,\n",
    "         b=b_fid,b2=b2_fid,N=N_fid,\n",
    "         sv=sv_fid,\n",
    "         sig8_z=sigma80_fid*Dg_fid_i(zbin),\n",
    "         ps=ps_fid,abc=abc_fid,bias=bias_fid):\n",
    "    muones = mu_array**0.\n",
    "    k_array = ps['k']\n",
    "    \n",
    "    D = sig8_z/sigma80_fid #every term that contains D, contains the same power of sigma80_fid\n",
    "\n",
    "    FoG = 1. / ( 1. + np.outer(k_array**2,mu_array**2)*sv**2/2. )\\\n",
    "    \n",
    "    res = FoG\\\n",
    "    *((b**2*(D**2*np.outer(ps['pl'],muones) + D**4*np.outer(ps['pdd'],muones))\\\n",
    "    + D**4*(b*b2*np.outer(bias['ddb0b2'],muones) + b**2*np.outer(bias['ddb02'],muones)\\\n",
    "    + b*np.outer(bias['ddb0'],muones) + b2**2*np.outer(bias['ddb22'],muones)\\\n",
    "    + b2*np.outer(bias['ddb2'],muones) + np.outer(bias['ddnone'],muones)) + N\\\n",
    "    + 2*(b*(D**2*f*np.outer(ps['pl'],mu_array**2) + D**4*f*np.outer(ps['pdt'],mu_array**2))\\\n",
    "    - D**4*f*(b2*np.outer(bias['dtb2'],mu_array**2) + b*np.outer(bias['dtb0'],mu_array**2) + np.outer(bias['dtnone'],mu_array**2)))\\\n",
    "    + (D**2*f**2*np.outer(ps['pl'],mu_array**4) + D**4*f**2*np.outer(ps['ptt'],mu_array**4)))\\\n",
    "    + D**4*( b*f**2*np.outer(abc['bu2f2'],mu_array**2) + b*f**3*np.outer(abc['bu2f3'],mu_array**2)\\\n",
    "    + b*f**2*np.outer(abc['bu4f2'],mu_array**4)+b*f**3*np.outer(abc['bu4f3'],mu_array**4)\\\n",
    "    + b*f**3*np.outer(abc['bu6f3'],mu_array**6)+b**2*f*np.outer(abc['b2u2f1'],mu_array**2)\\\n",
    "    + b**2*f**2*np.outer(abc['b2u2f2'],mu_array**2)+b**2*f**3*np.outer(abc['b2u2f3'],mu_array**2)\\\n",
    "    + b**2*f**4*np.outer(abc['b2u2f4'],mu_array**2) + b**2*f**2*np.outer(abc['b2u4f2'],mu_array**4)\\\n",
    "    + b**2*f**3*np.outer(abc['b2u4f3'],mu_array**4) + b**2*f**4*np.outer(abc['b2u4f4'],mu_array**4)\\\n",
    "    + b**2*f**3*np.outer(abc['b2u6f3'],mu_array**6) + b**2*f**4*np.outer(abc['b2u6f4'],mu_array**6)\\\n",
    "    + b**2*f**4*np.outer(abc['b2u8f4'],mu_array**8) + f**4*np.outer(abc['u2f4'],mu_array**2)\\\n",
    "    + f**3*np.outer(abc['u4f3'],mu_array**4) + f**4*np.outer(abc['u4f4'],mu_array**4)\\\n",
    "    + f**3*np.outer(abc['u6f3'],mu_array**6) + f**4*np.outer(abc['u6f4'],mu_array**6)\\\n",
    "    + f**4*np.outer(abc['u8f4'],mu_array**8)))\n",
    "                \n",
    "    return res"
   ]
  },
  {
   "cell_type": "code",
   "execution_count": 11,
   "metadata": {},
   "outputs": [],
   "source": [
    "# Effective volume\n",
    "nbar = 1e-3 #h^3/Mpc^3\n",
    "def Veff(mu_array,zc):\n",
    "    n = nbar\n",
    "    P = Ptns(mu_array,fg_fid_i(zc),b_fid,b2_fid,N_fid,sv_fid)\n",
    "    return Vsur(zc) / (P+1./n)**2"
   ]
  },
  {
   "cell_type": "markdown",
   "metadata": {},
   "source": [
    "## Define how to calculate the derivatives with respect to parameters we wish to vary"
   ]
  },
  {
   "cell_type": "code",
   "execution_count": 12,
   "metadata": {},
   "outputs": [],
   "source": [
    "#Construct the derivatives wrt the bias and EFT parameters\n",
    "\n",
    "#choose the step (convergent derivatives)\n",
    "params_step = 1e-5\n",
    "\n",
    "#Derivative wrt sv \n",
    "def dPtns_dsv(mu_array,f,D,b,b2,N,sv,\n",
    "             ps=ps_fid,abc=abc_fid,bias=bias_fid):\n",
    "    muones = mu**0.\n",
    "    k_array = ps['k']\n",
    "    \n",
    "    P_svp = Ptns(mu,fg_fid_i(zbin),b_fid,b2_fid,N_fid,\n",
    "                 sv_fid*(1+params_step),\n",
    "                 sigma80_fid*Dg_fid_i(zbin),ps=ps_fid,abc=abc_fid,bias=bias_fid) \n",
    "    P_svm = Ptns(mu,fg_fid_i(zbin),b_fid,b2_fid,N_fid,\n",
    "                 sv_fid*(1-params_step),\n",
    "                 sigma80_fid*Dg_fid_i(zbin),ps=ps_fid,abc=abc_fid,bias=bias_fid) \n",
    "    \n",
    "    deriv_sv = (P_svp - P_svm)/(2*sv_fid*params_step)\n",
    "    \n",
    "    return deriv_sv\n",
    "\n",
    "#Derivative wrt b\n",
    "def dPtns_db(mu_array,f,D,b,b2,N,sv,\n",
    "             ps=ps_fid,abc=abc_fid,bias=bias_fid):\n",
    "    muones = mu**0.\n",
    "    k_array = ps['k']\n",
    "    \n",
    "    P_bp = Ptns(mu,fg_fid_i(zbin),b_fid*(1+params_step),b2_fid,N_fid,\n",
    "                 sv_fid,\n",
    "                 sigma80_fid*Dg_fid_i(zbin),ps=ps_fid,abc=abc_fid,bias=bias_fid) \n",
    "    P_bm = Ptns(mu,fg_fid_i(zbin),b_fid*(1-params_step),b2_fid,N_fid,\n",
    "                 sv_fid,\n",
    "                 sigma80_fid*Dg_fid_i(zbin),ps=ps_fid,abc=abc_fid,bias=bias_fid) \n",
    "    \n",
    "    deriv_b = (P_bp - P_bm)/(2*b_fid*params_step)\n",
    "    \n",
    "    return deriv_b\n",
    "    \n",
    "    \n",
    "#Derivative wrt b2\n",
    "def dPtns_db2(mu_array,f,D,b,b2,N,sv,\n",
    "              ps=ps_fid,abc=abc_fid,bias=bias_fid):\n",
    "    muones = mu**0.\n",
    "    k_array = ps['k']\n",
    "    \n",
    "    P_b2p = Ptns(mu,fg_fid_i(zbin),b_fid,b2_fid*(1+params_step),N_fid,\n",
    "                 sv_fid,\n",
    "                 sigma80_fid*Dg_fid_i(zbin),ps=ps_fid,abc=abc_fid,bias=bias_fid) \n",
    "    P_b2m = Ptns(mu,fg_fid_i(zbin),b_fid,b2_fid*(1-params_step),N_fid,\n",
    "                 sv_fid,\n",
    "                 sigma80_fid*Dg_fid_i(zbin),ps=ps_fid,abc=abc_fid,bias=bias_fid) \n",
    "    \n",
    "    deriv_b2 = (P_b2p - P_b2m)/(2*b2_fid*params_step)\n",
    "    \n",
    "    \n",
    "    return deriv_b2\n",
    "\n",
    "#Derivative wrt N\n",
    "def dPtns_dN(mu_array,f,D,b,b2,N,sv,\n",
    "             ps=ps_fid,abc=abc_fid,bias=bias_fid):\n",
    "    muones = mu**0.\n",
    "    k_array = ps['k']\n",
    "    \n",
    "    P_Np = Ptns(mu,fg_fid_i(zbin),b_fid,b2_fid,N_fid*(1+params_step),\n",
    "                 sv_fid,\n",
    "                 sigma80_fid*Dg_fid_i(zbin),ps=ps_fid,abc=abc_fid,bias=bias_fid) \n",
    "    P_Nm = Ptns(mu,fg_fid_i(zbin),b_fid,b2_fid,N_fid*(1-params_step),\n",
    "                 sv_fid,\n",
    "                 sigma80_fid*Dg_fid_i(zbin),ps=ps_fid,abc=abc_fid,bias=bias_fid) \n",
    "    \n",
    "    deriv_N = (P_Np - P_Nm)/(2*N_fid*params_step)\n",
    "            \n",
    "    return deriv_N\n",
    "\n",
    "#Derivative wrt f\n",
    "def dPtns_df(mu_array,f,D,b,b2,N,sv,\n",
    "             ps=ps_fid,abc=abc_fid,bias=bias_fid):\n",
    "    muones = mu**0.\n",
    "    k_array = ps['k']\n",
    "    \n",
    "    P_fp = Ptns(mu,fg_fid_i(zbin)*(1+params_step),b_fid,b2_fid,N_fid,\n",
    "                 sv_fid,\n",
    "                 sigma80_fid*Dg_fid_i(zbin),ps=ps_fid,abc=abc_fid,bias=bias_fid) \n",
    "    P_fm = Ptns(mu,fg_fid_i(zbin)*(1-params_step),b_fid,b2_fid,N_fid,\n",
    "                 sv_fid,\n",
    "                 sigma80_fid*Dg_fid_i(zbin),ps=ps_fid,abc=abc_fid,bias=bias_fid) \n",
    "    \n",
    "    deriv_f = (P_fp - P_fm)/(2*fg_fid_i(zbin)*params_step)\n",
    "            \n",
    "    return deriv_f"
   ]
  },
  {
   "cell_type": "markdown",
   "metadata": {},
   "source": [
    "## Set up the Fisher matrix calculation and run to loop to calculate its elements"
   ]
  },
  {
   "cell_type": "code",
   "execution_count": 13,
   "metadata": {},
   "outputs": [],
   "source": [
    "#for i in range(1,299):\n",
    "#    print(ps_fid['k'][i+1]-ps_fid['k'][i])\n",
    "\n",
    "k_step = ps_fid['k'][6] - ps_fid['k'][5] \n",
    "dkdmu = k_step*mu_step\n",
    "\n",
    "# k values range to include in the constraints calculation\n",
    "k_index = (ps_fid['k']<=kmax)*(ps_fid['k']>kmin)"
   ]
  },
  {
   "cell_type": "code",
   "execution_count": 14,
   "metadata": {},
   "outputs": [
    {
     "name": "stdout",
     "output_type": "stream",
     "text": [
      "[]\n"
     ]
    }
   ],
   "source": [
    "# This dictionary contains all the parameters that can be varied in this code.\n",
    "derivs = {\n",
    "    'sv' : lambda z,m: dPtns_dsv(m,fg_fid_i(z),Dg_fid_i(z),b_fid,b2_fid,N_fid,sv_fid),\n",
    "    'b'  : lambda z,m: dPtns_db(m,fg_fid_i(z),Dg_fid_i(z),b_fid,b2_fid,N_fid,sv_fid),\n",
    "    'b2' : lambda z,m: dPtns_db2(m,fg_fid_i(z),Dg_fid_i(z),b_fid,b2_fid,N_fid,sv_fid),\n",
    "    'N'  : lambda z,m: dPtns_dN(m,fg_fid_i(z),Dg_fid_i(z),b_fid,b2_fid,N_fid,sv_fid),\n",
    "    'f'  : lambda z,m: dPtns_df(m,fg_fid_i(z),Dg_fid_i(z),b_fid,b2_fid,N_fid,sv_fid)\n",
    "}\n",
    "            \n",
    "# Which should depend on redshift\n",
    "zdep = 'sv','b','b2','N','f'\n",
    "\n",
    "# Which ones are independent of redshift and should appear in the FM once (sum over z contributions)\n",
    "# We do not consider shape parameters or multiple z-bins in this work, but this would be useful for future extentions\n",
    "zidep = [i for i in derivs.keys() if i not in zdep]\n",
    "print (zidep)"
   ]
  },
  {
   "cell_type": "code",
   "execution_count": 15,
   "metadata": {},
   "outputs": [],
   "source": [
    "# Auxiliary bits needed for Fisher matrix calculation\n",
    "\n",
    "# Create array of zeros for the final FM\n",
    "Nzdep = len(set(zdep)&set(varypars))\n",
    "Npar = len(varypars)\n",
    "s = Nzdep*Nzbin + (Npar-Nzdep)\n",
    "Fishermat = np.zeros([s,s])\n",
    "\n",
    "# Fisher matrix integrand - to be integrated over k and mu arrays\n",
    "def dF(mu_array,zc):\n",
    "    k_array = ps_fid['k']\n",
    "    tmp = deriv_i(mu_array,zc)*deriv_j(mu_array,zc)*Veff(mu_array,zc)\n",
    "    return (1./(8*np.pi*np.pi))*pow(k_array,2)*tmp.T"
   ]
  },
  {
   "cell_type": "code",
   "execution_count": 16,
   "metadata": {},
   "outputs": [],
   "source": [
    "#%%time \n",
    "\n",
    "# Save the indexing for posterity\n",
    "fm_index = {'sv':[],'b' :[],'b2':[],'N' :[],'f' :[]}\n",
    "\n",
    "fm_head = []\n",
    "\n",
    "# Loop over redshift bins\n",
    "for iz, zc in enumerate(z_vals):\n",
    "    \n",
    "    # First loop over parameters (rows of the FM)\n",
    "    for i, pi in enumerate(varypars): \n",
    "        \n",
    "        # Calculate row index for the Fisher matrix\n",
    "        if pi in zdep:\n",
    "            zind = iz*Nzdep + i\n",
    "        else:\n",
    "            zind = Nzbin*Nzdep + (i-Nzdep)\n",
    "                \n",
    "        # Set the i derivative in dF to correspond to the row parameter\n",
    "        def deriv_i(mu_array,zc): return derivs[pi](zc,mu_array)\n",
    "\n",
    "        # Second loop over parameters (columns of the FM)\n",
    "        for j, pj in enumerate(varypars):\n",
    "            \n",
    "            # Calculate column index for the Fisher matrix\n",
    "            if pj in zdep:\n",
    "                zjnd = iz*Nzdep + j\n",
    "            else:\n",
    "                zjnd = Nzbin*Nzdep + (j-Nzdep)\n",
    "            \n",
    "            # If not done yet, set the j derivative in dF to correspond to the column parameter\n",
    "            if j>=i:\n",
    "                \n",
    "                def deriv_j(mu_array,zc): return derivs[pj](zc,mu_array)\n",
    "                \n",
    "                fm = dF(mu,zc)[:,k_index]\n",
    "                Fishermat[zind,zjnd] += np.sum(np.sum(fm))*dkdmu\n",
    "            \n",
    "            # Otherwise just take the symmetric value\n",
    "            else: \n",
    "                Fishermat[zind,zjnd] = Fishermat[zjnd,zind]\n",
    "        \n",
    "        # Finally, save the index in the FM (same redshift order as z_vals)\n",
    "        fm_index[pi].append(zind) # Only doing i, since it is symmetric\n",
    "        \n",
    "        # Save also the order of the colmns/rows\n",
    "        headstr = pi\n",
    "        if pi in zdep: headstr+='_'+str(zc)\n",
    "        fm_head.append(headstr)"
   ]
  },
  {
   "cell_type": "markdown",
   "metadata": {},
   "source": [
    "## Print out results"
   ]
  },
  {
   "cell_type": "code",
   "execution_count": 17,
   "metadata": {},
   "outputs": [
    {
     "data": {
      "application/javascript": [
       "IPython.OutputArea.prototype._should_scroll = function(lines) {\n",
       "    return false;\n",
       "}\n"
      ],
      "text/plain": [
       "<IPython.core.display.Javascript object>"
      ]
     },
     "metadata": {},
     "output_type": "display_data"
    }
   ],
   "source": [
    "%%javascript\n",
    "IPython.OutputArea.prototype._should_scroll = function(lines) {\n",
    "    return false;\n",
    "}"
   ]
  },
  {
   "cell_type": "code",
   "execution_count": 18,
   "metadata": {},
   "outputs": [],
   "source": [
    "# Create a fiducial value dictionary\n",
    "fids = {\n",
    "    'sv' : sv_fid*np.ones(Nzbin),   \n",
    "    'b'  : b_fid*np.ones(Nzbin),   \n",
    "    'b2' : b2_fid*np.ones(Nzbin),  \n",
    "    'N'  : N_fid*np.ones(Nzbin),   \n",
    "    'f'  : fg_fid_i(z_vals)\n",
    "}"
   ]
  },
  {
   "cell_type": "code",
   "execution_count": 19,
   "metadata": {},
   "outputs": [
    {
     "name": "stdout",
     "output_type": "stream",
     "text": [
      "Order of columns/rows:\n",
      "['sv_0.5', 'b_0.5', 'b2_0.5', 'N_0.5', 'f_0.5']\n",
      "\n",
      "Correlation matrix for parameters:\n",
      "\n",
      "[[ 1.     0.684  0.794 -0.777  0.727]\n",
      " [ 0.684  1.     0.958 -0.969  0.012]\n",
      " [ 0.794  0.958  1.    -0.999  0.184]\n",
      " [-0.777 -0.969 -0.999  1.    -0.155]\n",
      " [ 0.727  0.012  0.184 -0.155  1.   ]]\n"
     ]
    }
   ],
   "source": [
    "print ('Order of columns/rows:')\n",
    "print (fm_head)\n",
    "#print 'Fisher matrix:\\n',\n",
    "#print Fishermat\n",
    "\n",
    "# Invert the Fisher matrix to get the parameter covariance\n",
    "CovMat = np.linalg.inv(Fishermat)\n",
    "print ('\\nCorrelation matrix for parameters:\\n', )\n",
    "print (CovMat/np.sqrt(np.outer(np.diag(CovMat),np.diag(CovMat))))\n",
    "\n",
    "#print ('\\nCovariance matrix diagonal:\\n', )\n",
    "#print( np.diag(CovMat))"
   ]
  },
  {
   "cell_type": "code",
   "execution_count": 20,
   "metadata": {},
   "outputs": [],
   "source": [
    "#np.matmul(Fishermat,CovMat)"
   ]
  },
  {
   "cell_type": "code",
   "execution_count": 21,
   "metadata": {},
   "outputs": [
    {
     "name": "stdout",
     "output_type": "stream",
     "text": [
      "\n",
      "varying zdep = \n",
      "\t ['sv', 'b', 'b2', 'N', 'f']\n",
      "at z = 0.5 : zdep fiducials = \n",
      "\t [ 8.990e+00  1.506e+00  9.100e-02 -2.720e+02  7.332e-01]\n",
      "at z = 0.5 : marged err = \n",
      "\t [3.200e-01 2.206e-02 8.233e-01 9.302e+02 1.668e-02]\n",
      "at z = 0.5 : unmarged err = \n",
      "\t [2.866e-02 1.482e-03 1.094e-02 1.108e+01 2.307e-03]\n",
      "at z = 0.5 : marged % err = \n",
      "\t [  3.559   1.465 904.759 341.98    2.275]\n",
      "at z = 0.5 : unmarged % err = \n",
      "\t [ 0.319  0.098 12.027  4.075  0.315]\n"
     ]
    }
   ],
   "source": [
    "# Print the errors nicely\n",
    "Nvar  = len(varypars)\n",
    "\n",
    "varyshape = list(set(zidep)&set(varypars))\n",
    "if len(varyshape)>0:\n",
    "    shapeind = [fm_index[p][0] for p in varyshape]\n",
    "    shapefid = np.array([fids[p] for p in varyshape])\n",
    "    print ('\\nvarying shape = \\n\\t', varyshape)\n",
    "    print ('shape fiducials = \\n\\t', shapefid)\n",
    "    print ('unmarged err = \\n\\t', np.sqrt(1./np.diag(Fishermat))[shapeind])\n",
    "    print ('marged err = \\n\\t', np.sqrt(np.diag(CovMat))[shapeind])\n",
    "    print ('unmarged % err = \\n\\t', np.sqrt(1./np.diag(Fishermat))[shapeind]/np.abs(shapefid)*100)\n",
    "    print ('marged % err = \\n\\t', np.sqrt(np.diag(CovMat))[shapeind]/np.abs(shapefid)*100)\n",
    "\n",
    "#varyzdep = list(set(varypars)&set(zdep))\n",
    "varyzdep = varypars\n",
    "\n",
    "zdepfid = np.array([fids[p] for p in varyzdep])\n",
    "print ('\\nvarying zdep = \\n\\t', varyzdep)\n",
    "if len(varyzdep)>0:\n",
    "    for iz, z in enumerate(z_vals):\n",
    "        zdepind = np.array([fm_index[p] for p in varyzdep])\n",
    "        print ('at z =',z,': zdep fiducials = \\n\\t', zdepfid[:,iz])\n",
    "        merrs = np.sqrt(np.diag(CovMat))[zdepind[:,iz]]\n",
    "        print ('at z =',z,': marged err = \\n\\t', merrs)\n",
    "        uerrs = np.sqrt(1./np.diag(Fishermat))[zdepind[:,iz]]\n",
    "        print ('at z =',z,': unmarged err = \\n\\t', uerrs)\n",
    "        print ('at z =',z,': marged % err = \\n\\t', merrs/np.abs(zdepfid[:,iz])*100.)\n",
    "        print ('at z =',z,': unmarged % err = \\n\\t', uerrs/np.abs(zdepfid[:,iz])*100.)"
   ]
  },
  {
   "cell_type": "code",
   "execution_count": 22,
   "metadata": {},
   "outputs": [
    {
     "data": {
      "image/png": "[encoded data removed]",
      "text/plain": [
       "<Figure size 432x288 with 2 Axes>"
      ]
     },
     "metadata": {},
     "output_type": "display_data"
    }
   ],
   "source": [
    "import pandas as pd\n",
    "import seaborn as sns; sns.set()\n",
    "sns.set(font_scale=1.6)\n",
    "\n",
    "fig = plt.figure(figsize=(6,4))\n",
    "df = pd.DataFrame(CovMat/np.sqrt(np.outer(np.diag(CovMat),np.diag(CovMat))))\n",
    "df.rename(columns={0:'$\\sigma_v$',1:'$b_1$',2:'$b_2$',3:'$N$',4:'$f$'}, inplace=True)\n",
    "df.rename(index={0:'$\\sigma_v$',1:'$b_1$',2:'$b_2$',3:'$N$',4:'$f$'}, inplace=True)\n",
    "ax = sns.heatmap(df, cmap=\"PiYG\", vmin=-1, vmax=1, annot=True)\n",
    "\n",
    "ax.set_title('$\\mathrm{TNS \\, Lor}, z=0.5$')\n",
    "#plt.savefig('corr-mat-tns-zeq0p5.pdf', format=\"pdf\", bbox_inches = 'tight')\n",
    "\n",
    "plt.show()"
   ]
  },
  {
   "cell_type": "code",
   "execution_count": 23,
   "metadata": {},
   "outputs": [
    {
     "data": {
      "text/html": [
       "<div>\n",
       "<style scoped>\n",
       "    .dataframe tbody tr th:only-of-type {\n",
       "        vertical-align: middle;\n",
       "    }\n",
       "\n",
       "    .dataframe tbody tr th {\n",
       "        vertical-align: top;\n",
       "    }\n",
       "\n",
       "    .dataframe thead th {\n",
       "        text-align: right;\n",
       "    }\n",
       "</style>\n",
       "<table border=\"1\" class=\"dataframe\">\n",
       "  <thead>\n",
       "    <tr style=\"text-align: right;\">\n",
       "      <th></th>\n",
       "      <th>$\\sigma_v$</th>\n",
       "      <th>$b_1$</th>\n",
       "      <th>$b_2$</th>\n",
       "      <th>$N$</th>\n",
       "      <th>$f$</th>\n",
       "    </tr>\n",
       "  </thead>\n",
       "  <tbody>\n",
       "    <tr>\n",
       "      <th>$\\sigma_v$</th>\n",
       "      <td>1.00000</td>\n",
       "      <td>0.68363</td>\n",
       "      <td>0.79391</td>\n",
       "      <td>-0.77744</td>\n",
       "      <td>0.72693</td>\n",
       "    </tr>\n",
       "    <tr>\n",
       "      <th>$b_1$</th>\n",
       "      <td>0.68363</td>\n",
       "      <td>1.00000</td>\n",
       "      <td>0.95813</td>\n",
       "      <td>-0.96935</td>\n",
       "      <td>0.01225</td>\n",
       "    </tr>\n",
       "    <tr>\n",
       "      <th>$b_2$</th>\n",
       "      <td>0.79391</td>\n",
       "      <td>0.95813</td>\n",
       "      <td>1.00000</td>\n",
       "      <td>-0.99897</td>\n",
       "      <td>0.18416</td>\n",
       "    </tr>\n",
       "    <tr>\n",
       "      <th>$N$</th>\n",
       "      <td>-0.77744</td>\n",
       "      <td>-0.96935</td>\n",
       "      <td>-0.99897</td>\n",
       "      <td>1.00000</td>\n",
       "      <td>-0.15464</td>\n",
       "    </tr>\n",
       "    <tr>\n",
       "      <th>$f$</th>\n",
       "      <td>0.72693</td>\n",
       "      <td>0.01225</td>\n",
       "      <td>0.18416</td>\n",
       "      <td>-0.15464</td>\n",
       "      <td>1.00000</td>\n",
       "    </tr>\n",
       "  </tbody>\n",
       "</table>\n",
       "</div>"
      ],
      "text/plain": [
       "            $\\sigma_v$    $b_1$    $b_2$      $N$      $f$\n",
       "$\\sigma_v$     1.00000  0.68363  0.79391 -0.77744  0.72693\n",
       "$b_1$          0.68363  1.00000  0.95813 -0.96935  0.01225\n",
       "$b_2$          0.79391  0.95813  1.00000 -0.99897  0.18416\n",
       "$N$           -0.77744 -0.96935 -0.99897  1.00000 -0.15464\n",
       "$f$            0.72693  0.01225  0.18416 -0.15464  1.00000"
      ]
     },
     "execution_count": 23,
     "metadata": {},
     "output_type": "execute_result"
    }
   ],
   "source": [
    "round(df,5)"
   ]
  },
  {
   "cell_type": "markdown",
   "metadata": {},
   "source": [
    "## Add Gaussian priors on parameters."
   ]
  },
  {
   "cell_type": "code",
   "execution_count": 24,
   "metadata": {},
   "outputs": [
    {
     "name": "stdout",
     "output_type": "stream",
     "text": [
      "sv index 0\n",
      "b index 1\n",
      "N index 3\n",
      "combined marged [1.965e-01 5.426e-03 4.417e-02 2.719e+01 1.610e-02]\n",
      "\n",
      "Correlation coefficients after adding parameters priors:\n",
      "[[ 1.    -0.436  0.518 -0.035  0.975]\n",
      " [-0.436  1.    -0.699 -0.116 -0.557]\n",
      " [ 0.518 -0.699  1.    -0.544  0.55 ]\n",
      " [-0.035 -0.116 -0.544  1.    -0.003]\n",
      " [ 0.975 -0.557  0.55  -0.003  1.   ]]\n"
     ]
    }
   ],
   "source": [
    "Priormat = Fishermat*0.\n",
    "Prior_errors = {\n",
    "    'sv' : (sv_fid/100)*10,\n",
    "    'b': (b_fid/100)*10, \n",
    "    #'b2': (b2_fid/100)*10, \n",
    "    'N': (abs(N_fid)/100)*10\n",
    "}\n",
    "for p in Prior_errors.keys():\n",
    "    if p not in varyzdep: continue\n",
    "    print (p, 'index', fm_index[p][0])\n",
    "    Priormat[fm_index[p][0],fm_index[p][0]] = 1./Prior_errors[p]**2\n",
    "\n",
    "Fishermat_comb = Fishermat+Priormat\n",
    "CovMat_comb = np.linalg.inv(Fishermat+Priormat)\n",
    "print ('combined marged',  np.sqrt(np.diag(CovMat_comb)))\n",
    "\n",
    "print ('\\nCorrelation coefficients after adding parameters priors:')\n",
    "print (CovMat_comb/np.sqrt(np.outer(np.diag(CovMat_comb),np.diag(CovMat_comb))))"
   ]
  },
  {
   "cell_type": "code",
   "execution_count": 25,
   "metadata": {},
   "outputs": [
    {
     "data": {
      "image/png": "[encoded data removed]",
      "text/plain": [
       "<Figure size 432x288 with 2 Axes>"
      ]
     },
     "metadata": {},
     "output_type": "display_data"
    }
   ],
   "source": [
    "import pandas as pd\n",
    "import seaborn as sns; sns.set()\n",
    "sns.set(font_scale=1.6)\n",
    "\n",
    "fig = plt.figure(figsize=(6,4))\n",
    "df = pd.DataFrame(CovMat_comb/np.sqrt(np.outer(np.diag(CovMat_comb),np.diag(CovMat_comb))))\n",
    "df.rename(columns={0:'$\\sigma_v$',1:'$b_1$',2:'$b_2$',3:'$N$',4:'$f$'}, inplace=True)\n",
    "df.rename(index={0:'$\\sigma_v$',1:'$b_1$',2:'$b_2$',3:'$N$',4:'$f$'}, inplace=True)\n",
    "ax = sns.heatmap(df, cmap=\"PiYG\", vmin=-1, vmax=1, annot=True)\n",
    "\n",
    "ax.set_title('$\\mathrm{TNS \\, Lor}, z=0.5, \\mathrm{\\, with \\, priors}$')\n",
    "#plt.savefig('corr-mat-tns-zeq0p5-priors.pdf', format=\"pdf\", bbox_inches = 'tight')\n",
    "\n",
    "plt.show()"
   ]
  },
  {
   "cell_type": "code",
   "execution_count": 26,
   "metadata": {},
   "outputs": [
    {
     "data": {
      "text/html": [
       "<div>\n",
       "<style scoped>\n",
       "    .dataframe tbody tr th:only-of-type {\n",
       "        vertical-align: middle;\n",
       "    }\n",
       "\n",
       "    .dataframe tbody tr th {\n",
       "        vertical-align: top;\n",
       "    }\n",
       "\n",
       "    .dataframe thead th {\n",
       "        text-align: right;\n",
       "    }\n",
       "</style>\n",
       "<table border=\"1\" class=\"dataframe\">\n",
       "  <thead>\n",
       "    <tr style=\"text-align: right;\">\n",
       "      <th></th>\n",
       "      <th>$\\sigma_v$</th>\n",
       "      <th>$b_1$</th>\n",
       "      <th>$b_2$</th>\n",
       "      <th>$N$</th>\n",
       "      <th>$f$</th>\n",
       "    </tr>\n",
       "  </thead>\n",
       "  <tbody>\n",
       "    <tr>\n",
       "      <th>$\\sigma_v$</th>\n",
       "      <td>1.00000</td>\n",
       "      <td>-0.43646</td>\n",
       "      <td>0.51805</td>\n",
       "      <td>-0.03530</td>\n",
       "      <td>0.97471</td>\n",
       "    </tr>\n",
       "    <tr>\n",
       "      <th>$b_1$</th>\n",
       "      <td>-0.43646</td>\n",
       "      <td>1.00000</td>\n",
       "      <td>-0.69895</td>\n",
       "      <td>-0.11581</td>\n",
       "      <td>-0.55720</td>\n",
       "    </tr>\n",
       "    <tr>\n",
       "      <th>$b_2$</th>\n",
       "      <td>0.51805</td>\n",
       "      <td>-0.69895</td>\n",
       "      <td>1.00000</td>\n",
       "      <td>-0.54350</td>\n",
       "      <td>0.54996</td>\n",
       "    </tr>\n",
       "    <tr>\n",
       "      <th>$N$</th>\n",
       "      <td>-0.03530</td>\n",
       "      <td>-0.11581</td>\n",
       "      <td>-0.54350</td>\n",
       "      <td>1.00000</td>\n",
       "      <td>-0.00304</td>\n",
       "    </tr>\n",
       "    <tr>\n",
       "      <th>$f$</th>\n",
       "      <td>0.97471</td>\n",
       "      <td>-0.55720</td>\n",
       "      <td>0.54996</td>\n",
       "      <td>-0.00304</td>\n",
       "      <td>1.00000</td>\n",
       "    </tr>\n",
       "  </tbody>\n",
       "</table>\n",
       "</div>"
      ],
      "text/plain": [
       "            $\\sigma_v$    $b_1$    $b_2$      $N$      $f$\n",
       "$\\sigma_v$     1.00000 -0.43646  0.51805 -0.03530  0.97471\n",
       "$b_1$         -0.43646  1.00000 -0.69895 -0.11581 -0.55720\n",
       "$b_2$          0.51805 -0.69895  1.00000 -0.54350  0.54996\n",
       "$N$           -0.03530 -0.11581 -0.54350  1.00000 -0.00304\n",
       "$f$            0.97471 -0.55720  0.54996 -0.00304  1.00000"
      ]
     },
     "execution_count": 26,
     "metadata": {},
     "output_type": "execute_result"
    }
   ],
   "source": [
    "round(df,5)"
   ]
  },
  {
   "cell_type": "code",
   "execution_count": 27,
   "metadata": {},
   "outputs": [
    {
     "name": "stdout",
     "output_type": "stream",
     "text": [
      "\n",
      "varying zdep = \n",
      "\t ['sv', 'b', 'b2', 'N', 'f']\n",
      "at z = 0.5 : zdep fiducials = \n",
      "\t [ 8.990e+00  1.506e+00  9.100e-02 -2.720e+02  7.332e-01]\n",
      "at z = 0.5 : marged err = \n",
      "\t [1.965e-01 5.426e-03 4.417e-02 2.719e+01 1.610e-02]\n",
      "at z = 0.5 : unmarged err = \n",
      "\t [2.865e-02 1.482e-03 1.094e-02 1.026e+01 2.307e-03]\n",
      "at z = 0.5 : marged % err = \n",
      "\t [ 2.186  0.36  48.536  9.995  2.196]\n",
      "at z = 0.5 : unmarged % err = \n",
      "\t [ 0.319  0.098 12.027  3.774  0.315]\n"
     ]
    }
   ],
   "source": [
    "# Print the errors nicely\n",
    "Nvar  = len(varypars)\n",
    "\n",
    "#varyzdep = list(set(varypars)&set(zdep))\n",
    "varyzdep = varypars\n",
    "\n",
    "zdepfid = np.array([fids[p] for p in varyzdep])\n",
    "print ('\\nvarying zdep = \\n\\t', varyzdep)\n",
    "if len(varyzdep)>0:\n",
    "    for iz, z in enumerate(z_vals):\n",
    "        zdepind = np.array([fm_index[p] for p in varyzdep])\n",
    "        print ('at z =',z,': zdep fiducials = \\n\\t', zdepfid[:,iz])\n",
    "        merrs = np.sqrt(np.diag(CovMat_comb))[zdepind[:,iz]]\n",
    "        print ('at z =',z,': marged err = \\n\\t', merrs)\n",
    "        uerrs = np.sqrt(1./np.diag(Fishermat_comb))[zdepind[:,iz]]\n",
    "        print ('at z =',z,': unmarged err = \\n\\t', uerrs)\n",
    "        print ('at z =',z,': marged % err = \\n\\t', merrs/np.abs(zdepfid[:,iz])*100.)\n",
    "        print ('at z =',z,': unmarged % err = \\n\\t', uerrs/np.abs(zdepfid[:,iz])*100.)"
   ]
  },
  {
   "cell_type": "markdown",
   "metadata": {},
   "source": [
    "## Draw Ellipses"
   ]
  },
  {
   "cell_type": "code",
   "execution_count": 28,
   "metadata": {},
   "outputs": [
    {
     "data": {
      "image/png": "[encoded data removed]",
      "text/plain": [
       "<Figure size 504x504 with 1 Axes>"
      ]
     },
     "metadata": {},
     "output_type": "display_data"
    }
   ],
   "source": [
    "sns.set_style(\"ticks\")\n",
    "\n",
    "# Choose what to plot\n",
    "zi = 0; par0 = 'f'; par1 = 'sv';\n",
    "\n",
    "# Get the indices in the Covariance Matrix of the two parameters we want to plot\n",
    "p0i = varyzdep.index(par0); index0 = zdepind[:,zi] # change this to shapeind if using shape!\n",
    "p1i = varyzdep.index(par1); index1 = zdepind[:,zi] # change this to shapeind if using shape!\n",
    "\n",
    "# Get the fiducial values for the ellipse centre\n",
    "c0 = fids[par0][zi] # remove the [zi] if par0 is a shape parameter!\n",
    "c1 = fids[par1][zi] # remove the [zi] if par1 is a shape parameter!\n",
    "\n",
    "# Marginalise out everything else and make a new 2x2 Covariance Matrix\n",
    "marg_all = True\n",
    "if marg_all:\n",
    "    covmat_2D = np.zeros((2,2))\n",
    "    covmat_2D[0,0] = CovMat[index0[p0i],index0[p0i]]\n",
    "    covmat_2D[1,1] = CovMat[index1[p1i],index1[p1i]]\n",
    "    covmat_2D[0,1] = CovMat[index0[p0i],index1[p1i]]\n",
    "    covmat_2D[1,0] = covmat_2D[0,1]\n",
    "    \n",
    "    \n",
    "else:\n",
    "    fishmat_2D = np.zeros((2,2))\n",
    "    fishmat_2D[0,0] = Fishermat[index0[p0i],index0[p0i]]\n",
    "    fishmat_2D[1,1] = Fishermat[index1[p1i],index1[p1i]]\n",
    "    fishmat_2D[0,1] = Fishermat[index0[p0i],index1[p1i]]\n",
    "    fishmat_2D[1,0] = fishmat_2D[0,1]\n",
    "    covmat_2D = np.linalg.inv(fishmat_2D)\n",
    "    del fishmat_2D\n",
    "\n",
    "def get_ellipses(centre,CM_2D):\n",
    "    # We will need coefficients for the ellipse depending on the number of sigma level we want\n",
    "    CL_alpha = {\n",
    "        1: 1.52, \n",
    "        2: 2.48,\n",
    "        3: 3.44\n",
    "    }\n",
    "\n",
    "    # Get the errors\n",
    "    FM_2D = np.linalg.inv(CM_2D)\n",
    "    em0 = np.sqrt(CM_2D[0,0])\n",
    "    eu0 = np.sqrt(1./FM_2D[0,0])\n",
    "    em1 = np.sqrt(CM_2D[1,1])\n",
    "    eu1 = np.sqrt(1./FM_2D[1,1])\n",
    "\n",
    "    #print par0, eu0, em0\n",
    "    #print par1, eu1, em1\n",
    "\n",
    "    # Now calculate the ellipse parameters\n",
    "    a = np.sqrt(0.5*(CM_2D[0,0]+CM_2D[1,1]) + np.sqrt(0.25*(CM_2D[0,0]-CM_2D[1,1])**2 + CM_2D[0,1]**2))\n",
    "    b = np.sqrt(0.5*(CM_2D[0,0]+CM_2D[1,1]) - np.sqrt(0.25*(CM_2D[0,0]-CM_2D[1,1])**2 + CM_2D[0,1]**2))\n",
    "    theta = 180./np.pi * 0.5*np.arctan(2.*CM_2D[0,1] / (CM_2D[0,0]-CM_2D[1,1])) # should be in degrees\n",
    "\n",
    "    if CM_2D[0,0]<CM_2D[1,1]:\n",
    "        width=2.*b\n",
    "        height=2.*a\n",
    "    else:\n",
    "        width=2.*a\n",
    "        height=2.*b\n",
    "\n",
    "    # Create all the ellipses\n",
    "    ellipse1 = Ellipse([centre[0],centre[1]], width*CL_alpha[1], height*CL_alpha[1], theta, \n",
    "                       linewidth=0, fill=True, zorder=2, alpha=0.7, color='green')\n",
    "    ellipse2 = Ellipse([centre[0],centre[1]], width*CL_alpha[2], height*CL_alpha[2], theta, \n",
    "                       linewidth=0, fill=True, zorder=2, alpha=0.2, color='green')\n",
    "\n",
    "    return ellipse1, ellipse2, CL_alpha[1]*em0, CL_alpha[1]*em1, CL_alpha[1]*eu0, CL_alpha[1]*eu1\n",
    "\n",
    "# Make a test plot\n",
    "ell1, ell2, errm0, errm1, erru0, erru1 = get_ellipses([c0,c1],covmat_2D)\n",
    "\n",
    "fig, ax = plt.subplots(figsize=(7,7))\n",
    "\n",
    "ax.axhline(c1,ls='--',c='k',lw=1); ax.axvline(c0,ls='--',c='k',lw=1) # Centre lines\n",
    "#ax.axvline(c0-errm0,ls=':',c='g',lw=1); ax.axvline(c0+errm0,ls=':',c='g',lw=1) # Marginalised error lines par0\n",
    "#ax.axvline(c0-erru0,ls=':',c='c',lw=1); ax.axvline(c0+erru0,ls=':',c='c',lw=1) # Marginalised error lines par0\n",
    "#ax.axhline(c1-errm1,ls=':',c='g',lw=1); ax.axhline(c1+errm1,ls=':',c='g',lw=1) # Marginalised error lines par1\n",
    "#ax.axhline(c1-erru1,ls=':',c='c',lw=1); ax.axhline(c1+erru1,ls=':',c='c',lw=1) # Marginalised error lines par1\n",
    "\n",
    "ax.add_artist(ell1)\n",
    "ax.add_artist(ell2)\n",
    "ax.set_xlim(c0-errm0*2.1, c0+errm0*2.1)\n",
    "ax.set_ylim(c1-errm1*2.1, c1+errm1*2.1)\n",
    "ax.tick_params(color='black')\n",
    "ax.set_facecolor('none')\n",
    "#ax.axis('off')\n",
    "\n",
    "plt.xlabel(par0+'(z='+str(z_vals[zi])+')')\n",
    "plt.ylabel(par1+'(z='+str(z_vals[zi])+')')\n",
    "\n",
    "#plt.savefig('test.png', format=\"png\", bbox_inches = 'tight')\n",
    "plt.show()"
   ]
  },
  {
   "cell_type": "code",
   "execution_count": 29,
   "metadata": {},
   "outputs": [
    {
     "data": {
      "image/png": "[encoded data removed]",
      "text/plain": [
       "<Figure size 504x504 with 1 Axes>"
      ]
     },
     "metadata": {},
     "output_type": "display_data"
    }
   ],
   "source": [
    "sns.set_style(\"ticks\")\n",
    "\n",
    "# Choose what to plot\n",
    "zi = 0; par0 = 'f'; par1 = 'sv';\n",
    "\n",
    "# Get the indices in the Covariance Matrix of the two parameters we want to plot\n",
    "p0i = varyzdep.index(par0); index0 = zdepind[:,zi] # change this to shapeind if using shape!\n",
    "p1i = varyzdep.index(par1); index1 = zdepind[:,zi] # change this to shapeind if using shape!\n",
    "\n",
    "# Get the fiducial values for the ellipse centre\n",
    "c0 = fids[par0][zi] # remove the [zi] if par0 is a shape parameter!\n",
    "c1 = fids[par1][zi] # remove the [zi] if par1 is a shape parameter!\n",
    "\n",
    "# Marginalise out everything else and make a new 2x2 Covariance Matrix\n",
    "marg_all = True\n",
    "if marg_all:\n",
    "    covmat_2D_comb = np.zeros((2,2))\n",
    "    covmat_2D_comb[0,0] = CovMat_comb[index0[p0i],index0[p0i]]\n",
    "    covmat_2D_comb[1,1] = CovMat_comb[index1[p1i],index1[p1i]]\n",
    "    covmat_2D_comb[0,1] = CovMat_comb[index0[p0i],index1[p1i]]\n",
    "    covmat_2D_comb[1,0] = covmat_2D_comb[0,1]\n",
    "    \n",
    "else:\n",
    "    fishmat_2D_comb = np.zeros((2,2))\n",
    "    fishmat_2D_comb[0,0] = Fishermat_comb[index0[p0i],index0[p0i]]\n",
    "    fishmat_2D_comb[1,1] = Fishermat_comb[index1[p1i],index1[p1i]]\n",
    "    fishmat_2D_comb[0,1] = Fishermat_comb[index0[p0i],index1[p1i]]\n",
    "    fishmat_2D_comb[1,0] = fishmat_2D_comb[0,1]\n",
    "    covmat_2D_comb = np.linalg.inv(fishmat_2D_comb)\n",
    "    del fishmat_2D_comb\n",
    "\n",
    "def get_ellipses(centre,CM_2D,sty={'w':0,'s':'-','f':True,'a':0.7,'c':'green'}):\n",
    "    # We will need coefficients for the ellipse depending on the number of sigma level we want\n",
    "    CL_alpha = {\n",
    "        1: 1.52, \n",
    "        2: 2.48,\n",
    "        3: 3.44\n",
    "    }\n",
    "\n",
    "    # Get the errors\n",
    "    FM_2D = np.linalg.inv(CM_2D)\n",
    "    em0 = np.sqrt(CM_2D[0,0])\n",
    "    eu0 = np.sqrt(1./FM_2D[0,0])\n",
    "    em1 = np.sqrt(CM_2D[1,1])\n",
    "    eu1 = np.sqrt(1./FM_2D[1,1])\n",
    "\n",
    "    #print par0, eu0, em0\n",
    "    #print par1, eu1, em1\n",
    "\n",
    "    # Now calculate the ellipse parameters\n",
    "    a = np.sqrt(0.5*(CM_2D[0,0]+CM_2D[1,1]) + np.sqrt(0.25*(CM_2D[0,0]-CM_2D[1,1])**2 + CM_2D[0,1]**2))\n",
    "    b = np.sqrt(0.5*(CM_2D[0,0]+CM_2D[1,1]) - np.sqrt(0.25*(CM_2D[0,0]-CM_2D[1,1])**2 + CM_2D[0,1]**2))\n",
    "    theta = 180./np.pi * 0.5*np.arctan(2.*CM_2D[0,1] / (CM_2D[0,0]-CM_2D[1,1])) # should be in degrees\n",
    "\n",
    "    if CM_2D[0,0]<CM_2D[1,1]:\n",
    "        width=2.*b\n",
    "        height=2.*a\n",
    "    else:\n",
    "        width=2.*a\n",
    "        height=2.*b\n",
    "\n",
    "    # Create all the ellipses   linestyles = ['-', '--'\n",
    "    ellipse1 = Ellipse([centre[0],centre[1]], width*CL_alpha[1], height*CL_alpha[1], theta, \n",
    "                       linewidth=sty['w'], ls = sty['s'], fill=sty['f'], zorder=2, alpha=sty['a'], color=sty['c'])\n",
    "    leg1 = ellipse1.set(clip_box=ax.bbox, alpha=sty['a'], facecolor=sty['c'], edgecolor = 'black')\n",
    "    ellipse2 = Ellipse([centre[0],centre[1]], width*CL_alpha[2], height*CL_alpha[2], theta, \n",
    "                       linewidth=sty['w'], ls = sty['s'], fill=sty['f'], zorder=2, alpha=sty['a']/2, color=sty['c'])\n",
    "    leg2 = ellipse2.set(clip_box=ax.bbox, alpha=sty['a']/2, facecolor=sty['c'], edgecolor = 'black')\n",
    "\n",
    "    return ellipse1, ellipse2, CL_alpha[1]*em0, CL_alpha[1]*em1, CL_alpha[1]*eu0, CL_alpha[1]*eu1, leg1, leg2\n",
    "\n",
    "# Make a test plot\n",
    "ell1, ell2, errm0, errm1, erru0, erru1, leg1, leg2 = get_ellipses([c0,c1],covmat_2D,\n",
    "                                                    {'w':2,'s':'-','f':True,'a':0.4,'c':'tab:green'}) #without priors\n",
    "ell1_p, ell2_p, errm0_p, errm1_p, erru0_p, erru1_p, leg1_p, leg2_p = get_ellipses([c0,c1],covmat_2D_comb,\n",
    "                                                    {'w':2,'s':'--','f':True,'a':0.9,'c':'tab:purple'}) #with priors\n",
    "ells = [ell1,ell2,ell1_p,ell2_p]\n",
    "fig, ax = plt.subplots(figsize=(7,7))\n",
    "\n",
    "#ax.axhline(c1,ls='--',c='k',lw=1); ax.axvline(c0,ls='--',c='k',lw=1) # Centre lines\n",
    "#ax.axvline(c0-errm0,ls=':',c='g',lw=1); ax.axvline(c0+errm0,ls=':',c='g',lw=1) # Marginalised error lines par0\n",
    "#ax.axvline(c0-erru0,ls=':',c='c',lw=1); ax.axvline(c0+erru0,ls=':',c='c',lw=1) # Marginalised error lines par0\n",
    "#ax.axhline(c1-errm1,ls=':',c='g',lw=1); ax.axhline(c1+errm1,ls=':',c='g',lw=1) # Marginalised error lines par1\n",
    "#ax.axhline(c1-erru1,ls=':',c='c',lw=1); ax.axhline(c1+erru1,ls=':',c='c',lw=1) # Marginalised error lines par1\n",
    "\n",
    "ax.add_artist(ell1)\n",
    "ax.add_artist(ell2)\n",
    "ax.add_artist(ell1_p)\n",
    "ax.add_artist(ell2_p)\n",
    "ax.set_xlim(c0-errm0*2.1, c0+errm0*2.1)\n",
    "ax.set_ylim(c1-errm1*2.1, c1+errm1*2.3)\n",
    "ax.tick_params(color='black')\n",
    "ax.set_facecolor('none')\n",
    "#ax.axis('off')\n",
    "\n",
    "#plt.xlabel(par0+'(z='+str(z_vals[zi])+')')\n",
    "#plt.ylabel(par1+'(z='+str(z_vals[zi])+')')\n",
    "plt.xlabel('$f(z=0.5)$')\n",
    "plt.ylabel('$\\sigma_v(z=0.5)$')\n",
    "\n",
    "ax.legend([ell1,ell1_p], [r'no prior',r'with $10\\%$ prior on $\\{\\sigma_v,b_1,N\\}$'],loc='upper left',frameon=False)\n",
    "\n",
    "#plt.savefig('contour-TNS-zeq0p5.pdf', format=\"pdf\", bbox_inches = 'tight')\n",
    "\n",
    "plt.show()"
   ]
  },
  {
   "cell_type": "markdown",
   "metadata": {
    "collapsed": true
   },
   "source": [
    "##### Alkistis & Dida, 2019"
   ]
  }
 ],
 "metadata": {
  "anaconda-cloud": {},
  "kernelspec": {
   "display_name": "Python 3",
   "language": "python",
   "name": "python3"
  },
  "language_info": {
   "codemirror_mode": {
    "name": "ipython",
    "version": 3
   },
   "file_extension": ".py",
   "mimetype": "text/x-python",
   "name": "python",
   "nbconvert_exporter": "python",
   "pygments_lexer": "ipython3",
   "version": "3.7.3"
  }
 },
 "nbformat": 4,
 "nbformat_minor": 1
}
